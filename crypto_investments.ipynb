{
 "cells": [
  {
   "cell_type": "markdown",
   "metadata": {},
   "source": [
    "# Module 10 Application\n",
    "\n",
    "## Challenge: Crypto Clustering\n",
    "\n",
    "In this Challenge, you’ll combine your financial Python programming skills with the new unsupervised learning skills that you acquired in this module.\n",
    "\n",
    "The CSV file provided for this challenge contains price change data of cryptocurrencies in different periods.\n",
    "\n",
    "The steps for this challenge are broken out into the following sections:\n",
    "\n",
    "* Import the Data (provided in the starter code)\n",
    "* Prepare the Data (provided in the starter code)\n",
    "* Find the Best Value for `k` Using the Original Data\n",
    "* Cluster Cryptocurrencies with K-means Using the Original Data\n",
    "* Optimize Clusters with Principal Component Analysis\n",
    "* Find the Best Value for `k` Using the PCA Data\n",
    "* Cluster the Cryptocurrencies with K-means Using the PCA Data\n",
    "* Visualize and Compare the Results"
   ]
  },
  {
   "cell_type": "markdown",
   "metadata": {},
   "source": [
    "### Import the Data\n",
    "\n",
    "This section imports the data into a new DataFrame. It follows these steps:\n",
    "\n",
    "1. Read  the “crypto_market_data.csv” file from the Resources folder into a DataFrame, and use `index_col=\"coin_id\"` to set the cryptocurrency name as the index. Review the DataFrame.\n",
    "\n",
    "2. Generate the summary statistics, and use HvPlot to visualize your data to observe what your DataFrame contains.\n",
    "\n",
    "\n",
    "> **Rewind:** The [Pandas`describe()`function](https://pandas.pydata.org/pandas-docs/stable/reference/api/pandas.DataFrame.describe.html) generates summary statistics for a DataFrame. "
   ]
  },
  {
   "cell_type": "code",
   "execution_count": 46,
   "metadata": {},
   "outputs": [],
   "source": [
    "# Import required libraries and dependencies\n",
    "import os\n",
    "import pandas as pd\n",
    "import hvplot.pandas\n",
    "from path import Path\n",
    "from sklearn.cluster import KMeans\n",
    "from sklearn.decomposition import PCA\n",
    "from sklearn.preprocessing import StandardScaler\n",
    "from bokeh.models.tools import HoverTool\n",
    "from bokeh.models.formatters import NumeralTickFormatter"
   ]
  },
  {
   "cell_type": "code",
   "execution_count": 47,
   "metadata": {},
   "outputs": [],
   "source": [
    "# Configuration\n",
    "\n",
    "os.environ['OMP_NUM_THREADS'] = '1'\n",
    "pd.options.display.float_format = '{:.5f}'.format"
   ]
  },
  {
   "cell_type": "code",
   "execution_count": 48,
   "metadata": {},
   "outputs": [
    {
     "data": {
      "text/html": [
       "<div>\n",
       "<style scoped>\n",
       "    .dataframe tbody tr th:only-of-type {\n",
       "        vertical-align: middle;\n",
       "    }\n",
       "\n",
       "    .dataframe tbody tr th {\n",
       "        vertical-align: top;\n",
       "    }\n",
       "\n",
       "    .dataframe thead th {\n",
       "        text-align: right;\n",
       "    }\n",
       "</style>\n",
       "<table border=\"1\" class=\"dataframe\">\n",
       "  <thead>\n",
       "    <tr style=\"text-align: right;\">\n",
       "      <th></th>\n",
       "      <th>price_change_percentage_24h</th>\n",
       "      <th>price_change_percentage_7d</th>\n",
       "      <th>price_change_percentage_14d</th>\n",
       "      <th>price_change_percentage_30d</th>\n",
       "      <th>price_change_percentage_60d</th>\n",
       "      <th>price_change_percentage_200d</th>\n",
       "      <th>price_change_percentage_1y</th>\n",
       "    </tr>\n",
       "    <tr>\n",
       "      <th>coin_id</th>\n",
       "      <th></th>\n",
       "      <th></th>\n",
       "      <th></th>\n",
       "      <th></th>\n",
       "      <th></th>\n",
       "      <th></th>\n",
       "      <th></th>\n",
       "    </tr>\n",
       "  </thead>\n",
       "  <tbody>\n",
       "    <tr>\n",
       "      <th>bitcoin</th>\n",
       "      <td>1.08388</td>\n",
       "      <td>7.60278</td>\n",
       "      <td>6.57509</td>\n",
       "      <td>7.67258</td>\n",
       "      <td>-3.25185</td>\n",
       "      <td>83.51840</td>\n",
       "      <td>37.51761</td>\n",
       "    </tr>\n",
       "    <tr>\n",
       "      <th>ethereum</th>\n",
       "      <td>0.22392</td>\n",
       "      <td>10.38134</td>\n",
       "      <td>4.80849</td>\n",
       "      <td>0.13169</td>\n",
       "      <td>-12.88890</td>\n",
       "      <td>186.77418</td>\n",
       "      <td>101.96023</td>\n",
       "    </tr>\n",
       "    <tr>\n",
       "      <th>tether</th>\n",
       "      <td>-0.21173</td>\n",
       "      <td>0.04935</td>\n",
       "      <td>0.00640</td>\n",
       "      <td>-0.04237</td>\n",
       "      <td>0.28037</td>\n",
       "      <td>-0.00542</td>\n",
       "      <td>0.01954</td>\n",
       "    </tr>\n",
       "    <tr>\n",
       "      <th>ripple</th>\n",
       "      <td>-0.37819</td>\n",
       "      <td>-0.60926</td>\n",
       "      <td>2.24984</td>\n",
       "      <td>0.23455</td>\n",
       "      <td>-17.55245</td>\n",
       "      <td>39.53888</td>\n",
       "      <td>-16.60193</td>\n",
       "    </tr>\n",
       "    <tr>\n",
       "      <th>bitcoin-cash</th>\n",
       "      <td>2.90585</td>\n",
       "      <td>17.09717</td>\n",
       "      <td>14.75334</td>\n",
       "      <td>15.74903</td>\n",
       "      <td>-13.71793</td>\n",
       "      <td>21.66042</td>\n",
       "      <td>14.49384</td>\n",
       "    </tr>\n",
       "    <tr>\n",
       "      <th>binancecoin</th>\n",
       "      <td>2.10423</td>\n",
       "      <td>12.85511</td>\n",
       "      <td>6.80688</td>\n",
       "      <td>0.05865</td>\n",
       "      <td>36.33486</td>\n",
       "      <td>155.61937</td>\n",
       "      <td>69.69195</td>\n",
       "    </tr>\n",
       "    <tr>\n",
       "      <th>chainlink</th>\n",
       "      <td>-0.23935</td>\n",
       "      <td>20.69459</td>\n",
       "      <td>9.30098</td>\n",
       "      <td>-11.21747</td>\n",
       "      <td>-43.69522</td>\n",
       "      <td>403.22917</td>\n",
       "      <td>325.13186</td>\n",
       "    </tr>\n",
       "    <tr>\n",
       "      <th>cardano</th>\n",
       "      <td>0.00322</td>\n",
       "      <td>13.99302</td>\n",
       "      <td>5.55476</td>\n",
       "      <td>10.10553</td>\n",
       "      <td>-22.84776</td>\n",
       "      <td>264.51418</td>\n",
       "      <td>156.09756</td>\n",
       "    </tr>\n",
       "    <tr>\n",
       "      <th>litecoin</th>\n",
       "      <td>-0.06341</td>\n",
       "      <td>6.60221</td>\n",
       "      <td>7.28931</td>\n",
       "      <td>1.21662</td>\n",
       "      <td>-17.23960</td>\n",
       "      <td>27.49919</td>\n",
       "      <td>-12.66408</td>\n",
       "    </tr>\n",
       "    <tr>\n",
       "      <th>bitcoin-cash-sv</th>\n",
       "      <td>0.92530</td>\n",
       "      <td>3.29641</td>\n",
       "      <td>-1.86656</td>\n",
       "      <td>2.88926</td>\n",
       "      <td>-24.87434</td>\n",
       "      <td>7.42562</td>\n",
       "      <td>93.73082</td>\n",
       "    </tr>\n",
       "  </tbody>\n",
       "</table>\n",
       "</div>"
      ],
      "text/plain": [
       "                 price_change_percentage_24h  price_change_percentage_7d  \\\n",
       "coin_id                                                                    \n",
       "bitcoin                              1.08388                     7.60278   \n",
       "ethereum                             0.22392                    10.38134   \n",
       "tether                              -0.21173                     0.04935   \n",
       "ripple                              -0.37819                    -0.60926   \n",
       "bitcoin-cash                         2.90585                    17.09717   \n",
       "binancecoin                          2.10423                    12.85511   \n",
       "chainlink                           -0.23935                    20.69459   \n",
       "cardano                              0.00322                    13.99302   \n",
       "litecoin                            -0.06341                     6.60221   \n",
       "bitcoin-cash-sv                      0.92530                     3.29641   \n",
       "\n",
       "                 price_change_percentage_14d  price_change_percentage_30d  \\\n",
       "coin_id                                                                     \n",
       "bitcoin                              6.57509                      7.67258   \n",
       "ethereum                             4.80849                      0.13169   \n",
       "tether                               0.00640                     -0.04237   \n",
       "ripple                               2.24984                      0.23455   \n",
       "bitcoin-cash                        14.75334                     15.74903   \n",
       "binancecoin                          6.80688                      0.05865   \n",
       "chainlink                            9.30098                    -11.21747   \n",
       "cardano                              5.55476                     10.10553   \n",
       "litecoin                             7.28931                      1.21662   \n",
       "bitcoin-cash-sv                     -1.86656                      2.88926   \n",
       "\n",
       "                 price_change_percentage_60d  price_change_percentage_200d  \\\n",
       "coin_id                                                                      \n",
       "bitcoin                             -3.25185                      83.51840   \n",
       "ethereum                           -12.88890                     186.77418   \n",
       "tether                               0.28037                      -0.00542   \n",
       "ripple                             -17.55245                      39.53888   \n",
       "bitcoin-cash                       -13.71793                      21.66042   \n",
       "binancecoin                         36.33486                     155.61937   \n",
       "chainlink                          -43.69522                     403.22917   \n",
       "cardano                            -22.84776                     264.51418   \n",
       "litecoin                           -17.23960                      27.49919   \n",
       "bitcoin-cash-sv                    -24.87434                       7.42562   \n",
       "\n",
       "                 price_change_percentage_1y  \n",
       "coin_id                                      \n",
       "bitcoin                            37.51761  \n",
       "ethereum                          101.96023  \n",
       "tether                              0.01954  \n",
       "ripple                            -16.60193  \n",
       "bitcoin-cash                       14.49384  \n",
       "binancecoin                        69.69195  \n",
       "chainlink                         325.13186  \n",
       "cardano                           156.09756  \n",
       "litecoin                          -12.66408  \n",
       "bitcoin-cash-sv                    93.73082  "
      ]
     },
     "execution_count": 48,
     "metadata": {},
     "output_type": "execute_result"
    }
   ],
   "source": [
    "# Load the data into a Pandas DataFrame\n",
    "df_market_data = pd.read_csv(\n",
    "    Path(\"Resources/crypto_market_data.csv\"),\n",
    "    index_col=\"coin_id\")\n",
    "\n",
    "# Display sample data\n",
    "df_market_data.head(10)"
   ]
  },
  {
   "cell_type": "code",
   "execution_count": 49,
   "metadata": {},
   "outputs": [
    {
     "data": {
      "text/html": [
       "<div>\n",
       "<style scoped>\n",
       "    .dataframe tbody tr th:only-of-type {\n",
       "        vertical-align: middle;\n",
       "    }\n",
       "\n",
       "    .dataframe tbody tr th {\n",
       "        vertical-align: top;\n",
       "    }\n",
       "\n",
       "    .dataframe thead th {\n",
       "        text-align: right;\n",
       "    }\n",
       "</style>\n",
       "<table border=\"1\" class=\"dataframe\">\n",
       "  <thead>\n",
       "    <tr style=\"text-align: right;\">\n",
       "      <th></th>\n",
       "      <th>price_change_percentage_24h</th>\n",
       "      <th>price_change_percentage_7d</th>\n",
       "      <th>price_change_percentage_14d</th>\n",
       "      <th>price_change_percentage_30d</th>\n",
       "      <th>price_change_percentage_60d</th>\n",
       "      <th>price_change_percentage_200d</th>\n",
       "      <th>price_change_percentage_1y</th>\n",
       "    </tr>\n",
       "  </thead>\n",
       "  <tbody>\n",
       "    <tr>\n",
       "      <th>count</th>\n",
       "      <td>41.00000</td>\n",
       "      <td>41.00000</td>\n",
       "      <td>41.00000</td>\n",
       "      <td>41.00000</td>\n",
       "      <td>41.00000</td>\n",
       "      <td>41.00000</td>\n",
       "      <td>41.00000</td>\n",
       "    </tr>\n",
       "    <tr>\n",
       "      <th>mean</th>\n",
       "      <td>-0.26969</td>\n",
       "      <td>4.49715</td>\n",
       "      <td>0.18579</td>\n",
       "      <td>1.54569</td>\n",
       "      <td>-0.09412</td>\n",
       "      <td>236.53743</td>\n",
       "      <td>347.66796</td>\n",
       "    </tr>\n",
       "    <tr>\n",
       "      <th>std</th>\n",
       "      <td>2.69479</td>\n",
       "      <td>6.37522</td>\n",
       "      <td>8.37694</td>\n",
       "      <td>26.34422</td>\n",
       "      <td>47.36580</td>\n",
       "      <td>435.22530</td>\n",
       "      <td>1247.84288</td>\n",
       "    </tr>\n",
       "    <tr>\n",
       "      <th>min</th>\n",
       "      <td>-13.52786</td>\n",
       "      <td>-6.09456</td>\n",
       "      <td>-18.15890</td>\n",
       "      <td>-34.70548</td>\n",
       "      <td>-44.82248</td>\n",
       "      <td>-0.39210</td>\n",
       "      <td>-17.56753</td>\n",
       "    </tr>\n",
       "    <tr>\n",
       "      <th>25%</th>\n",
       "      <td>-0.60897</td>\n",
       "      <td>0.04726</td>\n",
       "      <td>-5.02662</td>\n",
       "      <td>-10.43847</td>\n",
       "      <td>-25.90799</td>\n",
       "      <td>21.66042</td>\n",
       "      <td>0.40617</td>\n",
       "    </tr>\n",
       "    <tr>\n",
       "      <th>50%</th>\n",
       "      <td>-0.06341</td>\n",
       "      <td>3.29641</td>\n",
       "      <td>0.10974</td>\n",
       "      <td>-0.04237</td>\n",
       "      <td>-7.54455</td>\n",
       "      <td>83.90520</td>\n",
       "      <td>69.69195</td>\n",
       "    </tr>\n",
       "    <tr>\n",
       "      <th>75%</th>\n",
       "      <td>0.61209</td>\n",
       "      <td>7.60278</td>\n",
       "      <td>5.51074</td>\n",
       "      <td>4.57813</td>\n",
       "      <td>0.65726</td>\n",
       "      <td>216.17761</td>\n",
       "      <td>168.37251</td>\n",
       "    </tr>\n",
       "    <tr>\n",
       "      <th>max</th>\n",
       "      <td>4.84033</td>\n",
       "      <td>20.69459</td>\n",
       "      <td>24.23919</td>\n",
       "      <td>140.79570</td>\n",
       "      <td>223.06437</td>\n",
       "      <td>2227.92782</td>\n",
       "      <td>7852.08970</td>\n",
       "    </tr>\n",
       "  </tbody>\n",
       "</table>\n",
       "</div>"
      ],
      "text/plain": [
       "       price_change_percentage_24h  price_change_percentage_7d  \\\n",
       "count                     41.00000                    41.00000   \n",
       "mean                      -0.26969                     4.49715   \n",
       "std                        2.69479                     6.37522   \n",
       "min                      -13.52786                    -6.09456   \n",
       "25%                       -0.60897                     0.04726   \n",
       "50%                       -0.06341                     3.29641   \n",
       "75%                        0.61209                     7.60278   \n",
       "max                        4.84033                    20.69459   \n",
       "\n",
       "       price_change_percentage_14d  price_change_percentage_30d  \\\n",
       "count                     41.00000                     41.00000   \n",
       "mean                       0.18579                      1.54569   \n",
       "std                        8.37694                     26.34422   \n",
       "min                      -18.15890                    -34.70548   \n",
       "25%                       -5.02662                    -10.43847   \n",
       "50%                        0.10974                     -0.04237   \n",
       "75%                        5.51074                      4.57813   \n",
       "max                       24.23919                    140.79570   \n",
       "\n",
       "       price_change_percentage_60d  price_change_percentage_200d  \\\n",
       "count                     41.00000                      41.00000   \n",
       "mean                      -0.09412                     236.53743   \n",
       "std                       47.36580                     435.22530   \n",
       "min                      -44.82248                      -0.39210   \n",
       "25%                      -25.90799                      21.66042   \n",
       "50%                       -7.54455                      83.90520   \n",
       "75%                        0.65726                     216.17761   \n",
       "max                      223.06437                    2227.92782   \n",
       "\n",
       "       price_change_percentage_1y  \n",
       "count                    41.00000  \n",
       "mean                    347.66796  \n",
       "std                    1247.84288  \n",
       "min                     -17.56753  \n",
       "25%                       0.40617  \n",
       "50%                      69.69195  \n",
       "75%                     168.37251  \n",
       "max                    7852.08970  "
      ]
     },
     "execution_count": 49,
     "metadata": {},
     "output_type": "execute_result"
    }
   ],
   "source": [
    "# Generate summary statistics\n",
    "df_market_data.describe()"
   ]
  },
  {
   "cell_type": "code",
   "execution_count": 50,
   "metadata": {},
   "outputs": [
    {
     "data": {},
     "metadata": {},
     "output_type": "display_data"
    },
    {
     "data": {
      "application/vnd.holoviews_exec.v0+json": "",
      "text/html": [
       "<div id='2451'>\n",
       "\n",
       "\n",
       "\n",
       "\n",
       "\n",
       "  <div class=\"bk-root\" id=\"3a284ce1-eff1-4a4b-982b-2a546d4f0017\" data-root-id=\"2451\"></div>\n",
       "</div>\n",
       "<script type=\"application/javascript\">(function(root) {\n",
       "  function embed_document(root) {\n",
       "    var docs_json = {\"3b93e62d-2728-45c9-9a8f-b3d118629259\":{\"defs\":[{\"extends\":null,\"module\":null,\"name\":\"ReactiveHTML1\",\"overrides\":[],\"properties\":[]},{\"extends\":null,\"module\":null,\"name\":\"FlexBox1\",\"overrides\":[],\"properties\":[{\"default\":\"flex-start\",\"kind\":null,\"name\":\"align_content\"},{\"default\":\"flex-start\",\"kind\":null,\"name\":\"align_items\"},{\"default\":\"row\",\"kind\":null,\"name\":\"flex_direction\"},{\"default\":\"wrap\",\"kind\":null,\"name\":\"flex_wrap\"},{\"default\":\"flex-start\",\"kind\":null,\"name\":\"justify_content\"}]},{\"extends\":null,\"module\":null,\"name\":\"TemplateActions1\",\"overrides\":[],\"properties\":[{\"default\":0,\"kind\":null,\"name\":\"open_modal\"},{\"default\":0,\"kind\":null,\"name\":\"close_modal\"}]},{\"extends\":null,\"module\":null,\"name\":\"MaterialTemplateActions1\",\"overrides\":[],\"properties\":[{\"default\":0,\"kind\":null,\"name\":\"open_modal\"},{\"default\":0,\"kind\":null,\"name\":\"close_modal\"}]}],\"roots\":{\"references\":[{\"attributes\":{\"margin\":[5,5,5,5],\"name\":\"HSpacer04988\",\"sizing_mode\":\"stretch_width\"},\"id\":\"2452\",\"type\":\"Spacer\"},{\"attributes\":{\"text_color\":\"black\",\"text_font_size\":\"12pt\"},\"id\":\"2463\",\"type\":\"Title\"},{\"attributes\":{\"line_color\":\"#e5ae38\",\"line_width\":2,\"x\":{\"field\":\"coin_id\"},\"y\":{\"field\":\"value\"}},\"id\":\"2543\",\"type\":\"Line\"},{\"attributes\":{\"line_color\":\"#9467bd\",\"line_width\":2,\"x\":{\"field\":\"coin_id\"},\"y\":{\"field\":\"value\"}},\"id\":\"2679\",\"type\":\"Line\"},{\"attributes\":{\"source\":{\"id\":\"2540\"}},\"id\":\"2547\",\"type\":\"CDSView\"},{\"attributes\":{},\"id\":\"2478\",\"type\":\"SaveTool\"},{\"attributes\":{\"line_color\":\"#6d904f\",\"line_width\":2,\"x\":{\"field\":\"coin_id\"},\"y\":{\"field\":\"value\"}},\"id\":\"2589\",\"type\":\"Line\"},{\"attributes\":{\"line_color\":\"#17becf\",\"line_width\":2,\"x\":{\"field\":\"coin_id\"},\"y\":{\"field\":\"value\"}},\"id\":\"2647\",\"type\":\"Line\"},{\"attributes\":{\"line_color\":\"#e5ae38\",\"line_width\":2,\"x\":{\"field\":\"coin_id\"},\"y\":{\"field\":\"value\"}},\"id\":\"2563\",\"type\":\"Line\"},{\"attributes\":{},\"id\":\"2479\",\"type\":\"PanTool\"},{\"attributes\":{\"source\":{\"id\":\"2590\"}},\"id\":\"2597\",\"type\":\"CDSView\"},{\"attributes\":{},\"id\":\"2494\",\"type\":\"AllLabels\"},{\"attributes\":{},\"id\":\"2482\",\"type\":\"ResetTool\"},{\"attributes\":{},\"id\":\"2586\",\"type\":\"UnionRenderers\"},{\"attributes\":{},\"id\":\"2480\",\"type\":\"WheelZoomTool\"},{\"attributes\":{\"line_alpha\":0.2,\"line_color\":\"#6d904f\",\"line_width\":2,\"x\":{\"field\":\"coin_id\"},\"y\":{\"field\":\"value\"}},\"id\":\"2569\",\"type\":\"Line\"},{\"attributes\":{},\"id\":\"2644\",\"type\":\"UnionRenderers\"},{\"attributes\":{\"data_source\":{\"id\":\"2564\"},\"glyph\":{\"id\":\"2567\"},\"hover_glyph\":null,\"muted_glyph\":{\"id\":\"2569\"},\"nonselection_glyph\":{\"id\":\"2568\"},\"selection_glyph\":{\"id\":\"2589\"},\"view\":{\"id\":\"2571\"}},\"id\":\"2570\",\"type\":\"GlyphRenderer\"},{\"attributes\":{\"overlay\":{\"id\":\"2483\"}},\"id\":\"2481\",\"type\":\"BoxZoomTool\"},{\"attributes\":{\"line_alpha\":0.2,\"line_color\":\"#fc4f30\",\"line_width\":2,\"x\":{\"field\":\"coin_id\"},\"y\":{\"field\":\"value\"}},\"id\":\"2523\",\"type\":\"Line\"},{\"attributes\":{\"label\":{\"value\":\"price_change_percentage_1y\"},\"renderers\":[{\"id\":\"2654\"}]},\"id\":\"2678\",\"type\":\"LegendItem\"},{\"attributes\":{\"line_color\":\"#8b8b8b\",\"line_width\":2,\"x\":{\"field\":\"coin_id\"},\"y\":{\"field\":\"value\"}},\"id\":\"2593\",\"type\":\"Line\"},{\"attributes\":{\"click_policy\":\"mute\",\"items\":[{\"id\":\"2516\"},{\"id\":\"2538\"},{\"id\":\"2562\"},{\"id\":\"2588\"},{\"id\":\"2616\"},{\"id\":\"2646\"},{\"id\":\"2678\"}],\"location\":[0,0],\"title\":\"Variable\"},\"id\":\"2515\",\"type\":\"Legend\"},{\"attributes\":{\"line_alpha\":0.1,\"line_color\":\"#8b8b8b\",\"line_width\":2,\"x\":{\"field\":\"coin_id\"},\"y\":{\"field\":\"value\"}},\"id\":\"2594\",\"type\":\"Line\"},{\"attributes\":{\"line_alpha\":0.2,\"line_color\":\"#8b8b8b\",\"line_width\":2,\"x\":{\"field\":\"coin_id\"},\"y\":{\"field\":\"value\"}},\"id\":\"2595\",\"type\":\"Line\"},{\"attributes\":{\"source\":{\"id\":\"2648\"}},\"id\":\"2655\",\"type\":\"CDSView\"},{\"attributes\":{\"data\":{\"Variable\":[\"price_change_percentage_60d\",\"price_change_percentage_60d\",\"price_change_percentage_60d\",\"price_change_percentage_60d\",\"price_change_percentage_60d\",\"price_change_percentage_60d\",\"price_change_percentage_60d\",\"price_change_percentage_60d\",\"price_change_percentage_60d\",\"price_change_percentage_60d\",\"price_change_percentage_60d\",\"price_change_percentage_60d\",\"price_change_percentage_60d\",\"price_change_percentage_60d\",\"price_change_percentage_60d\",\"price_change_percentage_60d\",\"price_change_percentage_60d\",\"price_change_percentage_60d\",\"price_change_percentage_60d\",\"price_change_percentage_60d\",\"price_change_percentage_60d\",\"price_change_percentage_60d\",\"price_change_percentage_60d\",\"price_change_percentage_60d\",\"price_change_percentage_60d\",\"price_change_percentage_60d\",\"price_change_percentage_60d\",\"price_change_percentage_60d\",\"price_change_percentage_60d\",\"price_change_percentage_60d\",\"price_change_percentage_60d\",\"price_change_percentage_60d\",\"price_change_percentage_60d\",\"price_change_percentage_60d\",\"price_change_percentage_60d\",\"price_change_percentage_60d\",\"price_change_percentage_60d\",\"price_change_percentage_60d\",\"price_change_percentage_60d\",\"price_change_percentage_60d\",\"price_change_percentage_60d\"],\"coin_id\":[\"bitcoin\",\"ethereum\",\"tether\",\"ripple\",\"bitcoin-cash\",\"binancecoin\",\"chainlink\",\"cardano\",\"litecoin\",\"bitcoin-cash-sv\",\"crypto-com-chain\",\"usd-coin\",\"eos\",\"monero\",\"tron\",\"tezos\",\"okb\",\"stellar\",\"cosmos\",\"cdai\",\"neo\",\"wrapped-bitcoin\",\"leo-token\",\"huobi-token\",\"nem\",\"binance-usd\",\"iota\",\"vechain\",\"zcash\",\"theta-token\",\"dash\",\"ethereum-classic\",\"ethlend\",\"maker\",\"havven\",\"omisego\",\"celsius-degree-token\",\"ontology\",\"ftx-token\",\"true-usd\",\"digibyte\"],\"value\":{\"__ndarray__\":\"FvvL7skDCsAs1JrmHccpwKjjMQOV8dE/2qz6XG2NMcBzol2FlG8rwIleRrHcKkJAN8MN+PzYRcBi26LMBtk2wCEf9GxWPTHAq5UJv9TfOMBg5dAi23kwwDygbMoV3qU/l631RUIrPsDNzMzMzNxEQJm7lpAPGhZAms5OBkdpRsBKe4MvTKYGwEsfuqC+zT7APL1SliHOHMC4AZ8fRgjlP9L7xteeCStAFqQZi6azDMCvJeSDni0ewDeOWItPQQvAXvQVpBm3VEDaOGItPgW4PwpLPKBsQkHAaw4QzNHPRcAJM23/yoo0wBmQvd79AVRAfa62Yn85OsBVGFsIcug5wLCsNCkFHQFA529CIQKeMsA0uoPYmbZDwPKwUGua0VNA/pqsUQ/ia0Ao8iTpmllAwFuxv+yenBdAmrFoOjsZ0D8s1JrmHRc/wA==\",\"dtype\":\"float64\",\"order\":\"little\",\"shape\":[41]}},\"selected\":{\"id\":\"2591\"},\"selection_policy\":{\"id\":\"2614\"}},\"id\":\"2590\",\"type\":\"ColumnDataSource\"},{\"attributes\":{\"line_alpha\":0.2,\"line_color\":\"#9467bd\",\"line_width\":2,\"x\":{\"field\":\"coin_id\"},\"y\":{\"field\":\"value\"}},\"id\":\"2653\",\"type\":\"Line\"},{\"attributes\":{\"label\":{\"value\":\"price_change_percentage_200d\"},\"renderers\":[{\"id\":\"2624\"}]},\"id\":\"2646\",\"type\":\"LegendItem\"},{\"attributes\":{\"line_alpha\":0.1,\"line_color\":\"#17becf\",\"line_width\":2,\"x\":{\"field\":\"coin_id\"},\"y\":{\"field\":\"value\"}},\"id\":\"2622\",\"type\":\"Line\"},{\"attributes\":{},\"id\":\"2498\",\"type\":\"Selection\"},{\"attributes\":{\"data\":{\"Variable\":[\"price_change_percentage_7d\",\"price_change_percentage_7d\",\"price_change_percentage_7d\",\"price_change_percentage_7d\",\"price_change_percentage_7d\",\"price_change_percentage_7d\",\"price_change_percentage_7d\",\"price_change_percentage_7d\",\"price_change_percentage_7d\",\"price_change_percentage_7d\",\"price_change_percentage_7d\",\"price_change_percentage_7d\",\"price_change_percentage_7d\",\"price_change_percentage_7d\",\"price_change_percentage_7d\",\"price_change_percentage_7d\",\"price_change_percentage_7d\",\"price_change_percentage_7d\",\"price_change_percentage_7d\",\"price_change_percentage_7d\",\"price_change_percentage_7d\",\"price_change_percentage_7d\",\"price_change_percentage_7d\",\"price_change_percentage_7d\",\"price_change_percentage_7d\",\"price_change_percentage_7d\",\"price_change_percentage_7d\",\"price_change_percentage_7d\",\"price_change_percentage_7d\",\"price_change_percentage_7d\",\"price_change_percentage_7d\",\"price_change_percentage_7d\",\"price_change_percentage_7d\",\"price_change_percentage_7d\",\"price_change_percentage_7d\",\"price_change_percentage_7d\",\"price_change_percentage_7d\",\"price_change_percentage_7d\",\"price_change_percentage_7d\",\"price_change_percentage_7d\",\"price_change_percentage_7d\"],\"coin_id\":[\"bitcoin\",\"ethereum\",\"tether\",\"ripple\",\"bitcoin-cash\",\"binancecoin\",\"chainlink\",\"cardano\",\"litecoin\",\"bitcoin-cash-sv\",\"crypto-com-chain\",\"usd-coin\",\"eos\",\"monero\",\"tron\",\"tezos\",\"okb\",\"stellar\",\"cosmos\",\"cdai\",\"neo\",\"wrapped-bitcoin\",\"leo-token\",\"huobi-token\",\"nem\",\"binance-usd\",\"iota\",\"vechain\",\"zcash\",\"theta-token\",\"dash\",\"ethereum-classic\",\"ethlend\",\"maker\",\"havven\",\"omisego\",\"celsius-degree-token\",\"ontology\",\"ftx-token\",\"true-usd\",\"digibyte\"],\"value\":{\"__ndarray__\":\"RbsKKT9pHkAzUBn/PsMkQL99HThnRKk/yVnY0w5/47/+JhQi4BgxQBL3WPrQtSlA7yB2ptCxNEA/jBAebfwrQPFL/bypaBpArKjBNAxfCkByv0NRoK8WwPlJtU/HY76/lPsdigL99L+n6Egu/5EvQE1KQbeX9BBA0m9fB87pIUBlU67wLjcSwKbtX1lpkgBAZwqd19gVMEBcIEHxY8ytP3wnZr0YigNAOh4zUBmfHUD3Hi457pT1vzNQGf8+4/k/kQ96Nqs+6781Y9F0djKoP2dEaW/wRRhAgXhdv2A3/L/8GHPXErIkQP8JLlbUYBjAVU0QdR9gFEDRlnMprmoIQGCrBIvD2RBAAiuHFtlOIECbG9MTllgRQKhXyjLEURtAqn06HjNQ4z+UvDrHgGzzvwltOZfiahxAsD2zJEBNxT8yj/zBwHPlPw==\",\"dtype\":\"float64\",\"order\":\"little\",\"shape\":[41]}},\"selected\":{\"id\":\"2519\"},\"selection_policy\":{\"id\":\"2536\"}},\"id\":\"2518\",\"type\":\"ColumnDataSource\"},{\"attributes\":{\"label\":{\"value\":\"price_change_percentage_14d\"},\"renderers\":[{\"id\":\"2546\"}]},\"id\":\"2562\",\"type\":\"LegendItem\"},{\"attributes\":{\"line_alpha\":0.1,\"line_color\":\"#e5ae38\",\"line_width\":2,\"x\":{\"field\":\"coin_id\"},\"y\":{\"field\":\"value\"}},\"id\":\"2544\",\"type\":\"Line\"},{\"attributes\":{\"label\":{\"value\":\"price_change_percentage_7d\"},\"renderers\":[{\"id\":\"2524\"}]},\"id\":\"2538\",\"type\":\"LegendItem\"},{\"attributes\":{\"line_alpha\":0.1,\"line_color\":\"#30a2da\",\"line_width\":2,\"x\":{\"field\":\"coin_id\"},\"y\":{\"field\":\"value\"}},\"id\":\"2501\",\"type\":\"Line\"},{\"attributes\":{},\"id\":\"2619\",\"type\":\"Selection\"},{\"attributes\":{\"line_alpha\":0.1,\"line_color\":\"#fc4f30\",\"line_width\":2,\"x\":{\"field\":\"coin_id\"},\"y\":{\"field\":\"value\"}},\"id\":\"2522\",\"type\":\"Line\"},{\"attributes\":{\"line_alpha\":0.2,\"line_color\":\"#e5ae38\",\"line_width\":2,\"x\":{\"field\":\"coin_id\"},\"y\":{\"field\":\"value\"}},\"id\":\"2545\",\"type\":\"Line\"},{\"attributes\":{},\"id\":\"2591\",\"type\":\"Selection\"},{\"attributes\":{\"source\":{\"id\":\"2564\"}},\"id\":\"2571\",\"type\":\"CDSView\"},{\"attributes\":{\"data_source\":{\"id\":\"2648\"},\"glyph\":{\"id\":\"2651\"},\"hover_glyph\":null,\"muted_glyph\":{\"id\":\"2653\"},\"nonselection_glyph\":{\"id\":\"2652\"},\"selection_glyph\":{\"id\":\"2679\"},\"view\":{\"id\":\"2655\"}},\"id\":\"2654\",\"type\":\"GlyphRenderer\"},{\"attributes\":{\"line_color\":\"#6d904f\",\"line_width\":2,\"x\":{\"field\":\"coin_id\"},\"y\":{\"field\":\"value\"}},\"id\":\"2567\",\"type\":\"Line\"},{\"attributes\":{\"active_multi\":null,\"tools\":[{\"id\":\"2455\"},{\"id\":\"2478\"},{\"id\":\"2479\"},{\"id\":\"2480\"},{\"id\":\"2481\"},{\"id\":\"2482\"}]},\"id\":\"2484\",\"type\":\"Toolbar\"},{\"attributes\":{},\"id\":\"2495\",\"type\":\"BasicTickFormatter\"},{\"attributes\":{},\"id\":\"2676\",\"type\":\"UnionRenderers\"},{\"attributes\":{\"data_source\":{\"id\":\"2497\"},\"glyph\":{\"id\":\"2500\"},\"hover_glyph\":null,\"muted_glyph\":{\"id\":\"2502\"},\"nonselection_glyph\":{\"id\":\"2501\"},\"selection_glyph\":{\"id\":\"2517\"},\"view\":{\"id\":\"2504\"}},\"id\":\"2503\",\"type\":\"GlyphRenderer\"},{\"attributes\":{\"line_color\":\"#17becf\",\"line_width\":2,\"x\":{\"field\":\"coin_id\"},\"y\":{\"field\":\"value\"}},\"id\":\"2621\",\"type\":\"Line\"},{\"attributes\":{},\"id\":\"2519\",\"type\":\"Selection\"},{\"attributes\":{\"bottom_units\":\"screen\",\"fill_alpha\":0.5,\"fill_color\":\"lightgrey\",\"left_units\":\"screen\",\"level\":\"overlay\",\"line_alpha\":1.0,\"line_color\":\"black\",\"line_dash\":[4,4],\"line_width\":2,\"right_units\":\"screen\",\"syncable\":false,\"top_units\":\"screen\"},\"id\":\"2483\",\"type\":\"BoxAnnotation\"},{\"attributes\":{\"data_source\":{\"id\":\"2590\"},\"glyph\":{\"id\":\"2593\"},\"hover_glyph\":null,\"muted_glyph\":{\"id\":\"2595\"},\"nonselection_glyph\":{\"id\":\"2594\"},\"selection_glyph\":{\"id\":\"2617\"},\"view\":{\"id\":\"2597\"}},\"id\":\"2596\",\"type\":\"GlyphRenderer\"},{\"attributes\":{\"line_color\":\"#30a2da\",\"line_width\":2,\"x\":{\"field\":\"coin_id\"},\"y\":{\"field\":\"value\"}},\"id\":\"2517\",\"type\":\"Line\"},{\"attributes\":{},\"id\":\"2513\",\"type\":\"UnionRenderers\"},{\"attributes\":{\"line_color\":\"#fc4f30\",\"line_width\":2,\"x\":{\"field\":\"coin_id\"},\"y\":{\"field\":\"value\"}},\"id\":\"2539\",\"type\":\"Line\"},{\"attributes\":{\"data\":{\"Variable\":[\"price_change_percentage_24h\",\"price_change_percentage_24h\",\"price_change_percentage_24h\",\"price_change_percentage_24h\",\"price_change_percentage_24h\",\"price_change_percentage_24h\",\"price_change_percentage_24h\",\"price_change_percentage_24h\",\"price_change_percentage_24h\",\"price_change_percentage_24h\",\"price_change_percentage_24h\",\"price_change_percentage_24h\",\"price_change_percentage_24h\",\"price_change_percentage_24h\",\"price_change_percentage_24h\",\"price_change_percentage_24h\",\"price_change_percentage_24h\",\"price_change_percentage_24h\",\"price_change_percentage_24h\",\"price_change_percentage_24h\",\"price_change_percentage_24h\",\"price_change_percentage_24h\",\"price_change_percentage_24h\",\"price_change_percentage_24h\",\"price_change_percentage_24h\",\"price_change_percentage_24h\",\"price_change_percentage_24h\",\"price_change_percentage_24h\",\"price_change_percentage_24h\",\"price_change_percentage_24h\",\"price_change_percentage_24h\",\"price_change_percentage_24h\",\"price_change_percentage_24h\",\"price_change_percentage_24h\",\"price_change_percentage_24h\",\"price_change_percentage_24h\",\"price_change_percentage_24h\",\"price_change_percentage_24h\",\"price_change_percentage_24h\",\"price_change_percentage_24h\",\"price_change_percentage_24h\"],\"coin_id\":[\"bitcoin\",\"ethereum\",\"tether\",\"ripple\",\"bitcoin-cash\",\"binancecoin\",\"chainlink\",\"cardano\",\"litecoin\",\"bitcoin-cash-sv\",\"crypto-com-chain\",\"usd-coin\",\"eos\",\"monero\",\"tron\",\"tezos\",\"okb\",\"stellar\",\"cosmos\",\"cdai\",\"neo\",\"wrapped-bitcoin\",\"leo-token\",\"huobi-token\",\"nem\",\"binance-usd\",\"iota\",\"vechain\",\"zcash\",\"theta-token\",\"dash\",\"ethereum-classic\",\"ethlend\",\"maker\",\"havven\",\"omisego\",\"celsius-degree-token\",\"ontology\",\"ftx-token\",\"true-usd\",\"digibyte\"],\"value\":{\"__ndarray__\":\"nZ0MjpJX8T8MzXUaaanMP5mByvj3Gcu/wCZr1EM02L8ep+hILj8HQL0Yyol21QBAwhcmUwWjzr//CS5W1GBqP7JGPUSjO7C/QKTfvg6c7T8urYbEPZbjPzeJQWDl0Ma/1pC4x9KHwj87NgLxun7bP90HILWJk7M/JjYf14aK5b83iUFg5dAFwG3i5H6HIvC/5nlwd9Zu7r9i83FtqBjLP+iHEcKjjd8/M9yAzw+j8T/fGtgqweLAv+RmuAGfH9q/UdobfGEy678D7KNTVz67v8YzaOif4No/teBFX0Ga9D8G2Eenrnzjvx+duvJZPhLAoMN8eQH28L+cxCCwcmjdv667eapDDivAX5hMFYxK479EUaBP5EkQwAZkr3d/XBNA0JuKVBgbBEDqBDQRNrz1vxo09E9wseo/tI6qJoi6r79qMA3DR8QHQA==\",\"dtype\":\"float64\",\"order\":\"little\",\"shape\":[41]}},\"selected\":{\"id\":\"2498\"},\"selection_policy\":{\"id\":\"2513\"}},\"id\":\"2497\",\"type\":\"ColumnDataSource\"},{\"attributes\":{},\"id\":\"2565\",\"type\":\"Selection\"},{\"attributes\":{},\"id\":\"2614\",\"type\":\"UnionRenderers\"},{\"attributes\":{\"data_source\":{\"id\":\"2518\"},\"glyph\":{\"id\":\"2521\"},\"hover_glyph\":null,\"muted_glyph\":{\"id\":\"2523\"},\"nonselection_glyph\":{\"id\":\"2522\"},\"selection_glyph\":{\"id\":\"2539\"},\"view\":{\"id\":\"2525\"}},\"id\":\"2524\",\"type\":\"GlyphRenderer\"},{\"attributes\":{\"end\":8641.780918,\"reset_end\":8641.780918,\"reset_start\":-834.5136980000001,\"start\":-834.5136980000001,\"tags\":[[[\"value\",\"value\",null]]]},\"id\":\"2454\",\"type\":\"Range1d\"},{\"attributes\":{\"source\":{\"id\":\"2518\"}},\"id\":\"2525\",\"type\":\"CDSView\"},{\"attributes\":{\"line_color\":\"#8b8b8b\",\"line_width\":2,\"x\":{\"field\":\"coin_id\"},\"y\":{\"field\":\"value\"}},\"id\":\"2617\",\"type\":\"Line\"},{\"attributes\":{},\"id\":\"2649\",\"type\":\"Selection\"},{\"attributes\":{\"data\":{\"Variable\":[\"price_change_percentage_200d\",\"price_change_percentage_200d\",\"price_change_percentage_200d\",\"price_change_percentage_200d\",\"price_change_percentage_200d\",\"price_change_percentage_200d\",\"price_change_percentage_200d\",\"price_change_percentage_200d\",\"price_change_percentage_200d\",\"price_change_percentage_200d\",\"price_change_percentage_200d\",\"price_change_percentage_200d\",\"price_change_percentage_200d\",\"price_change_percentage_200d\",\"price_change_percentage_200d\",\"price_change_percentage_200d\",\"price_change_percentage_200d\",\"price_change_percentage_200d\",\"price_change_percentage_200d\",\"price_change_percentage_200d\",\"price_change_percentage_200d\",\"price_change_percentage_200d\",\"price_change_percentage_200d\",\"price_change_percentage_200d\",\"price_change_percentage_200d\",\"price_change_percentage_200d\",\"price_change_percentage_200d\",\"price_change_percentage_200d\",\"price_change_percentage_200d\",\"price_change_percentage_200d\",\"price_change_percentage_200d\",\"price_change_percentage_200d\",\"price_change_percentage_200d\",\"price_change_percentage_200d\",\"price_change_percentage_200d\",\"price_change_percentage_200d\",\"price_change_percentage_200d\",\"price_change_percentage_200d\",\"price_change_percentage_200d\",\"price_change_percentage_200d\",\"price_change_percentage_200d\"],\"coin_id\":[\"bitcoin\",\"ethereum\",\"tether\",\"ripple\",\"bitcoin-cash\",\"binancecoin\",\"chainlink\",\"cardano\",\"litecoin\",\"bitcoin-cash-sv\",\"crypto-com-chain\",\"usd-coin\",\"eos\",\"monero\",\"tron\",\"tezos\",\"okb\",\"stellar\",\"cosmos\",\"cdai\",\"neo\",\"wrapped-bitcoin\",\"leo-token\",\"huobi-token\",\"nem\",\"binance-usd\",\"iota\",\"vechain\",\"zcash\",\"theta-token\",\"dash\",\"ethereum-classic\",\"ethlend\",\"maker\",\"havven\",\"omisego\",\"celsius-degree-token\",\"ontology\",\"ftx-token\",\"true-usd\",\"digibyte\"],\"value\":{\"__ndarray__\":\"xY8xdy3hVED0piIVxlhnQBe86CtIM3a/9zsUBfrEQ0DTn/1IEak1QPTDCOHRc2NAl3MprqozeUAexM4UOohwQIB9dOrKfztAFhiyutWzHUCN7iB2plZsQIQqNXugFcS/ZHWr56QPMkALe9rhrzBlQH+8V61MnGBA5nlwd9a2RUARHm0csfpDQC+Lic3HJ1VAkj8YeO4/Z0AOvjCZKhjZv2vUQzS61GNAtRX7y+75VEC5GW7A52cwQAPso1NXHkVAKa4q+64Fa0A7NgLxun65P+TaUDHOwVdAyM1wAz7bcEAFwHgGDaNeQH3Qs1k1lYtAOUVHcvnvGEANGvonuMgkQCYZOQvbZ6FAGD4ipkSiVED5MeauZXeDQHi0ccQaSoJAC170FcTYmEB1PGagMmJLQC2yne+nvkxAndfYJaq3tr9R9wFIbSl+QA==\",\"dtype\":\"float64\",\"order\":\"little\",\"shape\":[41]}},\"selected\":{\"id\":\"2619\"},\"selection_policy\":{\"id\":\"2644\"}},\"id\":\"2618\",\"type\":\"ColumnDataSource\"},{\"attributes\":{\"data_source\":{\"id\":\"2618\"},\"glyph\":{\"id\":\"2621\"},\"hover_glyph\":null,\"muted_glyph\":{\"id\":\"2623\"},\"nonselection_glyph\":{\"id\":\"2622\"},\"selection_glyph\":{\"id\":\"2647\"},\"view\":{\"id\":\"2625\"}},\"id\":\"2624\",\"type\":\"GlyphRenderer\"},{\"attributes\":{},\"id\":\"2491\",\"type\":\"AllLabels\"},{\"attributes\":{\"factors\":[\"bitcoin\",\"ethereum\",\"tether\",\"ripple\",\"bitcoin-cash\",\"binancecoin\",\"chainlink\",\"cardano\",\"litecoin\",\"bitcoin-cash-sv\",\"crypto-com-chain\",\"usd-coin\",\"eos\",\"monero\",\"tron\",\"tezos\",\"okb\",\"stellar\",\"cosmos\",\"cdai\",\"neo\",\"wrapped-bitcoin\",\"leo-token\",\"huobi-token\",\"nem\",\"binance-usd\",\"iota\",\"vechain\",\"zcash\",\"theta-token\",\"dash\",\"ethereum-classic\",\"ethlend\",\"maker\",\"havven\",\"omisego\",\"celsius-degree-token\",\"ontology\",\"ftx-token\",\"true-usd\",\"digibyte\"],\"tags\":[[[\"coin_id\",\"coin_id\",null]]]},\"id\":\"2453\",\"type\":\"FactorRange\"},{\"attributes\":{\"axis\":{\"id\":\"2471\"},\"grid_line_color\":null,\"ticker\":null},\"id\":\"2473\",\"type\":\"Grid\"},{\"attributes\":{\"line_color\":\"#30a2da\",\"line_width\":2,\"x\":{\"field\":\"coin_id\"},\"y\":{\"field\":\"value\"}},\"id\":\"2500\",\"type\":\"Line\"},{\"attributes\":{\"line_alpha\":0.2,\"line_color\":\"#17becf\",\"line_width\":2,\"x\":{\"field\":\"coin_id\"},\"y\":{\"field\":\"value\"}},\"id\":\"2623\",\"type\":\"Line\"},{\"attributes\":{},\"id\":\"2475\",\"type\":\"BasicTicker\"},{\"attributes\":{\"data_source\":{\"id\":\"2540\"},\"glyph\":{\"id\":\"2543\"},\"hover_glyph\":null,\"muted_glyph\":{\"id\":\"2545\"},\"nonselection_glyph\":{\"id\":\"2544\"},\"selection_glyph\":{\"id\":\"2563\"},\"view\":{\"id\":\"2547\"}},\"id\":\"2546\",\"type\":\"GlyphRenderer\"},{\"attributes\":{},\"id\":\"2536\",\"type\":\"UnionRenderers\"},{\"attributes\":{\"line_color\":\"#9467bd\",\"line_width\":2,\"x\":{\"field\":\"coin_id\"},\"y\":{\"field\":\"value\"}},\"id\":\"2651\",\"type\":\"Line\"},{\"attributes\":{},\"id\":\"2541\",\"type\":\"Selection\"},{\"attributes\":{\"data\":{\"Variable\":[\"price_change_percentage_1y\",\"price_change_percentage_1y\",\"price_change_percentage_1y\",\"price_change_percentage_1y\",\"price_change_percentage_1y\",\"price_change_percentage_1y\",\"price_change_percentage_1y\",\"price_change_percentage_1y\",\"price_change_percentage_1y\",\"price_change_percentage_1y\",\"price_change_percentage_1y\",\"price_change_percentage_1y\",\"price_change_percentage_1y\",\"price_change_percentage_1y\",\"price_change_percentage_1y\",\"price_change_percentage_1y\",\"price_change_percentage_1y\",\"price_change_percentage_1y\",\"price_change_percentage_1y\",\"price_change_percentage_1y\",\"price_change_percentage_1y\",\"price_change_percentage_1y\",\"price_change_percentage_1y\",\"price_change_percentage_1y\",\"price_change_percentage_1y\",\"price_change_percentage_1y\",\"price_change_percentage_1y\",\"price_change_percentage_1y\",\"price_change_percentage_1y\",\"price_change_percentage_1y\",\"price_change_percentage_1y\",\"price_change_percentage_1y\",\"price_change_percentage_1y\",\"price_change_percentage_1y\",\"price_change_percentage_1y\",\"price_change_percentage_1y\",\"price_change_percentage_1y\",\"price_change_percentage_1y\",\"price_change_percentage_1y\",\"price_change_percentage_1y\",\"price_change_percentage_1y\"],\"coin_id\":[\"bitcoin\",\"ethereum\",\"tether\",\"ripple\",\"bitcoin-cash\",\"binancecoin\",\"chainlink\",\"cardano\",\"litecoin\",\"bitcoin-cash-sv\",\"crypto-com-chain\",\"usd-coin\",\"eos\",\"monero\",\"tron\",\"tezos\",\"okb\",\"stellar\",\"cosmos\",\"cdai\",\"neo\",\"wrapped-bitcoin\",\"leo-token\",\"huobi-token\",\"nem\",\"binance-usd\",\"iota\",\"vechain\",\"zcash\",\"theta-token\",\"dash\",\"ethereum-classic\",\"ethlend\",\"maker\",\"havven\",\"omisego\",\"celsius-degree-token\",\"ontology\",\"ftx-token\",\"true-usd\",\"digibyte\"],\"value\":{\"__ndarray__\":\"kQpjC0HCQkDWqIdodH1ZQN/42jNLApQ/NXugFRiaMMDN6bKY2PwsQOcdp+hIbFFAaTo7GRxSdEC6LCY2H4NjQPnaM0sCVCnA0NA/wcVuV0CQvd798RBzQL4wmSoYlci/t39lpUmRMcDovMYuUaFhQEPKT6p9nk1A6PaSxmiAYUBdUN8yp75hQMzuycNCnStAw7ZFmQ2cVEAHsTOFzmvSvx/0bFZ9aWBAhhvw+WHEQkAN/RNcrAA1QN8Vwf9WkjhAS7A4nPkWaUAVUn5S7dPBPzUk7rH04Q/AIsMq3shbaUBf0hito7hUQPyMCwcC64VAzsKedvirA8Dwoq8gzTgmQHRGlPYWrL5Ayk+qfTpOJUDfiVkvRjaFQEfJq3MMC3RAnFCIgONmn0CsVib8Uk8pwNttF5rrC2VAyXGndLD+2T/ZfFwbKgxnQA==\",\"dtype\":\"float64\",\"order\":\"little\",\"shape\":[41]}},\"selected\":{\"id\":\"2649\"},\"selection_policy\":{\"id\":\"2676\"}},\"id\":\"2648\",\"type\":\"ColumnDataSource\"},{\"attributes\":{\"axis_label\":\"coin_id\",\"formatter\":{\"id\":\"2492\"},\"major_label_orientation\":1.5707963267948966,\"major_label_policy\":{\"id\":\"2491\"},\"ticker\":{\"id\":\"2472\"}},\"id\":\"2471\",\"type\":\"CategoricalAxis\"},{\"attributes\":{\"callback\":null,\"renderers\":[{\"id\":\"2503\"},{\"id\":\"2524\"},{\"id\":\"2546\"},{\"id\":\"2570\"},{\"id\":\"2596\"},{\"id\":\"2624\"},{\"id\":\"2654\"}],\"tags\":[\"hv_created\"],\"tooltips\":[[\"Variable\",\"@{Variable}\"],[\"coin_id\",\"@{coin_id}\"],[\"value\",\"@{value}\"]]},\"id\":\"2455\",\"type\":\"HoverTool\"},{\"attributes\":{\"label\":{\"value\":\"price_change_percentage_24h\"},\"renderers\":[{\"id\":\"2503\"}]},\"id\":\"2516\",\"type\":\"LegendItem\"},{\"attributes\":{\"data\":{\"Variable\":[\"price_change_percentage_30d\",\"price_change_percentage_30d\",\"price_change_percentage_30d\",\"price_change_percentage_30d\",\"price_change_percentage_30d\",\"price_change_percentage_30d\",\"price_change_percentage_30d\",\"price_change_percentage_30d\",\"price_change_percentage_30d\",\"price_change_percentage_30d\",\"price_change_percentage_30d\",\"price_change_percentage_30d\",\"price_change_percentage_30d\",\"price_change_percentage_30d\",\"price_change_percentage_30d\",\"price_change_percentage_30d\",\"price_change_percentage_30d\",\"price_change_percentage_30d\",\"price_change_percentage_30d\",\"price_change_percentage_30d\",\"price_change_percentage_30d\",\"price_change_percentage_30d\",\"price_change_percentage_30d\",\"price_change_percentage_30d\",\"price_change_percentage_30d\",\"price_change_percentage_30d\",\"price_change_percentage_30d\",\"price_change_percentage_30d\",\"price_change_percentage_30d\",\"price_change_percentage_30d\",\"price_change_percentage_30d\",\"price_change_percentage_30d\",\"price_change_percentage_30d\",\"price_change_percentage_30d\",\"price_change_percentage_30d\",\"price_change_percentage_30d\",\"price_change_percentage_30d\",\"price_change_percentage_30d\",\"price_change_percentage_30d\",\"price_change_percentage_30d\",\"price_change_percentage_30d\"],\"coin_id\":[\"bitcoin\",\"ethereum\",\"tether\",\"ripple\",\"bitcoin-cash\",\"binancecoin\",\"chainlink\",\"cardano\",\"litecoin\",\"bitcoin-cash-sv\",\"crypto-com-chain\",\"usd-coin\",\"eos\",\"monero\",\"tron\",\"tezos\",\"okb\",\"stellar\",\"cosmos\",\"cdai\",\"neo\",\"wrapped-bitcoin\",\"leo-token\",\"huobi-token\",\"nem\",\"binance-usd\",\"iota\",\"vechain\",\"zcash\",\"theta-token\",\"dash\",\"ethereum-classic\",\"ethlend\",\"maker\",\"havven\",\"omisego\",\"celsius-degree-token\",\"ontology\",\"ftx-token\",\"true-usd\",\"digibyte\"],\"value\":{\"__ndarray__\":\"VMa/z7iwHkAl6ZrJN9vAP/28qUiFsaW/L26jAbwFzj8dcjPcgH8vQPMf0m9fB64/5bhTOlhvJsBnfjUHCDYkQGWNeohGd/M/sCDNWDQdB0Cmft5UpHIxwJgvL8A+OsW/t0WZDTKJEsDeVKTC2HpDQEzD8BExNSnAjWK5pdVALMDjjcwjf+AkwIrIsIo3QiDAjliLTwFQEkAWpBmLpnMBwE3WqIdo9DXAVG8NbJWAHUAnMQisHJoIQGA8g4b+CQrACcTr+gU7DcCPpQ9dUN+SP80Bgjl6nBDA9S1zuixWLMBC7Eyh83odQEku/yH9bj9AtTf4wmQqH8Am/FI/byoHQNjYJaq3/j3A9GxWfa62MECdRloqb9c0wF4R/G8lOyLArK3YX3aZYUC1/SsrTVpBwP/PYb68ICXAFR3J5T+knz+ndLD+z4EqQA==\",\"dtype\":\"float64\",\"order\":\"little\",\"shape\":[41]}},\"selected\":{\"id\":\"2565\"},\"selection_policy\":{\"id\":\"2586\"}},\"id\":\"2564\",\"type\":\"ColumnDataSource\"},{\"attributes\":{},\"id\":\"2560\",\"type\":\"UnionRenderers\"},{\"attributes\":{},\"id\":\"2492\",\"type\":\"CategoricalTickFormatter\"},{\"attributes\":{\"below\":[{\"id\":\"2471\"}],\"center\":[{\"id\":\"2473\"},{\"id\":\"2477\"}],\"height\":400,\"left\":[{\"id\":\"2474\"}],\"margin\":[5,5,5,5],\"min_border_bottom\":10,\"min_border_left\":10,\"min_border_right\":10,\"min_border_top\":10,\"renderers\":[{\"id\":\"2503\"},{\"id\":\"2524\"},{\"id\":\"2546\"},{\"id\":\"2570\"},{\"id\":\"2596\"},{\"id\":\"2624\"},{\"id\":\"2654\"}],\"right\":[{\"id\":\"2515\"}],\"sizing_mode\":\"fixed\",\"title\":{\"id\":\"2463\"},\"toolbar\":{\"id\":\"2484\"},\"width\":800,\"x_range\":{\"id\":\"2453\"},\"x_scale\":{\"id\":\"2467\"},\"y_range\":{\"id\":\"2454\"},\"y_scale\":{\"id\":\"2469\"}},\"id\":\"2462\",\"subtype\":\"Figure\",\"type\":\"Plot\"},{\"attributes\":{},\"id\":\"2467\",\"type\":\"CategoricalScale\"},{\"attributes\":{\"source\":{\"id\":\"2497\"}},\"id\":\"2504\",\"type\":\"CDSView\"},{\"attributes\":{\"margin\":[5,5,5,5],\"name\":\"HSpacer04989\",\"sizing_mode\":\"stretch_width\"},\"id\":\"2878\",\"type\":\"Spacer\"},{\"attributes\":{},\"id\":\"2469\",\"type\":\"LinearScale\"},{\"attributes\":{\"source\":{\"id\":\"2618\"}},\"id\":\"2625\",\"type\":\"CDSView\"},{\"attributes\":{\"label\":{\"value\":\"price_change_percentage_60d\"},\"renderers\":[{\"id\":\"2596\"}]},\"id\":\"2616\",\"type\":\"LegendItem\"},{\"attributes\":{\"line_alpha\":0.1,\"line_color\":\"#6d904f\",\"line_width\":2,\"x\":{\"field\":\"coin_id\"},\"y\":{\"field\":\"value\"}},\"id\":\"2568\",\"type\":\"Line\"},{\"attributes\":{\"label\":{\"value\":\"price_change_percentage_30d\"},\"renderers\":[{\"id\":\"2570\"}]},\"id\":\"2588\",\"type\":\"LegendItem\"},{\"attributes\":{\"line_alpha\":0.2,\"line_color\":\"#30a2da\",\"line_width\":2,\"x\":{\"field\":\"coin_id\"},\"y\":{\"field\":\"value\"}},\"id\":\"2502\",\"type\":\"Line\"},{\"attributes\":{},\"id\":\"2472\",\"type\":\"CategoricalTicker\"},{\"attributes\":{\"line_alpha\":0.1,\"line_color\":\"#9467bd\",\"line_width\":2,\"x\":{\"field\":\"coin_id\"},\"y\":{\"field\":\"value\"}},\"id\":\"2652\",\"type\":\"Line\"},{\"attributes\":{\"axis_label\":\"\",\"formatter\":{\"id\":\"2495\"},\"major_label_policy\":{\"id\":\"2494\"},\"ticker\":{\"id\":\"2475\"}},\"id\":\"2474\",\"type\":\"LinearAxis\"},{\"attributes\":{\"line_color\":\"#fc4f30\",\"line_width\":2,\"x\":{\"field\":\"coin_id\"},\"y\":{\"field\":\"value\"}},\"id\":\"2521\",\"type\":\"Line\"},{\"attributes\":{\"children\":[{\"id\":\"2452\"},{\"id\":\"2462\"},{\"id\":\"2878\"}],\"margin\":[0,0,0,0],\"name\":\"Row04984\",\"tags\":[\"embedded\"]},\"id\":\"2451\",\"type\":\"Row\"},{\"attributes\":{\"data\":{\"Variable\":[\"price_change_percentage_14d\",\"price_change_percentage_14d\",\"price_change_percentage_14d\",\"price_change_percentage_14d\",\"price_change_percentage_14d\",\"price_change_percentage_14d\",\"price_change_percentage_14d\",\"price_change_percentage_14d\",\"price_change_percentage_14d\",\"price_change_percentage_14d\",\"price_change_percentage_14d\",\"price_change_percentage_14d\",\"price_change_percentage_14d\",\"price_change_percentage_14d\",\"price_change_percentage_14d\",\"price_change_percentage_14d\",\"price_change_percentage_14d\",\"price_change_percentage_14d\",\"price_change_percentage_14d\",\"price_change_percentage_14d\",\"price_change_percentage_14d\",\"price_change_percentage_14d\",\"price_change_percentage_14d\",\"price_change_percentage_14d\",\"price_change_percentage_14d\",\"price_change_percentage_14d\",\"price_change_percentage_14d\",\"price_change_percentage_14d\",\"price_change_percentage_14d\",\"price_change_percentage_14d\",\"price_change_percentage_14d\",\"price_change_percentage_14d\",\"price_change_percentage_14d\",\"price_change_percentage_14d\",\"price_change_percentage_14d\",\"price_change_percentage_14d\",\"price_change_percentage_14d\",\"price_change_percentage_14d\",\"price_change_percentage_14d\",\"price_change_percentage_14d\",\"price_change_percentage_14d\"],\"coin_id\":[\"bitcoin\",\"ethereum\",\"tether\",\"ripple\",\"bitcoin-cash\",\"binancecoin\",\"chainlink\",\"cardano\",\"litecoin\",\"bitcoin-cash-sv\",\"crypto-com-chain\",\"usd-coin\",\"eos\",\"monero\",\"tron\",\"tezos\",\"okb\",\"stellar\",\"cosmos\",\"cdai\",\"neo\",\"wrapped-bitcoin\",\"leo-token\",\"huobi-token\",\"nem\",\"binance-usd\",\"iota\",\"vechain\",\"zcash\",\"theta-token\",\"dash\",\"ethereum-classic\",\"ethlend\",\"maker\",\"havven\",\"omisego\",\"celsius-degree-token\",\"ontology\",\"ftx-token\",\"true-usd\",\"digibyte\"],\"value\":{\"__ndarray__\":\"zQaZZORMGkB5knTN5DsTQC1DHOviNno/ctwpHaz/AUCLic3HtYEtQJgvL8A+OhtACoDxDBqaIkAOhGQBEzgWQICfceFAKB1AIVnABG7d/b8xsfm4NhQhwGtI3GPpQ3e/pfeNrz0z8j8ao3VUNWkyQBUA4xk0dPY/VIzzN6GQAkCXrfVFQhsUwKpla32RUPG/Qgkzbf8KFkDPg7uzdtvFP8MN+PwwsiPAYFlpUgo6GkB3+GuyRh0cwM2v5gDBHN0/jliLTwEwBUDWrZ6T3jeuP7pOIy2VNw7Am1Wfq60oMsAJM23/yioXQJfK2xFOSxrAQE0tW+uL4D9OucK7XET0v0SLbOf7mSPA/pqsUQ/R978vaYzWUZUqwDtT6LzGbirAvodLjjs9OEByUMJM2x8lwJ30vvG1Z8q/ZCMQr+sXvD+7D0BqE0cdwA==\",\"dtype\":\"float64\",\"order\":\"little\",\"shape\":[41]}},\"selected\":{\"id\":\"2541\"},\"selection_policy\":{\"id\":\"2560\"}},\"id\":\"2540\",\"type\":\"ColumnDataSource\"},{\"attributes\":{\"axis\":{\"id\":\"2474\"},\"dimension\":1,\"grid_line_color\":null,\"ticker\":null},\"id\":\"2477\",\"type\":\"Grid\"}],\"root_ids\":[\"2451\"]},\"title\":\"Bokeh Application\",\"version\":\"2.3.2\"}};\n",
       "    var render_items = [{\"docid\":\"3b93e62d-2728-45c9-9a8f-b3d118629259\",\"root_ids\":[\"2451\"],\"roots\":{\"2451\":\"3a284ce1-eff1-4a4b-982b-2a546d4f0017\"}}];\n",
       "    root.Bokeh.embed.embed_items_notebook(docs_json, render_items);\n",
       "  }\n",
       "  if (root.Bokeh !== undefined && root.Bokeh.Panel !== undefined) {\n",
       "    embed_document(root);\n",
       "  } else {\n",
       "    var attempts = 0;\n",
       "    var timer = setInterval(function(root) {\n",
       "      if (root.Bokeh !== undefined && root.Bokeh.Panel !== undefined) {\n",
       "        clearInterval(timer);\n",
       "        embed_document(root);\n",
       "      } else if (document.readyState == \"complete\") {\n",
       "        attempts++;\n",
       "        if (attempts > 200) {\n",
       "          clearInterval(timer);\n",
       "          console.log(\"Bokeh: ERROR: Unable to run BokehJS code because BokehJS library is missing\");\n",
       "        }\n",
       "      }\n",
       "    }, 25, root)\n",
       "  }\n",
       "})(window);</script>"
      ],
      "text/plain": [
       ":NdOverlay   [Variable]\n",
       "   :Curve   [coin_id]   (value)"
      ]
     },
     "execution_count": 50,
     "metadata": {
      "application/vnd.holoviews_exec.v0+json": {
       "id": "2451"
      }
     },
     "output_type": "execute_result"
    }
   ],
   "source": [
    "# Plot your data to see what's in your DataFrame\n",
    "df_market_data.hvplot.line(\n",
    "    width=800,\n",
    "    height=400,\n",
    "    rot=90\n",
    ")"
   ]
  },
  {
   "cell_type": "markdown",
   "metadata": {},
   "source": [
    "---"
   ]
  },
  {
   "cell_type": "markdown",
   "metadata": {},
   "source": [
    "### Prepare the Data\n",
    "\n",
    "This section prepares the data before running the K-Means algorithm. It follows these steps:\n",
    "\n",
    "1. Use the `StandardScaler` module from scikit-learn to normalize the CSV file data. This will require you to utilize the `fit_transform` function.\n",
    "\n",
    "2. Create a DataFrame that contains the scaled data. Be sure to set the `coin_id` index from the original DataFrame as the index for the new DataFrame. Review the resulting DataFrame.\n"
   ]
  },
  {
   "cell_type": "code",
   "execution_count": 51,
   "metadata": {},
   "outputs": [],
   "source": [
    "# Use the `StandardScaler()` module from scikit-learn to normalize the data from the CSV file\n",
    "scaled_data = StandardScaler().fit_transform(df_market_data)"
   ]
  },
  {
   "cell_type": "code",
   "execution_count": 53,
   "metadata": {},
   "outputs": [
    {
     "data": {
      "text/html": [
       "<div>\n",
       "<style scoped>\n",
       "    .dataframe tbody tr th:only-of-type {\n",
       "        vertical-align: middle;\n",
       "    }\n",
       "\n",
       "    .dataframe tbody tr th {\n",
       "        vertical-align: top;\n",
       "    }\n",
       "\n",
       "    .dataframe thead th {\n",
       "        text-align: right;\n",
       "    }\n",
       "</style>\n",
       "<table border=\"1\" class=\"dataframe\">\n",
       "  <thead>\n",
       "    <tr style=\"text-align: right;\">\n",
       "      <th></th>\n",
       "      <th>price_change_percentage_24h</th>\n",
       "      <th>price_change_percentage_7d</th>\n",
       "      <th>price_change_percentage_14d</th>\n",
       "      <th>price_change_percentage_30d</th>\n",
       "      <th>price_change_percentage_60d</th>\n",
       "      <th>price_change_percentage_200d</th>\n",
       "      <th>price_change_percentage_1y</th>\n",
       "    </tr>\n",
       "    <tr>\n",
       "      <th>coin_id</th>\n",
       "      <th></th>\n",
       "      <th></th>\n",
       "      <th></th>\n",
       "      <th></th>\n",
       "      <th></th>\n",
       "      <th></th>\n",
       "      <th></th>\n",
       "    </tr>\n",
       "  </thead>\n",
       "  <tbody>\n",
       "    <tr>\n",
       "      <th>bitcoin</th>\n",
       "      <td>0.50853</td>\n",
       "      <td>0.49319</td>\n",
       "      <td>0.77220</td>\n",
       "      <td>0.23546</td>\n",
       "      <td>-0.06750</td>\n",
       "      <td>-0.35595</td>\n",
       "      <td>-0.25164</td>\n",
       "    </tr>\n",
       "    <tr>\n",
       "      <th>ethereum</th>\n",
       "      <td>0.18545</td>\n",
       "      <td>0.93445</td>\n",
       "      <td>0.55869</td>\n",
       "      <td>-0.05434</td>\n",
       "      <td>-0.27348</td>\n",
       "      <td>-0.11576</td>\n",
       "      <td>-0.19935</td>\n",
       "    </tr>\n",
       "    <tr>\n",
       "      <th>tether</th>\n",
       "      <td>0.02177</td>\n",
       "      <td>-0.70634</td>\n",
       "      <td>-0.02168</td>\n",
       "      <td>-0.06103</td>\n",
       "      <td>0.00800</td>\n",
       "      <td>-0.55025</td>\n",
       "      <td>-0.28206</td>\n",
       "    </tr>\n",
       "    <tr>\n",
       "      <th>ripple</th>\n",
       "      <td>-0.04076</td>\n",
       "      <td>-0.81093</td>\n",
       "      <td>0.24946</td>\n",
       "      <td>-0.05039</td>\n",
       "      <td>-0.37316</td>\n",
       "      <td>-0.45826</td>\n",
       "      <td>-0.29555</td>\n",
       "    </tr>\n",
       "    <tr>\n",
       "      <th>bitcoin-cash</th>\n",
       "      <td>1.19304</td>\n",
       "      <td>2.00096</td>\n",
       "      <td>1.76061</td>\n",
       "      <td>0.54584</td>\n",
       "      <td>-0.29120</td>\n",
       "      <td>-0.49985</td>\n",
       "      <td>-0.27032</td>\n",
       "    </tr>\n",
       "  </tbody>\n",
       "</table>\n",
       "</div>"
      ],
      "text/plain": [
       "              price_change_percentage_24h  price_change_percentage_7d  \\\n",
       "coin_id                                                                 \n",
       "bitcoin                           0.50853                     0.49319   \n",
       "ethereum                          0.18545                     0.93445   \n",
       "tether                            0.02177                    -0.70634   \n",
       "ripple                           -0.04076                    -0.81093   \n",
       "bitcoin-cash                      1.19304                     2.00096   \n",
       "\n",
       "              price_change_percentage_14d  price_change_percentage_30d  \\\n",
       "coin_id                                                                  \n",
       "bitcoin                           0.77220                      0.23546   \n",
       "ethereum                          0.55869                     -0.05434   \n",
       "tether                           -0.02168                     -0.06103   \n",
       "ripple                            0.24946                     -0.05039   \n",
       "bitcoin-cash                      1.76061                      0.54584   \n",
       "\n",
       "              price_change_percentage_60d  price_change_percentage_200d  \\\n",
       "coin_id                                                                   \n",
       "bitcoin                          -0.06750                      -0.35595   \n",
       "ethereum                         -0.27348                      -0.11576   \n",
       "tether                            0.00800                      -0.55025   \n",
       "ripple                           -0.37316                      -0.45826   \n",
       "bitcoin-cash                     -0.29120                      -0.49985   \n",
       "\n",
       "              price_change_percentage_1y  \n",
       "coin_id                                   \n",
       "bitcoin                         -0.25164  \n",
       "ethereum                        -0.19935  \n",
       "tether                          -0.28206  \n",
       "ripple                          -0.29555  \n",
       "bitcoin-cash                    -0.27032  "
      ]
     },
     "execution_count": 53,
     "metadata": {},
     "output_type": "execute_result"
    }
   ],
   "source": [
    "# Create a DataFrame with the scaled data\n",
    "df_market_data_scaled = pd.DataFrame(\n",
    "    scaled_data,\n",
    "    columns=df_market_data.columns\n",
    ")\n",
    "\n",
    "# Copy the crypto names from the original data\n",
    "df_market_data_scaled[\"coin_id\"] = df_market_data.index\n",
    "\n",
    "# Set the coinid column as index\n",
    "df_market_data_scaled = df_market_data_scaled.set_index(\"coin_id\")\n",
    "\n",
    "# Display sample data\n",
    "df_market_data_scaled.head()"
   ]
  },
  {
   "cell_type": "markdown",
   "metadata": {},
   "source": [
    "---"
   ]
  },
  {
   "cell_type": "markdown",
   "metadata": {},
   "source": [
    "### Find the Best Value for k Using the Original Data\n",
    "\n",
    "In this section, you will use the elbow method to find the best value for `k`.\n",
    "\n",
    "1. Code the elbow method algorithm to find the best value for `k`. Use a range from 1 to 11. \n",
    "\n",
    "2. Plot a line chart with all the inertia values computed with the different values of `k` to visually identify the optimal value for `k`.\n",
    "\n",
    "3. Answer the following question: What is the best value for `k`?"
   ]
  },
  {
   "cell_type": "code",
   "execution_count": 54,
   "metadata": {},
   "outputs": [
    {
     "data": {
      "text/plain": [
       "[1, 2, 3, 4, 5, 6, 7, 8, 9, 10]"
      ]
     },
     "execution_count": 54,
     "metadata": {},
     "output_type": "execute_result"
    }
   ],
   "source": [
    "# Create a list with the number of k-values to try\n",
    "# Use a range from 1 to 11\n",
    "k = list(range(1, 11))\n",
    "k"
   ]
  },
  {
   "cell_type": "code",
   "execution_count": 55,
   "metadata": {},
   "outputs": [],
   "source": [
    "# Create an empy list to store the inertia values\n",
    "inertia = []"
   ]
  },
  {
   "cell_type": "code",
   "execution_count": 56,
   "metadata": {},
   "outputs": [
    {
     "name": "stderr",
     "output_type": "stream",
     "text": [
      "C:\\Users\\Jacob\\anaconda3\\envs\\dev\\lib\\site-packages\\sklearn\\cluster\\_kmeans.py:882: UserWarning: KMeans is known to have a memory leak on Windows with MKL, when there are less chunks than available threads. You can avoid it by setting the environment variable OMP_NUM_THREADS=1.\n",
      "  f\"KMeans is known to have a memory leak on Windows \"\n"
     ]
    },
    {
     "data": {
      "text/plain": [
       "[287.0,\n",
       " 195.82021818036043,\n",
       " 123.19048183836959,\n",
       " 79.02243535120978,\n",
       " 65.30237914162501,\n",
       " 52.88851821977533,\n",
       " 43.91469044757748,\n",
       " 37.51703249010357,\n",
       " 32.48524083218354,\n",
       " 28.222899290608932]"
      ]
     },
     "execution_count": 56,
     "metadata": {},
     "output_type": "execute_result"
    }
   ],
   "source": [
    "# Create a for loop to compute the inertia with each possible value of k\n",
    "# Inside the loop:\n",
    "# 1. Create a KMeans model using the loop counter for the n_clusters\n",
    "# 2. Fit the model to the data using `df_market_data_scaled`\n",
    "# 3. Append the model.inertia_ to the inertia list\n",
    "\n",
    "for i in k:\n",
    "    model = KMeans(n_clusters = i, random_state = 0)\n",
    "    model.fit(df_market_data_scaled)\n",
    "    inertia.append(model.inertia_)\n",
    "\n",
    "inertia"
   ]
  },
  {
   "cell_type": "code",
   "execution_count": 57,
   "metadata": {},
   "outputs": [
    {
     "data": {
      "text/html": [
       "<div>\n",
       "<style scoped>\n",
       "    .dataframe tbody tr th:only-of-type {\n",
       "        vertical-align: middle;\n",
       "    }\n",
       "\n",
       "    .dataframe tbody tr th {\n",
       "        vertical-align: top;\n",
       "    }\n",
       "\n",
       "    .dataframe thead th {\n",
       "        text-align: right;\n",
       "    }\n",
       "</style>\n",
       "<table border=\"1\" class=\"dataframe\">\n",
       "  <thead>\n",
       "    <tr style=\"text-align: right;\">\n",
       "      <th></th>\n",
       "      <th>k</th>\n",
       "      <th>inertia</th>\n",
       "    </tr>\n",
       "  </thead>\n",
       "  <tbody>\n",
       "    <tr>\n",
       "      <th>0</th>\n",
       "      <td>1</td>\n",
       "      <td>287.00000</td>\n",
       "    </tr>\n",
       "    <tr>\n",
       "      <th>1</th>\n",
       "      <td>2</td>\n",
       "      <td>195.82022</td>\n",
       "    </tr>\n",
       "    <tr>\n",
       "      <th>2</th>\n",
       "      <td>3</td>\n",
       "      <td>123.19048</td>\n",
       "    </tr>\n",
       "    <tr>\n",
       "      <th>3</th>\n",
       "      <td>4</td>\n",
       "      <td>79.02244</td>\n",
       "    </tr>\n",
       "    <tr>\n",
       "      <th>4</th>\n",
       "      <td>5</td>\n",
       "      <td>65.30238</td>\n",
       "    </tr>\n",
       "    <tr>\n",
       "      <th>5</th>\n",
       "      <td>6</td>\n",
       "      <td>52.88852</td>\n",
       "    </tr>\n",
       "    <tr>\n",
       "      <th>6</th>\n",
       "      <td>7</td>\n",
       "      <td>43.91469</td>\n",
       "    </tr>\n",
       "    <tr>\n",
       "      <th>7</th>\n",
       "      <td>8</td>\n",
       "      <td>37.51703</td>\n",
       "    </tr>\n",
       "    <tr>\n",
       "      <th>8</th>\n",
       "      <td>9</td>\n",
       "      <td>32.48524</td>\n",
       "    </tr>\n",
       "    <tr>\n",
       "      <th>9</th>\n",
       "      <td>10</td>\n",
       "      <td>28.22290</td>\n",
       "    </tr>\n",
       "  </tbody>\n",
       "</table>\n",
       "</div>"
      ],
      "text/plain": [
       "    k   inertia\n",
       "0   1 287.00000\n",
       "1   2 195.82022\n",
       "2   3 123.19048\n",
       "3   4  79.02244\n",
       "4   5  65.30238\n",
       "5   6  52.88852\n",
       "6   7  43.91469\n",
       "7   8  37.51703\n",
       "8   9  32.48524\n",
       "9  10  28.22290"
      ]
     },
     "execution_count": 57,
     "metadata": {},
     "output_type": "execute_result"
    }
   ],
   "source": [
    "# Create a dictionary with the data to plot the Elbow curve\n",
    "elbow_data = {\n",
    "    'k': k,\n",
    "    'inertia': inertia\n",
    "}\n",
    "\n",
    "# Create a DataFrame with the data to plot the Elbow curve\n",
    "df_elbow_data = pd.DataFrame(elbow_data)\n",
    "df_elbow_data"
   ]
  },
  {
   "cell_type": "code",
   "execution_count": 59,
   "metadata": {},
   "outputs": [
    {
     "data": {},
     "metadata": {},
     "output_type": "display_data"
    },
    {
     "data": {
      "application/vnd.holoviews_exec.v0+json": "",
      "text/html": [
       "<div id='3108'>\n",
       "\n",
       "\n",
       "\n",
       "\n",
       "\n",
       "  <div class=\"bk-root\" id=\"375349e1-3491-46fc-bbe7-414f87df8e28\" data-root-id=\"3108\"></div>\n",
       "</div>\n",
       "<script type=\"application/javascript\">(function(root) {\n",
       "  function embed_document(root) {\n",
       "    var docs_json = {\"d968a6b4-6011-406a-b066-e87971f01f0d\":{\"defs\":[{\"extends\":null,\"module\":null,\"name\":\"ReactiveHTML1\",\"overrides\":[],\"properties\":[]},{\"extends\":null,\"module\":null,\"name\":\"FlexBox1\",\"overrides\":[],\"properties\":[{\"default\":\"flex-start\",\"kind\":null,\"name\":\"align_content\"},{\"default\":\"flex-start\",\"kind\":null,\"name\":\"align_items\"},{\"default\":\"row\",\"kind\":null,\"name\":\"flex_direction\"},{\"default\":\"wrap\",\"kind\":null,\"name\":\"flex_wrap\"},{\"default\":\"flex-start\",\"kind\":null,\"name\":\"justify_content\"}]},{\"extends\":null,\"module\":null,\"name\":\"TemplateActions1\",\"overrides\":[],\"properties\":[{\"default\":0,\"kind\":null,\"name\":\"open_modal\"},{\"default\":0,\"kind\":null,\"name\":\"close_modal\"}]},{\"extends\":null,\"module\":null,\"name\":\"MaterialTemplateActions1\",\"overrides\":[],\"properties\":[{\"default\":0,\"kind\":null,\"name\":\"open_modal\"},{\"default\":0,\"kind\":null,\"name\":\"close_modal\"}]}],\"roots\":{\"references\":[{\"attributes\":{},\"id\":\"3154\",\"type\":\"BasicTickFormatter\"},{\"attributes\":{},\"id\":\"3131\",\"type\":\"PanTool\"},{\"attributes\":{\"text\":\"Elbow Data for k Optimization\",\"text_color\":\"black\",\"text_font_size\":\"12pt\"},\"id\":\"3114\",\"type\":\"Title\"},{\"attributes\":{},\"id\":\"3134\",\"type\":\"ResetTool\"},{\"attributes\":{\"margin\":[5,5,5,5],\"name\":\"HSpacer06283\",\"sizing_mode\":\"stretch_width\"},\"id\":\"3179\",\"type\":\"Spacer\"},{\"attributes\":{\"ticks\":[1,2,3,4,5,6,7,8,9,10]},\"id\":\"3152\",\"type\":\"FixedTicker\"},{\"attributes\":{},\"id\":\"3132\",\"type\":\"WheelZoomTool\"},{\"attributes\":{\"overlay\":{\"id\":\"3135\"}},\"id\":\"3133\",\"type\":\"BoxZoomTool\"},{\"attributes\":{},\"id\":\"3159\",\"type\":\"BasicTickFormatter\"},{\"attributes\":{\"line_alpha\":0.1,\"line_color\":\"#30a2da\",\"line_width\":2,\"x\":{\"field\":\"k\"},\"y\":{\"field\":\"inertia\"}},\"id\":\"3147\",\"type\":\"Line\"},{\"attributes\":{\"axis\":{\"id\":\"3122\"},\"grid_line_color\":null,\"ticker\":null},\"id\":\"3125\",\"type\":\"Grid\"},{\"attributes\":{},\"id\":\"3118\",\"type\":\"LinearScale\"},{\"attributes\":{\"callback\":null,\"renderers\":[{\"id\":\"3149\"}],\"tags\":[\"hv_created\"],\"tooltips\":[[\"k\",\"@{k}\"],[\"inertia\",\"@{inertia}\"]]},\"id\":\"3112\",\"type\":\"HoverTool\"},{\"attributes\":{},\"id\":\"3120\",\"type\":\"LinearScale\"},{\"attributes\":{\"axis_label\":\"inertia\",\"formatter\":{\"id\":\"3159\"},\"major_label_policy\":{\"id\":\"3158\"},\"ticker\":{\"id\":\"3127\"}},\"id\":\"3126\",\"type\":\"LinearAxis\"},{\"attributes\":{\"source\":{\"id\":\"3143\"}},\"id\":\"3150\",\"type\":\"CDSView\"},{\"attributes\":{\"axis_label\":\"k\",\"formatter\":{\"id\":\"3154\"},\"major_label_policy\":{\"id\":\"3153\"},\"ticker\":{\"id\":\"3152\"}},\"id\":\"3122\",\"type\":\"LinearAxis\"},{\"attributes\":{\"end\":312.8777100709391,\"reset_end\":312.8777100709391,\"reset_start\":2.3451892196698267,\"start\":2.3451892196698267,\"tags\":[[[\"inertia\",\"inertia\",null]]]},\"id\":\"3111\",\"type\":\"Range1d\"},{\"attributes\":{\"data\":{\"inertia\":{\"__ndarray__\":\"AAAAAADwcUByhzI6P3poQOGRvNowzF5AGe6ulG/BU0BoEQsuWlNQQOfqC/e6cUpAiSebkxT1RUBt++EeLsJCQMF0IF8cPkBAi3eL7Q85PEA=\",\"dtype\":\"float64\",\"order\":\"little\",\"shape\":[10]},\"k\":[1,2,3,4,5,6,7,8,9,10]},\"selected\":{\"id\":\"3144\"},\"selection_policy\":{\"id\":\"3168\"}},\"id\":\"3143\",\"type\":\"ColumnDataSource\"},{\"attributes\":{\"line_color\":\"#30a2da\",\"line_width\":2,\"x\":{\"field\":\"k\"},\"y\":{\"field\":\"inertia\"}},\"id\":\"3151\",\"type\":\"Line\"},{\"attributes\":{\"children\":[{\"id\":\"3109\"},{\"id\":\"3113\"},{\"id\":\"3179\"}],\"margin\":[0,0,0,0],\"name\":\"Row06278\",\"tags\":[\"embedded\"]},\"id\":\"3108\",\"type\":\"Row\"},{\"attributes\":{},\"id\":\"3127\",\"type\":\"BasicTicker\"},{\"attributes\":{\"margin\":[5,5,5,5],\"name\":\"HSpacer06282\",\"sizing_mode\":\"stretch_width\"},\"id\":\"3109\",\"type\":\"Spacer\"},{\"attributes\":{\"axis\":{\"id\":\"3126\"},\"dimension\":1,\"grid_line_color\":null,\"ticker\":null},\"id\":\"3129\",\"type\":\"Grid\"},{\"attributes\":{\"active_multi\":null,\"tools\":[{\"id\":\"3112\"},{\"id\":\"3130\"},{\"id\":\"3131\"},{\"id\":\"3132\"},{\"id\":\"3133\"},{\"id\":\"3134\"}]},\"id\":\"3136\",\"type\":\"Toolbar\"},{\"attributes\":{},\"id\":\"3153\",\"type\":\"AllLabels\"},{\"attributes\":{\"bottom_units\":\"screen\",\"fill_alpha\":0.5,\"fill_color\":\"lightgrey\",\"left_units\":\"screen\",\"level\":\"overlay\",\"line_alpha\":1.0,\"line_color\":\"black\",\"line_dash\":[4,4],\"line_width\":2,\"right_units\":\"screen\",\"syncable\":false,\"top_units\":\"screen\"},\"id\":\"3135\",\"type\":\"BoxAnnotation\"},{\"attributes\":{},\"id\":\"3144\",\"type\":\"Selection\"},{\"attributes\":{\"line_color\":\"#30a2da\",\"line_width\":2,\"x\":{\"field\":\"k\"},\"y\":{\"field\":\"inertia\"}},\"id\":\"3146\",\"type\":\"Line\"},{\"attributes\":{\"line_alpha\":0.2,\"line_color\":\"#30a2da\",\"line_width\":2,\"x\":{\"field\":\"k\"},\"y\":{\"field\":\"inertia\"}},\"id\":\"3148\",\"type\":\"Line\"},{\"attributes\":{},\"id\":\"3158\",\"type\":\"AllLabels\"},{\"attributes\":{\"end\":10.0,\"reset_end\":10.0,\"reset_start\":1.0,\"start\":1.0,\"tags\":[[[\"k\",\"k\",null]]]},\"id\":\"3110\",\"type\":\"Range1d\"},{\"attributes\":{},\"id\":\"3168\",\"type\":\"UnionRenderers\"},{\"attributes\":{\"data_source\":{\"id\":\"3143\"},\"glyph\":{\"id\":\"3146\"},\"hover_glyph\":null,\"muted_glyph\":{\"id\":\"3148\"},\"nonselection_glyph\":{\"id\":\"3147\"},\"selection_glyph\":{\"id\":\"3151\"},\"view\":{\"id\":\"3150\"}},\"id\":\"3149\",\"type\":\"GlyphRenderer\"},{\"attributes\":{},\"id\":\"3130\",\"type\":\"SaveTool\"},{\"attributes\":{\"below\":[{\"id\":\"3122\"}],\"center\":[{\"id\":\"3125\"},{\"id\":\"3129\"}],\"height\":450,\"left\":[{\"id\":\"3126\"}],\"margin\":[5,5,5,5],\"min_border_bottom\":10,\"min_border_left\":10,\"min_border_right\":10,\"min_border_top\":10,\"renderers\":[{\"id\":\"3149\"}],\"sizing_mode\":\"fixed\",\"title\":{\"id\":\"3114\"},\"toolbar\":{\"id\":\"3136\"},\"width\":1000,\"x_range\":{\"id\":\"3110\"},\"x_scale\":{\"id\":\"3118\"},\"y_range\":{\"id\":\"3111\"},\"y_scale\":{\"id\":\"3120\"}},\"id\":\"3113\",\"subtype\":\"Figure\",\"type\":\"Plot\"}],\"root_ids\":[\"3108\"]},\"title\":\"Bokeh Application\",\"version\":\"2.3.2\"}};\n",
       "    var render_items = [{\"docid\":\"d968a6b4-6011-406a-b066-e87971f01f0d\",\"root_ids\":[\"3108\"],\"roots\":{\"3108\":\"375349e1-3491-46fc-bbe7-414f87df8e28\"}}];\n",
       "    root.Bokeh.embed.embed_items_notebook(docs_json, render_items);\n",
       "  }\n",
       "  if (root.Bokeh !== undefined && root.Bokeh.Panel !== undefined) {\n",
       "    embed_document(root);\n",
       "  } else {\n",
       "    var attempts = 0;\n",
       "    var timer = setInterval(function(root) {\n",
       "      if (root.Bokeh !== undefined && root.Bokeh.Panel !== undefined) {\n",
       "        clearInterval(timer);\n",
       "        embed_document(root);\n",
       "      } else if (document.readyState == \"complete\") {\n",
       "        attempts++;\n",
       "        if (attempts > 200) {\n",
       "          clearInterval(timer);\n",
       "          console.log(\"Bokeh: ERROR: Unable to run BokehJS code because BokehJS library is missing\");\n",
       "        }\n",
       "      }\n",
       "    }, 25, root)\n",
       "  }\n",
       "})(window);</script>"
      ],
      "text/plain": [
       ":Curve   [k]   (inertia)"
      ]
     },
     "execution_count": 59,
     "metadata": {
      "application/vnd.holoviews_exec.v0+json": {
       "id": "3108"
      }
     },
     "output_type": "execute_result"
    }
   ],
   "source": [
    "# Plot a line chart with all the inertia values computed with \n",
    "# the different values of k to visually identify the optimal value for k.\n",
    "\n",
    "df_elbow_data.hvplot.line(\n",
    "    title = 'Elbow Data for k Optimization',\n",
    "    x = 'k',\n",
    "    y = 'inertia',\n",
    "    xticks = k,\n",
    "    width = 1000,\n",
    "    height = 450\n",
    ")"
   ]
  },
  {
   "cell_type": "markdown",
   "metadata": {},
   "source": [
    "#### Answer the following question: What is the best value for k?\n",
    "**Question:** What is the best value for `k`?\n",
    "\n",
    "**Answer:** The best number for k is its value where the curve flattens out like an elbow. In the preceding image, this seems to happen at about **k=4**."
   ]
  },
  {
   "cell_type": "markdown",
   "metadata": {},
   "source": [
    "---"
   ]
  },
  {
   "cell_type": "code",
   "execution_count": 60,
   "metadata": {},
   "outputs": [],
   "source": [
    "# Initialize the K-Means model using the best value for k\n",
    "model = KMeans(n_clusters = 4)"
   ]
  },
  {
   "cell_type": "code",
   "execution_count": null,
   "metadata": {},
   "outputs": [],
   "source": [
    "# Initialize teh K-Means model with four clusters, since that was the best value for k\n",
    "model = KMeans(n_clusters = 4)\n",
    "\n",
    "# Fit the K-Means model using the original data\n",
    "model.fit(df_market_data_scaled)\n",
    "\n",
    "#Predict the clusters to group the cryptocurrencies using the original data.\n",
    "market_data_clusters = model.predict(df_market_data_scaled)\n",
    "market_data_clusters\n"
   ]
  },
  {
   "cell_type": "code",
   "execution_count": 61,
   "metadata": {},
   "outputs": [
    {
     "data": {
      "text/plain": [
       "KMeans(n_clusters=4)"
      ]
     },
     "execution_count": 61,
     "metadata": {},
     "output_type": "execute_result"
    }
   ],
   "source": [
    "# Fit the K-Means model using the scaled data\n",
    "model.fit(df_market_data)"
   ]
  },
  {
   "cell_type": "code",
   "execution_count": null,
   "metadata": {},
   "outputs": [],
   "source": [
    "# Create a copy of the original data and add a new column with the predicted clusters.\n",
    "df_market_data_clusters = df_market_data_scaled.copy()\n",
    "df_market_data_clusters['Market Data Cluster'] = market_data_clusters\n",
    "\n",
    "# Capitalize coin name for more effective visualizations\n",
    "df_market_data_clusters.index = df_market_data_clusters.index.str.capitalize()\n",
    "\n",
    "df_market_data_clusters.head()"
   ]
  },
  {
   "cell_type": "code",
   "execution_count": 62,
   "metadata": {},
   "outputs": [
    {
     "data": {
      "text/plain": [
       "array([0, 0, 0, 0, 0, 0, 3, 0, 0, 0, 0, 0, 0, 0, 0, 0, 0, 0, 0, 0, 0, 0,\n",
       "       0, 0, 0, 0, 0, 0, 0, 3, 0, 0, 1, 0, 3, 3, 2, 0, 0, 0, 3])"
      ]
     },
     "execution_count": 62,
     "metadata": {},
     "output_type": "execute_result"
    }
   ],
   "source": [
    "# Predict the clusters to group the cryptocurrencies using the scaled data\n",
    "market_data_clusters = model.predict(df_market_data)\n",
    "\n",
    "# View the resulting array of cluster values.\n",
    "market_data_clusters"
   ]
  },
  {
   "cell_type": "code",
   "execution_count": 63,
   "metadata": {},
   "outputs": [],
   "source": [
    "# Create a copy of the DataFrame\n",
    "df_market_data_clusters = df_market_data.copy()"
   ]
  },
  {
   "cell_type": "code",
   "execution_count": 66,
   "metadata": {},
   "outputs": [
    {
     "data": {
      "text/html": [
       "<div>\n",
       "<style scoped>\n",
       "    .dataframe tbody tr th:only-of-type {\n",
       "        vertical-align: middle;\n",
       "    }\n",
       "\n",
       "    .dataframe tbody tr th {\n",
       "        vertical-align: top;\n",
       "    }\n",
       "\n",
       "    .dataframe thead th {\n",
       "        text-align: right;\n",
       "    }\n",
       "</style>\n",
       "<table border=\"1\" class=\"dataframe\">\n",
       "  <thead>\n",
       "    <tr style=\"text-align: right;\">\n",
       "      <th></th>\n",
       "      <th>price_change_percentage_24h</th>\n",
       "      <th>price_change_percentage_7d</th>\n",
       "      <th>price_change_percentage_14d</th>\n",
       "      <th>price_change_percentage_30d</th>\n",
       "      <th>price_change_percentage_60d</th>\n",
       "      <th>price_change_percentage_200d</th>\n",
       "      <th>price_change_percentage_1y</th>\n",
       "      <th>Market Data Cluster</th>\n",
       "    </tr>\n",
       "    <tr>\n",
       "      <th>coin_id</th>\n",
       "      <th></th>\n",
       "      <th></th>\n",
       "      <th></th>\n",
       "      <th></th>\n",
       "      <th></th>\n",
       "      <th></th>\n",
       "      <th></th>\n",
       "      <th></th>\n",
       "    </tr>\n",
       "  </thead>\n",
       "  <tbody>\n",
       "    <tr>\n",
       "      <th>bitcoin</th>\n",
       "      <td>1.08388</td>\n",
       "      <td>7.60278</td>\n",
       "      <td>6.57509</td>\n",
       "      <td>7.67258</td>\n",
       "      <td>-3.25185</td>\n",
       "      <td>83.51840</td>\n",
       "      <td>37.51761</td>\n",
       "      <td>0</td>\n",
       "    </tr>\n",
       "    <tr>\n",
       "      <th>ethereum</th>\n",
       "      <td>0.22392</td>\n",
       "      <td>10.38134</td>\n",
       "      <td>4.80849</td>\n",
       "      <td>0.13169</td>\n",
       "      <td>-12.88890</td>\n",
       "      <td>186.77418</td>\n",
       "      <td>101.96023</td>\n",
       "      <td>0</td>\n",
       "    </tr>\n",
       "    <tr>\n",
       "      <th>tether</th>\n",
       "      <td>-0.21173</td>\n",
       "      <td>0.04935</td>\n",
       "      <td>0.00640</td>\n",
       "      <td>-0.04237</td>\n",
       "      <td>0.28037</td>\n",
       "      <td>-0.00542</td>\n",
       "      <td>0.01954</td>\n",
       "      <td>0</td>\n",
       "    </tr>\n",
       "    <tr>\n",
       "      <th>ripple</th>\n",
       "      <td>-0.37819</td>\n",
       "      <td>-0.60926</td>\n",
       "      <td>2.24984</td>\n",
       "      <td>0.23455</td>\n",
       "      <td>-17.55245</td>\n",
       "      <td>39.53888</td>\n",
       "      <td>-16.60193</td>\n",
       "      <td>0</td>\n",
       "    </tr>\n",
       "    <tr>\n",
       "      <th>bitcoin-cash</th>\n",
       "      <td>2.90585</td>\n",
       "      <td>17.09717</td>\n",
       "      <td>14.75334</td>\n",
       "      <td>15.74903</td>\n",
       "      <td>-13.71793</td>\n",
       "      <td>21.66042</td>\n",
       "      <td>14.49384</td>\n",
       "      <td>0</td>\n",
       "    </tr>\n",
       "  </tbody>\n",
       "</table>\n",
       "</div>"
      ],
      "text/plain": [
       "              price_change_percentage_24h  price_change_percentage_7d  \\\n",
       "coin_id                                                                 \n",
       "bitcoin                           1.08388                     7.60278   \n",
       "ethereum                          0.22392                    10.38134   \n",
       "tether                           -0.21173                     0.04935   \n",
       "ripple                           -0.37819                    -0.60926   \n",
       "bitcoin-cash                      2.90585                    17.09717   \n",
       "\n",
       "              price_change_percentage_14d  price_change_percentage_30d  \\\n",
       "coin_id                                                                  \n",
       "bitcoin                           6.57509                      7.67258   \n",
       "ethereum                          4.80849                      0.13169   \n",
       "tether                            0.00640                     -0.04237   \n",
       "ripple                            2.24984                      0.23455   \n",
       "bitcoin-cash                     14.75334                     15.74903   \n",
       "\n",
       "              price_change_percentage_60d  price_change_percentage_200d  \\\n",
       "coin_id                                                                   \n",
       "bitcoin                          -3.25185                      83.51840   \n",
       "ethereum                        -12.88890                     186.77418   \n",
       "tether                            0.28037                      -0.00542   \n",
       "ripple                          -17.55245                      39.53888   \n",
       "bitcoin-cash                    -13.71793                      21.66042   \n",
       "\n",
       "              price_change_percentage_1y  Market Data Cluster  \n",
       "coin_id                                                        \n",
       "bitcoin                         37.51761                    0  \n",
       "ethereum                       101.96023                    0  \n",
       "tether                           0.01954                    0  \n",
       "ripple                         -16.60193                    0  \n",
       "bitcoin-cash                    14.49384                    0  "
      ]
     },
     "metadata": {},
     "output_type": "display_data"
    },
    {
     "data": {
      "text/html": [
       "<div>\n",
       "<style scoped>\n",
       "    .dataframe tbody tr th:only-of-type {\n",
       "        vertical-align: middle;\n",
       "    }\n",
       "\n",
       "    .dataframe tbody tr th {\n",
       "        vertical-align: top;\n",
       "    }\n",
       "\n",
       "    .dataframe thead th {\n",
       "        text-align: right;\n",
       "    }\n",
       "</style>\n",
       "<table border=\"1\" class=\"dataframe\">\n",
       "  <thead>\n",
       "    <tr style=\"text-align: right;\">\n",
       "      <th></th>\n",
       "      <th>price_change_percentage_24h</th>\n",
       "      <th>price_change_percentage_7d</th>\n",
       "      <th>price_change_percentage_14d</th>\n",
       "      <th>price_change_percentage_30d</th>\n",
       "      <th>price_change_percentage_60d</th>\n",
       "      <th>price_change_percentage_200d</th>\n",
       "      <th>price_change_percentage_1y</th>\n",
       "      <th>Market Data Cluster</th>\n",
       "    </tr>\n",
       "    <tr>\n",
       "      <th>coin_id</th>\n",
       "      <th></th>\n",
       "      <th></th>\n",
       "      <th></th>\n",
       "      <th></th>\n",
       "      <th></th>\n",
       "      <th></th>\n",
       "      <th></th>\n",
       "      <th></th>\n",
       "    </tr>\n",
       "  </thead>\n",
       "  <tbody>\n",
       "    <tr>\n",
       "      <th>celsius-degree-token</th>\n",
       "      <td>2.51323</td>\n",
       "      <td>0.60354</td>\n",
       "      <td>24.23919</td>\n",
       "      <td>140.79570</td>\n",
       "      <td>223.06437</td>\n",
       "      <td>1590.19149</td>\n",
       "      <td>2009.72217</td>\n",
       "      <td>2</td>\n",
       "    </tr>\n",
       "    <tr>\n",
       "      <th>ontology</th>\n",
       "      <td>-1.35845</td>\n",
       "      <td>-1.21399</td>\n",
       "      <td>-10.56222</td>\n",
       "      <td>-34.70548</td>\n",
       "      <td>-32.70004</td>\n",
       "      <td>54.76717</td>\n",
       "      <td>-12.65493</td>\n",
       "      <td>0</td>\n",
       "    </tr>\n",
       "    <tr>\n",
       "      <th>ftx-token</th>\n",
       "      <td>0.83416</td>\n",
       "      <td>7.10438</td>\n",
       "      <td>-0.20629</td>\n",
       "      <td>-10.56394</td>\n",
       "      <td>5.90295</td>\n",
       "      <td>57.48950</td>\n",
       "      <td>168.37251</td>\n",
       "      <td>0</td>\n",
       "    </tr>\n",
       "    <tr>\n",
       "      <th>true-usd</th>\n",
       "      <td>-0.06197</td>\n",
       "      <td>0.16642</td>\n",
       "      <td>0.10974</td>\n",
       "      <td>0.03090</td>\n",
       "      <td>0.25154</td>\n",
       "      <td>-0.08874</td>\n",
       "      <td>0.40617</td>\n",
       "      <td>0</td>\n",
       "    </tr>\n",
       "    <tr>\n",
       "      <th>digibyte</th>\n",
       "      <td>2.97084</td>\n",
       "      <td>0.67038</td>\n",
       "      <td>-7.31941</td>\n",
       "      <td>13.25354</td>\n",
       "      <td>-31.09030</td>\n",
       "      <td>482.58918</td>\n",
       "      <td>184.38014</td>\n",
       "      <td>3</td>\n",
       "    </tr>\n",
       "  </tbody>\n",
       "</table>\n",
       "</div>"
      ],
      "text/plain": [
       "                      price_change_percentage_24h  price_change_percentage_7d  \\\n",
       "coin_id                                                                         \n",
       "celsius-degree-token                      2.51323                     0.60354   \n",
       "ontology                                 -1.35845                    -1.21399   \n",
       "ftx-token                                 0.83416                     7.10438   \n",
       "true-usd                                 -0.06197                     0.16642   \n",
       "digibyte                                  2.97084                     0.67038   \n",
       "\n",
       "                      price_change_percentage_14d  \\\n",
       "coin_id                                             \n",
       "celsius-degree-token                     24.23919   \n",
       "ontology                                -10.56222   \n",
       "ftx-token                                -0.20629   \n",
       "true-usd                                  0.10974   \n",
       "digibyte                                 -7.31941   \n",
       "\n",
       "                      price_change_percentage_30d  \\\n",
       "coin_id                                             \n",
       "celsius-degree-token                    140.79570   \n",
       "ontology                                -34.70548   \n",
       "ftx-token                               -10.56394   \n",
       "true-usd                                  0.03090   \n",
       "digibyte                                 13.25354   \n",
       "\n",
       "                      price_change_percentage_60d  \\\n",
       "coin_id                                             \n",
       "celsius-degree-token                    223.06437   \n",
       "ontology                                -32.70004   \n",
       "ftx-token                                 5.90295   \n",
       "true-usd                                  0.25154   \n",
       "digibyte                                -31.09030   \n",
       "\n",
       "                      price_change_percentage_200d  \\\n",
       "coin_id                                              \n",
       "celsius-degree-token                    1590.19149   \n",
       "ontology                                  54.76717   \n",
       "ftx-token                                 57.48950   \n",
       "true-usd                                  -0.08874   \n",
       "digibyte                                 482.58918   \n",
       "\n",
       "                      price_change_percentage_1y  Market Data Cluster  \n",
       "coin_id                                                                \n",
       "celsius-degree-token                  2009.72217                    2  \n",
       "ontology                               -12.65493                    0  \n",
       "ftx-token                              168.37251                    0  \n",
       "true-usd                                 0.40617                    0  \n",
       "digibyte                               184.38014                    3  "
      ]
     },
     "metadata": {},
     "output_type": "display_data"
    }
   ],
   "source": [
    "# Add a new column to the DataFrame with the predicted clusters\n",
    "df_market_data_clusters['Market Data Cluster']  = market_data_clusters\n",
    "\n",
    "# Display sample data\n",
    "display(df_market_data_clusters.head())\n",
    "display(df_market_data_clusters.tail())\n"
   ]
  },
  {
   "cell_type": "code",
   "execution_count": 69,
   "metadata": {},
   "outputs": [
    {
     "data": {},
     "metadata": {},
     "output_type": "display_data"
    },
    {
     "data": {
      "application/vnd.holoviews_exec.v0+json": "",
      "text/html": [
       "<div id='3230'>\n",
       "\n",
       "\n",
       "\n",
       "\n",
       "\n",
       "  <div class=\"bk-root\" id=\"a98c226e-20b3-4499-b234-4d4d2674ee35\" data-root-id=\"3230\"></div>\n",
       "</div>\n",
       "<script type=\"application/javascript\">(function(root) {\n",
       "  function embed_document(root) {\n",
       "    var docs_json = {\"995d0d9e-9358-41f7-965a-0bcc85d4c6a3\":{\"defs\":[{\"extends\":null,\"module\":null,\"name\":\"ReactiveHTML1\",\"overrides\":[],\"properties\":[]},{\"extends\":null,\"module\":null,\"name\":\"FlexBox1\",\"overrides\":[],\"properties\":[{\"default\":\"flex-start\",\"kind\":null,\"name\":\"align_content\"},{\"default\":\"flex-start\",\"kind\":null,\"name\":\"align_items\"},{\"default\":\"row\",\"kind\":null,\"name\":\"flex_direction\"},{\"default\":\"wrap\",\"kind\":null,\"name\":\"flex_wrap\"},{\"default\":\"flex-start\",\"kind\":null,\"name\":\"justify_content\"}]},{\"extends\":null,\"module\":null,\"name\":\"TemplateActions1\",\"overrides\":[],\"properties\":[{\"default\":0,\"kind\":null,\"name\":\"open_modal\"},{\"default\":0,\"kind\":null,\"name\":\"close_modal\"}]},{\"extends\":null,\"module\":null,\"name\":\"MaterialTemplateActions1\",\"overrides\":[],\"properties\":[{\"default\":0,\"kind\":null,\"name\":\"open_modal\"},{\"default\":0,\"kind\":null,\"name\":\"close_modal\"}]}],\"roots\":{\"references\":[{\"attributes\":{},\"id\":\"3255\",\"type\":\"SaveTool\"},{\"attributes\":{},\"id\":\"3256\",\"type\":\"PanTool\"},{\"attributes\":{},\"id\":\"3259\",\"type\":\"ResetTool\"},{\"attributes\":{},\"id\":\"3257\",\"type\":\"WheelZoomTool\"},{\"attributes\":{\"data\":{\"Market_Data_Cluster\":[1],\"coin_id\":[\"ethlend\"],\"price_change_percentage_24h\":{\"__ndarray__\":\"rrt5qkMOK8A=\",\"dtype\":\"float64\",\"order\":\"little\",\"shape\":[1]},\"price_change_percentage_7d\":{\"__ndarray__\":\"YKsEi8PZEEA=\",\"dtype\":\"float64\",\"order\":\"little\",\"shape\":[1]}},\"selected\":{\"id\":\"3302\"},\"selection_policy\":{\"id\":\"3317\"}},\"id\":\"3301\",\"type\":\"ColumnDataSource\"},{\"attributes\":{\"overlay\":{\"id\":\"3260\"}},\"id\":\"3258\",\"type\":\"BoxZoomTool\"},{\"attributes\":{\"data\":{\"Market_Data_Cluster\":[3,3,3,3,3],\"coin_id\":[\"chainlink\",\"theta-token\",\"havven\",\"omisego\",\"digibyte\"],\"price_change_percentage_24h\":{\"__ndarray__\":\"whcmUwWjzr8fnbryWT4SwERRoE/kSRDABmSvd39cE0BqMA3DR8QHQA==\",\"dtype\":\"float64\",\"order\":\"little\",\"shape\":[5]},\"price_change_percentage_7d\":{\"__ndarray__\":\"7yB2ptCxNED/CS5W1GAYwJsb0xOWWBFAqFfKMsRRG0Ayj/zBwHPlPw==\",\"dtype\":\"float64\",\"order\":\"little\",\"shape\":[5]}},\"selected\":{\"id\":\"3344\"},\"selection_policy\":{\"id\":\"3363\"}},\"id\":\"3343\",\"type\":\"ColumnDataSource\"},{\"attributes\":{},\"id\":\"3344\",\"type\":\"Selection\"},{\"attributes\":{\"click_policy\":\"mute\",\"items\":[{\"id\":\"3299\"},{\"id\":\"3319\"},{\"id\":\"3341\"},{\"id\":\"3365\"}],\"location\":[0,0],\"title\":\"Market Data Cluster\"},\"id\":\"3298\",\"type\":\"Legend\"},{\"attributes\":{\"source\":{\"id\":\"3301\"}},\"id\":\"3308\",\"type\":\"CDSView\"},{\"attributes\":{},\"id\":\"3270\",\"type\":\"AllLabels\"},{\"attributes\":{\"children\":[{\"id\":\"3231\"},{\"id\":\"3238\"},{\"id\":\"3493\"}],\"margin\":[0,0,0,0],\"name\":\"Row06554\",\"tags\":[\"embedded\"]},\"id\":\"3230\",\"type\":\"Row\"},{\"attributes\":{\"data_source\":{\"id\":\"3282\"},\"glyph\":{\"id\":\"3285\"},\"hover_glyph\":null,\"muted_glyph\":{\"id\":\"3287\"},\"nonselection_glyph\":{\"id\":\"3286\"},\"selection_glyph\":{\"id\":\"3300\"},\"view\":{\"id\":\"3289\"}},\"id\":\"3288\",\"type\":\"GlyphRenderer\"},{\"attributes\":{\"fill_alpha\":{\"value\":0.1},\"fill_color\":{\"value\":\"#fc4f30\"},\"line_alpha\":{\"value\":0.1},\"line_color\":{\"value\":\"#fc4f30\"},\"size\":{\"value\":5.477225575051661},\"x\":{\"field\":\"price_change_percentage_24h\"},\"y\":{\"field\":\"price_change_percentage_7d\"}},\"id\":\"3305\",\"type\":\"Scatter\"},{\"attributes\":{},\"id\":\"3283\",\"type\":\"Selection\"},{\"attributes\":{},\"id\":\"3322\",\"type\":\"Selection\"},{\"attributes\":{\"angle\":{\"value\":0.0},\"fill_alpha\":{\"value\":1.0},\"fill_color\":{\"value\":\"#30a2da\"},\"hatch_alpha\":{\"value\":1.0},\"hatch_color\":{\"value\":\"black\"},\"hatch_scale\":{\"value\":12.0},\"hatch_weight\":{\"value\":1.0},\"line_alpha\":{\"value\":1.0},\"line_cap\":{\"value\":\"butt\"},\"line_color\":{\"value\":\"#30a2da\"},\"line_dash\":{\"value\":[]},\"line_dash_offset\":{\"value\":0},\"line_join\":{\"value\":\"bevel\"},\"line_width\":{\"value\":1},\"marker\":{\"value\":\"circle\"},\"size\":{\"value\":5.477225575051661},\"x\":{\"field\":\"price_change_percentage_24h\"},\"y\":{\"field\":\"price_change_percentage_7d\"}},\"id\":\"3300\",\"type\":\"Scatter\"},{\"attributes\":{},\"id\":\"3302\",\"type\":\"Selection\"},{\"attributes\":{\"label\":{\"value\":\"0\"},\"renderers\":[{\"id\":\"3288\"}]},\"id\":\"3299\",\"type\":\"LegendItem\"},{\"attributes\":{\"text\":\"Cryptocurrency Clusters: Price Change, 24h vs 7d\",\"text_color\":\"black\",\"text_font_size\":\"20pt\"},\"id\":\"3239\",\"type\":\"Title\"},{\"attributes\":{\"fill_alpha\":{\"value\":0.2},\"fill_color\":{\"value\":\"#30a2da\"},\"line_alpha\":{\"value\":0.2},\"line_color\":{\"value\":\"#30a2da\"},\"size\":{\"value\":5.477225575051661},\"x\":{\"field\":\"price_change_percentage_24h\"},\"y\":{\"field\":\"price_change_percentage_7d\"}},\"id\":\"3287\",\"type\":\"Scatter\"},{\"attributes\":{},\"id\":\"3296\",\"type\":\"UnionRenderers\"},{\"attributes\":{\"fill_color\":{\"value\":\"#e5ae38\"},\"line_color\":{\"value\":\"#e5ae38\"},\"size\":{\"value\":5.477225575051661},\"x\":{\"field\":\"price_change_percentage_24h\"},\"y\":{\"field\":\"price_change_percentage_7d\"}},\"id\":\"3324\",\"type\":\"Scatter\"},{\"attributes\":{},\"id\":\"3275\",\"type\":\"AllLabels\"},{\"attributes\":{\"callback\":null,\"renderers\":[{\"id\":\"3288\"},{\"id\":\"3307\"},{\"id\":\"3327\"},{\"id\":\"3349\"}],\"tooltips\":[[\"Coin Name:\",\"@coin_id\"],[\"24H Price Change:\",\"@price_change_percentage_24h{0.00}%\"],[\" 7D Price Change:\",\"@price_change_percentage_7d{0.00}%\"]]},\"id\":\"3234\",\"type\":\"HoverTool\"},{\"attributes\":{\"bottom_units\":\"screen\",\"fill_alpha\":0.5,\"fill_color\":\"lightgrey\",\"left_units\":\"screen\",\"level\":\"overlay\",\"line_alpha\":1.0,\"line_color\":\"black\",\"line_dash\":[4,4],\"line_width\":2,\"right_units\":\"screen\",\"syncable\":false,\"top_units\":\"screen\"},\"id\":\"3260\",\"type\":\"BoxAnnotation\"},{\"attributes\":{\"data_source\":{\"id\":\"3301\"},\"glyph\":{\"id\":\"3304\"},\"hover_glyph\":null,\"muted_glyph\":{\"id\":\"3306\"},\"nonselection_glyph\":{\"id\":\"3305\"},\"selection_glyph\":{\"id\":\"3320\"},\"view\":{\"id\":\"3308\"}},\"id\":\"3307\",\"type\":\"GlyphRenderer\"},{\"attributes\":{\"end\":23.373505,\"reset_end\":23.373505,\"reset_start\":-8.773475000000001,\"start\":-8.773475000000001,\"tags\":[[[\"price_change_percentage_7d\",\"price_change_percentage_7d\",null]]]},\"id\":\"3233\",\"type\":\"Range1d\"},{\"attributes\":{\"fill_alpha\":{\"value\":0.1},\"fill_color\":{\"value\":\"#30a2da\"},\"line_alpha\":{\"value\":0.1},\"line_color\":{\"value\":\"#30a2da\"},\"size\":{\"value\":5.477225575051661},\"x\":{\"field\":\"price_change_percentage_24h\"},\"y\":{\"field\":\"price_change_percentage_7d\"}},\"id\":\"3286\",\"type\":\"Scatter\"},{\"attributes\":{\"fill_color\":{\"value\":\"#fc4f30\"},\"line_color\":{\"value\":\"#fc4f30\"},\"size\":{\"value\":5.477225575051661},\"x\":{\"field\":\"price_change_percentage_24h\"},\"y\":{\"field\":\"price_change_percentage_7d\"}},\"id\":\"3304\",\"type\":\"Scatter\"},{\"attributes\":{\"below\":[{\"id\":\"3247\"}],\"center\":[{\"id\":\"3250\"},{\"id\":\"3254\"}],\"height\":450,\"left\":[{\"id\":\"3251\"}],\"margin\":[5,5,5,5],\"min_border_bottom\":10,\"min_border_left\":10,\"min_border_right\":10,\"min_border_top\":10,\"renderers\":[{\"id\":\"3288\"},{\"id\":\"3307\"},{\"id\":\"3327\"},{\"id\":\"3349\"}],\"right\":[{\"id\":\"3298\"}],\"sizing_mode\":\"fixed\",\"title\":{\"id\":\"3239\"},\"toolbar\":{\"id\":\"3261\"},\"width\":1000,\"x_range\":{\"id\":\"3232\"},\"x_scale\":{\"id\":\"3243\"},\"y_range\":{\"id\":\"3233\"},\"y_scale\":{\"id\":\"3245\"}},\"id\":\"3238\",\"subtype\":\"Figure\",\"type\":\"Plot\"},{\"attributes\":{\"active_multi\":null,\"tools\":[{\"id\":\"3234\"},{\"id\":\"3255\"},{\"id\":\"3256\"},{\"id\":\"3257\"},{\"id\":\"3258\"},{\"id\":\"3259\"}]},\"id\":\"3261\",\"type\":\"Toolbar\"},{\"attributes\":{\"fill_alpha\":{\"value\":0.2},\"fill_color\":{\"value\":\"#fc4f30\"},\"line_alpha\":{\"value\":0.2},\"line_color\":{\"value\":\"#fc4f30\"},\"size\":{\"value\":5.477225575051661},\"x\":{\"field\":\"price_change_percentage_24h\"},\"y\":{\"field\":\"price_change_percentage_7d\"}},\"id\":\"3306\",\"type\":\"Scatter\"},{\"attributes\":{\"source\":{\"id\":\"3321\"}},\"id\":\"3328\",\"type\":\"CDSView\"},{\"attributes\":{\"end\":5.66689855,\"reset_end\":5.66689855,\"reset_start\":-14.35442855,\"start\":-14.35442855,\"tags\":[[[\"price_change_percentage_24h\",\"price_change_percentage_24h\",null]]]},\"id\":\"3232\",\"type\":\"Range1d\"},{\"attributes\":{},\"id\":\"3363\",\"type\":\"UnionRenderers\"},{\"attributes\":{},\"id\":\"3317\",\"type\":\"UnionRenderers\"},{\"attributes\":{\"fill_alpha\":{\"value\":0.2},\"fill_color\":{\"value\":\"#e5ae38\"},\"line_alpha\":{\"value\":0.2},\"line_color\":{\"value\":\"#e5ae38\"},\"size\":{\"value\":5.477225575051661},\"x\":{\"field\":\"price_change_percentage_24h\"},\"y\":{\"field\":\"price_change_percentage_7d\"}},\"id\":\"3326\",\"type\":\"Scatter\"},{\"attributes\":{\"data_source\":{\"id\":\"3321\"},\"glyph\":{\"id\":\"3324\"},\"hover_glyph\":null,\"muted_glyph\":{\"id\":\"3326\"},\"nonselection_glyph\":{\"id\":\"3325\"},\"selection_glyph\":{\"id\":\"3342\"},\"view\":{\"id\":\"3328\"}},\"id\":\"3327\",\"type\":\"GlyphRenderer\"},{\"attributes\":{},\"id\":\"3248\",\"type\":\"BasicTicker\"},{\"attributes\":{\"angle\":{\"value\":0.0},\"fill_alpha\":{\"value\":1.0},\"fill_color\":{\"value\":\"#fc4f30\"},\"hatch_alpha\":{\"value\":1.0},\"hatch_color\":{\"value\":\"black\"},\"hatch_scale\":{\"value\":12.0},\"hatch_weight\":{\"value\":1.0},\"line_alpha\":{\"value\":1.0},\"line_cap\":{\"value\":\"butt\"},\"line_color\":{\"value\":\"#fc4f30\"},\"line_dash\":{\"value\":[]},\"line_dash_offset\":{\"value\":0},\"line_join\":{\"value\":\"bevel\"},\"line_width\":{\"value\":1},\"marker\":{\"value\":\"circle\"},\"size\":{\"value\":5.477225575051661},\"x\":{\"field\":\"price_change_percentage_24h\"},\"y\":{\"field\":\"price_change_percentage_7d\"}},\"id\":\"3320\",\"type\":\"Scatter\"},{\"attributes\":{\"source\":{\"id\":\"3282\"}},\"id\":\"3289\",\"type\":\"CDSView\"},{\"attributes\":{\"format\":\"%.0f\"},\"id\":\"3269\",\"type\":\"PrintfTickFormatter\"},{\"attributes\":{},\"id\":\"3243\",\"type\":\"LinearScale\"},{\"attributes\":{\"data\":{\"Market_Data_Cluster\":[2],\"coin_id\":[\"celsius-degree-token\"],\"price_change_percentage_24h\":{\"__ndarray__\":\"0JuKVBgbBEA=\",\"dtype\":\"float64\",\"order\":\"little\",\"shape\":[1]},\"price_change_percentage_7d\":{\"__ndarray__\":\"qn06HjNQ4z8=\",\"dtype\":\"float64\",\"order\":\"little\",\"shape\":[1]}},\"selected\":{\"id\":\"3322\"},\"selection_policy\":{\"id\":\"3339\"}},\"id\":\"3321\",\"type\":\"ColumnDataSource\"},{\"attributes\":{\"margin\":[5,5,5,5],\"name\":\"HSpacer06558\",\"sizing_mode\":\"stretch_width\"},\"id\":\"3231\",\"type\":\"Spacer\"},{\"attributes\":{\"axis\":{\"id\":\"3247\"},\"ticker\":{\"id\":\"3248\"}},\"id\":\"3250\",\"type\":\"Grid\"},{\"attributes\":{\"fill_alpha\":{\"value\":0.1},\"fill_color\":{\"value\":\"#e5ae38\"},\"line_alpha\":{\"value\":0.1},\"line_color\":{\"value\":\"#e5ae38\"},\"size\":{\"value\":5.477225575051661},\"x\":{\"field\":\"price_change_percentage_24h\"},\"y\":{\"field\":\"price_change_percentage_7d\"}},\"id\":\"3325\",\"type\":\"Scatter\"},{\"attributes\":{\"label\":{\"value\":\"1\"},\"renderers\":[{\"id\":\"3307\"}]},\"id\":\"3319\",\"type\":\"LegendItem\"},{\"attributes\":{\"data\":{\"Market_Data_Cluster\":[0,0,0,0,0,0,0,0,0,0,0,0,0,0,0,0,0,0,0,0,0,0,0,0,0,0,0,0,0,0,0,0,0,0],\"coin_id\":[\"bitcoin\",\"ethereum\",\"tether\",\"ripple\",\"bitcoin-cash\",\"binancecoin\",\"cardano\",\"litecoin\",\"bitcoin-cash-sv\",\"crypto-com-chain\",\"usd-coin\",\"eos\",\"monero\",\"tron\",\"tezos\",\"okb\",\"stellar\",\"cosmos\",\"cdai\",\"neo\",\"wrapped-bitcoin\",\"leo-token\",\"huobi-token\",\"nem\",\"binance-usd\",\"iota\",\"vechain\",\"zcash\",\"dash\",\"ethereum-classic\",\"maker\",\"ontology\",\"ftx-token\",\"true-usd\"],\"price_change_percentage_24h\":{\"__ndarray__\":\"nZ0MjpJX8T8MzXUaaanMP5mByvj3Gcu/wCZr1EM02L8ep+hILj8HQL0Yyol21QBA/wkuVtRgaj+yRj1Eozuwv0Ck374OnO0/Lq2GxD2W4z83iUFg5dDGv9aQuMfSh8I/OzYC8bp+2z/dByC1iZOzPyY2H9eGiuW/N4lBYOXQBcBt4uR+hyLwv+Z5cHfWbu6/YvNxbagYyz/ohxHCo43fPzPcgM8Po/E/3xrYKsHiwL/kZrgBnx/av1HaG3xhMuu/A+yjU1c+u7/GM2jon+DaP7XgRV9BmvQ/BthHp65847+gw3x5Afbwv5zEILByaN2/X5hMFYxK47/qBDQRNrz1vxo09E9wseo/tI6qJoi6r78=\",\"dtype\":\"float64\",\"order\":\"little\",\"shape\":[34]},\"price_change_percentage_7d\":{\"__ndarray__\":\"RbsKKT9pHkAzUBn/PsMkQL99HThnRKk/yVnY0w5/47/+JhQi4BgxQBL3WPrQtSlAP4wQHm38K0DxS/28qWgaQKyowTQMXwpAcr9DUaCvFsD5SbVPx2O+v5T7HYoC/fS/p+hILv+RL0BNSkG3l/QQQNJvXwfO6SFAZVOu8C43EsCm7V9ZaZIAQGcKndfYFTBAXCBB8WPMrT98J2a9GIoDQDoeM1AZnx1A9x4uOe6U9b8zUBn/PuP5P5EPejarPuu/NWPRdHYyqD9nRGlv8EUYQIF4Xb9gN/y//Bhz1xKyJEBVTRB1H2AUQNGWcymuaghAAiuHFtlOIECUvDrHgGzzvwltOZfiahxAsD2zJEBNxT8=\",\"dtype\":\"float64\",\"order\":\"little\",\"shape\":[34]}},\"selected\":{\"id\":\"3283\"},\"selection_policy\":{\"id\":\"3296\"}},\"id\":\"3282\",\"type\":\"ColumnDataSource\"},{\"attributes\":{\"angle\":{\"value\":0.0},\"fill_alpha\":{\"value\":1.0},\"fill_color\":{\"value\":\"#e5ae38\"},\"hatch_alpha\":{\"value\":1.0},\"hatch_color\":{\"value\":\"black\"},\"hatch_scale\":{\"value\":12.0},\"hatch_weight\":{\"value\":1.0},\"line_alpha\":{\"value\":1.0},\"line_cap\":{\"value\":\"butt\"},\"line_color\":{\"value\":\"#e5ae38\"},\"line_dash\":{\"value\":[]},\"line_dash_offset\":{\"value\":0},\"line_join\":{\"value\":\"bevel\"},\"line_width\":{\"value\":1},\"marker\":{\"value\":\"circle\"},\"size\":{\"value\":5.477225575051661},\"x\":{\"field\":\"price_change_percentage_24h\"},\"y\":{\"field\":\"price_change_percentage_7d\"}},\"id\":\"3342\",\"type\":\"Scatter\"},{\"attributes\":{\"label\":{\"value\":\"3\"},\"renderers\":[{\"id\":\"3349\"}]},\"id\":\"3365\",\"type\":\"LegendItem\"},{\"attributes\":{\"fill_alpha\":{\"value\":0.2},\"fill_color\":{\"value\":\"#6d904f\"},\"line_alpha\":{\"value\":0.2},\"line_color\":{\"value\":\"#6d904f\"},\"size\":{\"value\":5.477225575051661},\"x\":{\"field\":\"price_change_percentage_24h\"},\"y\":{\"field\":\"price_change_percentage_7d\"}},\"id\":\"3348\",\"type\":\"Scatter\"},{\"attributes\":{},\"id\":\"3245\",\"type\":\"LinearScale\"},{\"attributes\":{\"source\":{\"id\":\"3343\"}},\"id\":\"3350\",\"type\":\"CDSView\"},{\"attributes\":{},\"id\":\"3339\",\"type\":\"UnionRenderers\"},{\"attributes\":{\"axis_label\":\"7D Price Change (%)\",\"axis_label_text_font_size\":\"15pt\",\"formatter\":{\"id\":\"3269\"},\"major_label_policy\":{\"id\":\"3275\"},\"major_label_text_font_size\":\"10pt\",\"ticker\":{\"id\":\"3252\"}},\"id\":\"3251\",\"type\":\"LinearAxis\"},{\"attributes\":{\"fill_color\":{\"value\":\"#6d904f\"},\"line_color\":{\"value\":\"#6d904f\"},\"size\":{\"value\":5.477225575051661},\"x\":{\"field\":\"price_change_percentage_24h\"},\"y\":{\"field\":\"price_change_percentage_7d\"}},\"id\":\"3346\",\"type\":\"Scatter\"},{\"attributes\":{\"margin\":[5,5,5,5],\"name\":\"HSpacer06559\",\"sizing_mode\":\"stretch_width\"},\"id\":\"3493\",\"type\":\"Spacer\"},{\"attributes\":{\"axis_label\":\"24H Price Change (%)\",\"axis_label_text_font_size\":\"15pt\",\"formatter\":{\"id\":\"3268\"},\"major_label_policy\":{\"id\":\"3270\"},\"major_label_text_font_size\":\"10pt\",\"ticker\":{\"id\":\"3248\"}},\"id\":\"3247\",\"type\":\"LinearAxis\"},{\"attributes\":{\"label\":{\"value\":\"2\"},\"renderers\":[{\"id\":\"3327\"}]},\"id\":\"3341\",\"type\":\"LegendItem\"},{\"attributes\":{\"fill_color\":{\"value\":\"#30a2da\"},\"line_color\":{\"value\":\"#30a2da\"},\"size\":{\"value\":5.477225575051661},\"x\":{\"field\":\"price_change_percentage_24h\"},\"y\":{\"field\":\"price_change_percentage_7d\"}},\"id\":\"3285\",\"type\":\"Scatter\"},{\"attributes\":{},\"id\":\"3252\",\"type\":\"BasicTicker\"},{\"attributes\":{\"fill_alpha\":{\"value\":0.1},\"fill_color\":{\"value\":\"#6d904f\"},\"line_alpha\":{\"value\":0.1},\"line_color\":{\"value\":\"#6d904f\"},\"size\":{\"value\":5.477225575051661},\"x\":{\"field\":\"price_change_percentage_24h\"},\"y\":{\"field\":\"price_change_percentage_7d\"}},\"id\":\"3347\",\"type\":\"Scatter\"},{\"attributes\":{\"axis\":{\"id\":\"3251\"},\"dimension\":1,\"ticker\":{\"id\":\"3252\"}},\"id\":\"3254\",\"type\":\"Grid\"},{\"attributes\":{\"data_source\":{\"id\":\"3343\"},\"glyph\":{\"id\":\"3346\"},\"hover_glyph\":null,\"muted_glyph\":{\"id\":\"3348\"},\"nonselection_glyph\":{\"id\":\"3347\"},\"selection_glyph\":{\"id\":\"3366\"},\"view\":{\"id\":\"3350\"}},\"id\":\"3349\",\"type\":\"GlyphRenderer\"},{\"attributes\":{\"format\":\"%.0f\"},\"id\":\"3268\",\"type\":\"PrintfTickFormatter\"},{\"attributes\":{\"angle\":{\"value\":0.0},\"fill_alpha\":{\"value\":1.0},\"fill_color\":{\"value\":\"#6d904f\"},\"hatch_alpha\":{\"value\":1.0},\"hatch_color\":{\"value\":\"black\"},\"hatch_scale\":{\"value\":12.0},\"hatch_weight\":{\"value\":1.0},\"line_alpha\":{\"value\":1.0},\"line_cap\":{\"value\":\"butt\"},\"line_color\":{\"value\":\"#6d904f\"},\"line_dash\":{\"value\":[]},\"line_dash_offset\":{\"value\":0},\"line_join\":{\"value\":\"bevel\"},\"line_width\":{\"value\":1},\"marker\":{\"value\":\"circle\"},\"size\":{\"value\":5.477225575051661},\"x\":{\"field\":\"price_change_percentage_24h\"},\"y\":{\"field\":\"price_change_percentage_7d\"}},\"id\":\"3366\",\"type\":\"Scatter\"}],\"root_ids\":[\"3230\"]},\"title\":\"Bokeh Application\",\"version\":\"2.3.2\"}};\n",
       "    var render_items = [{\"docid\":\"995d0d9e-9358-41f7-965a-0bcc85d4c6a3\",\"root_ids\":[\"3230\"],\"roots\":{\"3230\":\"a98c226e-20b3-4499-b234-4d4d2674ee35\"}}];\n",
       "    root.Bokeh.embed.embed_items_notebook(docs_json, render_items);\n",
       "  }\n",
       "  if (root.Bokeh !== undefined && root.Bokeh.Panel !== undefined) {\n",
       "    embed_document(root);\n",
       "  } else {\n",
       "    var attempts = 0;\n",
       "    var timer = setInterval(function(root) {\n",
       "      if (root.Bokeh !== undefined && root.Bokeh.Panel !== undefined) {\n",
       "        clearInterval(timer);\n",
       "        embed_document(root);\n",
       "      } else if (document.readyState == \"complete\") {\n",
       "        attempts++;\n",
       "        if (attempts > 200) {\n",
       "          clearInterval(timer);\n",
       "          console.log(\"Bokeh: ERROR: Unable to run BokehJS code because BokehJS library is missing\");\n",
       "        }\n",
       "      }\n",
       "    }, 25, root)\n",
       "  }\n",
       "})(window);</script>"
      ],
      "text/plain": [
       ":NdOverlay   [Market Data Cluster]\n",
       "   :Scatter   [price_change_percentage_24h]   (price_change_percentage_7d,coin_id)"
      ]
     },
     "execution_count": 69,
     "metadata": {
      "application/vnd.holoviews_exec.v0+json": {
       "id": "3230"
      }
     },
     "output_type": "execute_result"
    }
   ],
   "source": [
    "# Create a scatter plot using hvPlot by setting \n",
    "# `x=\"price_change_percentage_24h\"` and `y=\"price_change_percentage_7d\"`. \n",
    "# Color the graph points with the labels found using K-Means and \n",
    "# add the crypto name in the `hover_cols` parameter to identify \n",
    "# the cryptocurrency represented by each data point.\n",
    "\n",
    "# Format for the axis ticks. Add to plot 'yformatter' option\n",
    "formatter = NumeralTickFormatter(format=('0.0'))\n",
    "\n",
    "# Format the labels and number format for hovering tooltips. Add to plot 'tools' option\n",
    "hover = HoverTool()\n",
    "hover.tooltips =[\n",
    "    ('Coin Name:','@coin_id'), \n",
    "    ('24H Price Change:', '@price_change_percentage_24h{0.00}%'),\n",
    "    (' 7D Price Change:', '@price_change_percentage_7d{0.00}%')   \n",
    "]\n",
    "\n",
    "df_market_data_clusters.hvplot.scatter(\n",
    "    title =  'Cryptocurrency Clusters: Price Change, 24h vs 7d',\n",
    "    x = 'price_change_percentage_24h',\n",
    "    xlabel = '24H Price Change (%)',\n",
    "    y = 'price_change_percentage_7d',\n",
    "    ylabel = '7D Price Change (%)',\n",
    "    by = 'Market Data Cluster',\n",
    "    hover_cols = ['coin_id', 'price_change_percentage_24h', 'price_change_percentage_7d'],\n",
    "    tools = [hover],\n",
    "    yformatter = '%.0f',\n",
    "    xformatter = '%.0f',\n",
    "    width = 1000,\n",
    "    height = 450,\n",
    "    fontsize = {'title': '20pt', 'xlabel': '15pt', 'ylabel': '15pt', 'ticks': '10pt'},\n",
    "    grid = True\n",
    ")"
   ]
  },
  {
   "cell_type": "code",
   "execution_count": null,
   "metadata": {},
   "outputs": [],
   "source": [
    "# Create a scatter plot using hvPlot by setting x=\"price_change_percentage_24h\" and y=\"price_change_percentage_7d\". \n",
    "# Color the graph points with the labels found using K-Means and add the crypto name in the hover_cols parameter to \n",
    "# identify the cryptocurrency represented by each data point.\n",
    "\n",
    "# Format for the axis ticks. Add to plot 'yformatter' option\n",
    "formatter = NumeralTickFormatter(format=('0.0'))\n",
    "\n",
    "# Format the labels and number format for hovering tooltips. Add to plot 'tools' option\n",
    "hover = HoverTool()\n",
    "hover.tooltips =[\n",
    "    ('Coin Name:','@coin_id'), \n",
    "    ('24H Price Change:', '@price_change_percentage_24h{0.00}%'),\n",
    "    (' 7D Price Change:', '@price_change_percentage_7d{0.00}%')   \n",
    "]\n",
    "\n",
    "df_market_data_clusters.hvplot.scatter(\n",
    "    title =  'Cryptocurrency Clusters: Price Change, 24h vs 7d',\n",
    "    x = 'price_change_percentage_24h',\n",
    "    xlabel = '24H Price Change (%)',\n",
    "    y = 'price_change_percentage_7d',\n",
    "    ylabel = '7D Price Change (%)',\n",
    "    by = 'Market Data Cluster',\n",
    "    hover_cols = ['coin_id', 'price_change_percentage_24h', 'price_change_percentage_7d'],\n",
    "    tools = [hover],\n",
    "    yformatter = '%.0f',\n",
    "    xformatter = '%.0f',\n",
    "    width = 1000,\n",
    "    height = 450,\n",
    "    fontsize = {'title': '20pt', 'xlabel': '15pt', 'ylabel': '15pt', 'ticks': '10pt'},\n",
    "    grid = True\n",
    ")"
   ]
  },
  {
   "cell_type": "code",
   "execution_count": null,
   "metadata": {},
   "outputs": [],
   "source": [
    "# Initialize the K-Means model using the best value for k\n",
    "# YOUR CODE HERE!"
   ]
  },
  {
   "cell_type": "code",
   "execution_count": null,
   "metadata": {},
   "outputs": [],
   "source": [
    "# Fit the K-Means model using the scaled data\n",
    "# YOUR CODE HERE!"
   ]
  },
  {
   "cell_type": "code",
   "execution_count": null,
   "metadata": {},
   "outputs": [],
   "source": [
    "# Predict the clusters to group the cryptocurrencies using the scaled data\n",
    "# YOUR CODE HERE!\n",
    "\n",
    "# View the resulting array of cluster values.\n",
    "# YOUR CODE HERE!"
   ]
  },
  {
   "cell_type": "code",
   "execution_count": null,
   "metadata": {},
   "outputs": [],
   "source": [
    "# Create a copy of the DataFrame\n",
    "# YOUR CODE HERE!"
   ]
  },
  {
   "cell_type": "code",
   "execution_count": null,
   "metadata": {},
   "outputs": [],
   "source": [
    "# Add a new column to the DataFrame with the predicted clusters\n",
    "# YOUR CODE HERE!\n",
    "\n",
    "# Display sample data\n",
    "# YOUR CODE HERE!"
   ]
  },
  {
   "cell_type": "code",
   "execution_count": null,
   "metadata": {},
   "outputs": [],
   "source": [
    "# Create a scatter plot using hvPlot by setting \n",
    "# `x=\"price_change_percentage_24h\"` and `y=\"price_change_percentage_7d\"`. \n",
    "# Color the graph points with the labels found using K-Means and \n",
    "# add the crypto name in the `hover_cols` parameter to identify \n",
    "# the cryptocurrency represented by each data point.\n",
    "# YOUR CODE HERE!"
   ]
  },
  {
   "cell_type": "markdown",
   "metadata": {},
   "source": [
    "### Optimize Clusters with Principal Component Analysis\n",
    "\n",
    "In this section, you will perform a principal component analysis (PCA) and reduce the features to three principal components.\n",
    "\n",
    "1. Create a PCA model instance and set `n_components=3`.\n",
    "\n",
    "2. Use the PCA model to reduce to three principal components. View the first five rows of the DataFrame. \n",
    "\n",
    "3. Retrieve the explained variance to determine how much information can be attributed to each principal component.\n",
    "\n",
    "4. Answer the following question: What is the total explained variance of the three principal components?\n",
    "\n",
    "5. Create a new DataFrame with the PCA data. Be sure to set the `coin_id` index from the original DataFrame as the index for the new DataFrame. Review the resulting DataFrame."
   ]
  },
  {
   "cell_type": "code",
   "execution_count": 24,
   "metadata": {},
   "outputs": [],
   "source": [
    "# Create a PCA model instance and set `n_components=3`.\n",
    "model = PCA(n_components=3)"
   ]
  },
  {
   "cell_type": "code",
   "execution_count": 25,
   "metadata": {},
   "outputs": [],
   "source": [
    "# Use the PCA model with `fit_transform` to reduce to \n",
    "# three principal components.\n",
    "market_data_scaled_pca = model.fit_transform(df_market_data_scaled)\n",
    "\n",
    "# View the first five rows of the DataFrame. \n",
    "market_data_scaled_pca[0:5]"
   ]
  },
  {
   "cell_type": "code",
   "execution_count": 26,
   "metadata": {},
   "outputs": [],
   "source": [
    "# Retrieve the explained variance to determine how much information \n",
    "# can be attributed to each principal component.\n",
    "\n",
    "print(f'Explained variance ratio: {model.explained_variance_ratio_} explaining {model.explained_variance_ratio_.sum():0.2%} total variance.')"
   ]
  },
  {
   "cell_type": "markdown",
   "metadata": {},
   "source": [
    "#### Answer the following question: What is the total explained variance of the three principal components?\n",
    "\n",
    "**Question:** What is the total explained variance of the three principal components?\n",
    "\n",
    "**Answer:** The three principal components account for **89.50%** of the explained variance."
   ]
  },
  {
   "cell_type": "code",
   "execution_count": 27,
   "metadata": {},
   "outputs": [
    {
     "data": {
      "text/html": [
       "<div>\n",
       "<style scoped>\n",
       "    .dataframe tbody tr th:only-of-type {\n",
       "        vertical-align: middle;\n",
       "    }\n",
       "\n",
       "    .dataframe tbody tr th {\n",
       "        vertical-align: top;\n",
       "    }\n",
       "\n",
       "    .dataframe thead th {\n",
       "        text-align: right;\n",
       "    }\n",
       "</style>\n",
       "<table border=\"1\" class=\"dataframe\">\n",
       "  <thead>\n",
       "    <tr style=\"text-align: right;\">\n",
       "      <th></th>\n",
       "      <th>PC1</th>\n",
       "      <th>PC2</th>\n",
       "      <th>PC3</th>\n",
       "    </tr>\n",
       "    <tr>\n",
       "      <th>coin_id</th>\n",
       "      <th></th>\n",
       "      <th></th>\n",
       "      <th></th>\n",
       "    </tr>\n",
       "  </thead>\n",
       "  <tbody>\n",
       "    <tr>\n",
       "      <th>bitcoin</th>\n",
       "      <td>-0.60067</td>\n",
       "      <td>0.84276</td>\n",
       "      <td>0.46159</td>\n",
       "    </tr>\n",
       "    <tr>\n",
       "      <th>ethereum</th>\n",
       "      <td>-0.45826</td>\n",
       "      <td>0.45847</td>\n",
       "      <td>0.95288</td>\n",
       "    </tr>\n",
       "    <tr>\n",
       "      <th>tether</th>\n",
       "      <td>-0.43307</td>\n",
       "      <td>-0.16813</td>\n",
       "      <td>-0.64175</td>\n",
       "    </tr>\n",
       "    <tr>\n",
       "      <th>ripple</th>\n",
       "      <td>-0.47183</td>\n",
       "      <td>-0.22266</td>\n",
       "      <td>-0.47905</td>\n",
       "    </tr>\n",
       "    <tr>\n",
       "      <th>bitcoin-cash</th>\n",
       "      <td>-1.15780</td>\n",
       "      <td>2.04121</td>\n",
       "      <td>1.85972</td>\n",
       "    </tr>\n",
       "  </tbody>\n",
       "</table>\n",
       "</div>"
      ],
      "text/plain": [
       "                  PC1      PC2      PC3\n",
       "coin_id                                \n",
       "bitcoin      -0.60067  0.84276  0.46159\n",
       "ethereum     -0.45826  0.45847  0.95288\n",
       "tether       -0.43307 -0.16813 -0.64175\n",
       "ripple       -0.47183 -0.22266 -0.47905\n",
       "bitcoin-cash -1.15780  2.04121  1.85972"
      ]
     },
     "execution_count": 27,
     "metadata": {},
     "output_type": "execute_result"
    }
   ],
   "source": [
    "# Create a new DataFrame with the PCA data.\n",
    "\n",
    "# Creating a DataFrame with the PCA data\n",
    "df_market_data_scaled_pca = pd.DataFrame(market_data_scaled_pca, columns = ['PC1','PC2','PC3'])\n",
    "\n",
    "# Copy the crypto names from the original data\n",
    "df_market_data_scaled_pca['coin_id'] = df_market_data_scaled.index\n",
    "\n",
    "# Set the coinid column as index\n",
    "df_market_data_scaled_pca.set_index('coin_id', inplace = True)\n",
    "\n",
    "# Display sample data\n",
    "df_market_data_scaled_pca.head()"
   ]
  },
  {
   "cell_type": "markdown",
   "metadata": {},
   "source": [
    "---"
   ]
  },
  {
   "cell_type": "markdown",
   "metadata": {},
   "source": [
    "### Find the Best Value for k Using the PCA Data\n",
    "\n",
    "In this section, you will use the elbow method to find the best value for `k` using the PCA data.\n",
    "\n",
    "1. Code the elbow method algorithm and use the PCA data to find the best value for `k`. Use a range from 1 to 11. \n",
    "\n",
    "2. Plot a line chart with all the inertia values computed with the different values of `k` to visually identify the optimal value for `k`.\n",
    "\n",
    "3. Answer the following questions: What is the best value for k when using the PCA data? Does it differ from the best k value found using the original data?"
   ]
  },
  {
   "cell_type": "code",
   "execution_count": 28,
   "metadata": {},
   "outputs": [
    {
     "data": {
      "text/plain": [
       "[1, 2, 3, 4, 5, 6, 7, 8, 9, 10]"
      ]
     },
     "execution_count": 28,
     "metadata": {},
     "output_type": "execute_result"
    }
   ],
   "source": [
    "# Create a list with the number of k-values to try\n",
    "# Use a range from 1 to 11\n",
    "k = list(range(1,11))\n",
    "k"
   ]
  },
  {
   "cell_type": "code",
   "execution_count": 29,
   "metadata": {},
   "outputs": [],
   "source": [
    "# Create an empy list to store the inertia values\n",
    "inertia = []"
   ]
  },
  {
   "cell_type": "code",
   "execution_count": 30,
   "metadata": {},
   "outputs": [
    {
     "name": "stderr",
     "output_type": "stream",
     "text": [
      "C:\\Users\\Jacob\\anaconda3\\envs\\dev\\lib\\site-packages\\sklearn\\cluster\\_kmeans.py:882: UserWarning: KMeans is known to have a memory leak on Windows with MKL, when there are less chunks than available threads. You can avoid it by setting the environment variable OMP_NUM_THREADS=1.\n",
      "  f\"KMeans is known to have a memory leak on Windows \"\n"
     ]
    },
    {
     "data": {
      "text/plain": [
       "[256.87408556789256,\n",
       " 168.81189630685225,\n",
       " 93.77462568057294,\n",
       " 49.665496651797355,\n",
       " 37.83946598681243,\n",
       " 27.720626194899804,\n",
       " 21.145312121622496,\n",
       " 17.29477669352219,\n",
       " 13.593650379876728,\n",
       " 10.543634923252766]"
      ]
     },
     "execution_count": 30,
     "metadata": {},
     "output_type": "execute_result"
    }
   ],
   "source": [
    "# Create a for loop to compute the inertia with each possible value of k\n",
    "# Inside the loop:\n",
    "# 1. Create a KMeans model using the loop counter for the n_clusters\n",
    "# 2. Fit the model to the data using `df_market_data_pca`\n",
    "# 3. Append the model.inertia_ to the inertia list\n",
    "\n",
    "for i in k:\n",
    "    model = KMeans(n_clusters=i)\n",
    "    model.fit(df_market_data_scaled_pca)\n",
    "    inertia.append(model.inertia_)\n",
    "\n",
    "inertia"
   ]
  },
  {
   "cell_type": "code",
   "execution_count": 31,
   "metadata": {},
   "outputs": [
    {
     "data": {
      "text/html": [
       "<div>\n",
       "<style scoped>\n",
       "    .dataframe tbody tr th:only-of-type {\n",
       "        vertical-align: middle;\n",
       "    }\n",
       "\n",
       "    .dataframe tbody tr th {\n",
       "        vertical-align: top;\n",
       "    }\n",
       "\n",
       "    .dataframe thead th {\n",
       "        text-align: right;\n",
       "    }\n",
       "</style>\n",
       "<table border=\"1\" class=\"dataframe\">\n",
       "  <thead>\n",
       "    <tr style=\"text-align: right;\">\n",
       "      <th></th>\n",
       "      <th>k</th>\n",
       "      <th>inertia</th>\n",
       "    </tr>\n",
       "  </thead>\n",
       "  <tbody>\n",
       "    <tr>\n",
       "      <th>0</th>\n",
       "      <td>1</td>\n",
       "      <td>256.87409</td>\n",
       "    </tr>\n",
       "    <tr>\n",
       "      <th>1</th>\n",
       "      <td>2</td>\n",
       "      <td>168.81190</td>\n",
       "    </tr>\n",
       "    <tr>\n",
       "      <th>2</th>\n",
       "      <td>3</td>\n",
       "      <td>93.77463</td>\n",
       "    </tr>\n",
       "    <tr>\n",
       "      <th>3</th>\n",
       "      <td>4</td>\n",
       "      <td>49.66550</td>\n",
       "    </tr>\n",
       "    <tr>\n",
       "      <th>4</th>\n",
       "      <td>5</td>\n",
       "      <td>37.83947</td>\n",
       "    </tr>\n",
       "    <tr>\n",
       "      <th>5</th>\n",
       "      <td>6</td>\n",
       "      <td>27.72063</td>\n",
       "    </tr>\n",
       "    <tr>\n",
       "      <th>6</th>\n",
       "      <td>7</td>\n",
       "      <td>21.14531</td>\n",
       "    </tr>\n",
       "    <tr>\n",
       "      <th>7</th>\n",
       "      <td>8</td>\n",
       "      <td>17.29478</td>\n",
       "    </tr>\n",
       "    <tr>\n",
       "      <th>8</th>\n",
       "      <td>9</td>\n",
       "      <td>13.59365</td>\n",
       "    </tr>\n",
       "    <tr>\n",
       "      <th>9</th>\n",
       "      <td>10</td>\n",
       "      <td>10.54363</td>\n",
       "    </tr>\n",
       "  </tbody>\n",
       "</table>\n",
       "</div>"
      ],
      "text/plain": [
       "    k   inertia\n",
       "0   1 256.87409\n",
       "1   2 168.81190\n",
       "2   3  93.77463\n",
       "3   4  49.66550\n",
       "4   5  37.83947\n",
       "5   6  27.72063\n",
       "6   7  21.14531\n",
       "7   8  17.29478\n",
       "8   9  13.59365\n",
       "9  10  10.54363"
      ]
     },
     "execution_count": 31,
     "metadata": {},
     "output_type": "execute_result"
    }
   ],
   "source": [
    "# Create a dictionary with the data to plot the Elbow curve\n",
    "elbow_data = {\n",
    "    'k':k,\n",
    "    'inertia':inertia\n",
    "}\n",
    "\n",
    "# Create a DataFrame with the data to plot the Elbow curve\n",
    "df_elbow_data = pd.DataFrame(elbow_data)\n",
    "df_elbow_data"
   ]
  },
  {
   "cell_type": "code",
   "execution_count": 32,
   "metadata": {},
   "outputs": [
    {
     "data": {},
     "metadata": {},
     "output_type": "display_data"
    },
    {
     "data": {
      "application/vnd.holoviews_exec.v0+json": "",
      "text/html": [
       "<div id='1996'>\n",
       "\n",
       "\n",
       "\n",
       "\n",
       "\n",
       "  <div class=\"bk-root\" id=\"49497e24-f3d9-47dc-8ad4-dd27be168d82\" data-root-id=\"1996\"></div>\n",
       "</div>\n",
       "<script type=\"application/javascript\">(function(root) {\n",
       "  function embed_document(root) {\n",
       "    var docs_json = {\"a71aed08-1792-4e11-a421-3c261a2e5beb\":{\"defs\":[{\"extends\":null,\"module\":null,\"name\":\"ReactiveHTML1\",\"overrides\":[],\"properties\":[]},{\"extends\":null,\"module\":null,\"name\":\"FlexBox1\",\"overrides\":[],\"properties\":[{\"default\":\"flex-start\",\"kind\":null,\"name\":\"align_content\"},{\"default\":\"flex-start\",\"kind\":null,\"name\":\"align_items\"},{\"default\":\"row\",\"kind\":null,\"name\":\"flex_direction\"},{\"default\":\"wrap\",\"kind\":null,\"name\":\"flex_wrap\"},{\"default\":\"flex-start\",\"kind\":null,\"name\":\"justify_content\"}]},{\"extends\":null,\"module\":null,\"name\":\"TemplateActions1\",\"overrides\":[],\"properties\":[{\"default\":0,\"kind\":null,\"name\":\"open_modal\"},{\"default\":0,\"kind\":null,\"name\":\"close_modal\"}]},{\"extends\":null,\"module\":null,\"name\":\"MaterialTemplateActions1\",\"overrides\":[],\"properties\":[{\"default\":0,\"kind\":null,\"name\":\"open_modal\"},{\"default\":0,\"kind\":null,\"name\":\"close_modal\"}]}],\"roots\":{\"references\":[{\"attributes\":{\"callback\":null,\"renderers\":[{\"id\":\"2037\"}],\"tags\":[\"hv_created\"],\"tooltips\":[[\"k\",\"@{k}\"],[\"inertia\",\"@{inertia}\"]]},\"id\":\"2000\",\"type\":\"HoverTool\"},{\"attributes\":{},\"id\":\"2018\",\"type\":\"SaveTool\"},{\"attributes\":{\"data_source\":{\"id\":\"2031\"},\"glyph\":{\"id\":\"2034\"},\"hover_glyph\":null,\"muted_glyph\":{\"id\":\"2036\"},\"nonselection_glyph\":{\"id\":\"2035\"},\"selection_glyph\":{\"id\":\"2039\"},\"view\":{\"id\":\"2038\"}},\"id\":\"2037\",\"type\":\"GlyphRenderer\"},{\"attributes\":{},\"id\":\"2019\",\"type\":\"PanTool\"},{\"attributes\":{\"children\":[{\"id\":\"1997\"},{\"id\":\"2001\"},{\"id\":\"2067\"}],\"margin\":[0,0,0,0],\"name\":\"Row03857\",\"tags\":[\"embedded\"]},\"id\":\"1996\",\"type\":\"Row\"},{\"attributes\":{},\"id\":\"2022\",\"type\":\"ResetTool\"},{\"attributes\":{\"margin\":[5,5,5,5],\"name\":\"HSpacer03862\",\"sizing_mode\":\"stretch_width\"},\"id\":\"2067\",\"type\":\"Spacer\"},{\"attributes\":{\"text\":\"Elbow Data for k Optimization\",\"text_color\":\"black\",\"text_font_size\":\"12pt\"},\"id\":\"2002\",\"type\":\"Title\"},{\"attributes\":{},\"id\":\"2020\",\"type\":\"WheelZoomTool\"},{\"attributes\":{\"overlay\":{\"id\":\"2023\"}},\"id\":\"2021\",\"type\":\"BoxZoomTool\"},{\"attributes\":{},\"id\":\"2032\",\"type\":\"Selection\"},{\"attributes\":{\"line_alpha\":0.1,\"line_color\":\"#30a2da\",\"line_width\":2,\"x\":{\"field\":\"k\"},\"y\":{\"field\":\"inertia\"}},\"id\":\"2035\",\"type\":\"Line\"},{\"attributes\":{\"margin\":[5,5,5,5],\"name\":\"HSpacer03861\",\"sizing_mode\":\"stretch_width\"},\"id\":\"1997\",\"type\":\"Spacer\"},{\"attributes\":{\"axis\":{\"id\":\"2010\"},\"grid_line_color\":null,\"ticker\":null},\"id\":\"2013\",\"type\":\"Grid\"},{\"attributes\":{\"end\":10.0,\"reset_end\":10.0,\"reset_start\":1.0,\"start\":1.0,\"tags\":[[[\"k\",\"k\",null]]]},\"id\":\"1998\",\"type\":\"Range1d\"},{\"attributes\":{},\"id\":\"2006\",\"type\":\"LinearScale\"},{\"attributes\":{\"ticks\":[1,2,3,4,5,6,7,8,9,10]},\"id\":\"2040\",\"type\":\"FixedTicker\"},{\"attributes\":{},\"id\":\"2008\",\"type\":\"LinearScale\"},{\"attributes\":{\"line_color\":\"#30a2da\",\"line_width\":2,\"x\":{\"field\":\"k\"},\"y\":{\"field\":\"inertia\"}},\"id\":\"2039\",\"type\":\"Line\"},{\"attributes\":{\"axis_label\":\"inertia\",\"formatter\":{\"id\":\"2047\"},\"major_label_policy\":{\"id\":\"2046\"},\"ticker\":{\"id\":\"2015\"}},\"id\":\"2014\",\"type\":\"LinearAxis\"},{\"attributes\":{\"axis_label\":\"k\",\"formatter\":{\"id\":\"2042\"},\"major_label_policy\":{\"id\":\"2041\"},\"ticker\":{\"id\":\"2040\"}},\"id\":\"2010\",\"type\":\"LinearAxis\"},{\"attributes\":{},\"id\":\"2047\",\"type\":\"BasicTickFormatter\"},{\"attributes\":{\"below\":[{\"id\":\"2010\"}],\"center\":[{\"id\":\"2013\"},{\"id\":\"2017\"}],\"height\":450,\"left\":[{\"id\":\"2014\"}],\"margin\":[5,5,5,5],\"min_border_bottom\":10,\"min_border_left\":10,\"min_border_right\":10,\"min_border_top\":10,\"renderers\":[{\"id\":\"2037\"}],\"sizing_mode\":\"fixed\",\"title\":{\"id\":\"2002\"},\"toolbar\":{\"id\":\"2024\"},\"width\":1000,\"x_range\":{\"id\":\"1998\"},\"x_scale\":{\"id\":\"2006\"},\"y_range\":{\"id\":\"1999\"},\"y_scale\":{\"id\":\"2008\"}},\"id\":\"2001\",\"subtype\":\"Figure\",\"type\":\"Plot\"},{\"attributes\":{\"data\":{\"inertia\":{\"__ndarray__\":\"EQAmQfwNcECOtfYN+xllQPYsl3eTcVdAmIiJ/i7VSEBcuxefc+tCQE+8U/V6uDtAvBTaLDMlNUADTUJ8dksxQDSoTfHyLytAD6sQUVcWJUA=\",\"dtype\":\"float64\",\"order\":\"little\",\"shape\":[10]},\"k\":[1,2,3,4,5,6,7,8,9,10]},\"selected\":{\"id\":\"2032\"},\"selection_policy\":{\"id\":\"2056\"}},\"id\":\"2031\",\"type\":\"ColumnDataSource\"},{\"attributes\":{\"source\":{\"id\":\"2031\"}},\"id\":\"2038\",\"type\":\"CDSView\"},{\"attributes\":{},\"id\":\"2015\",\"type\":\"BasicTicker\"},{\"attributes\":{\"axis\":{\"id\":\"2014\"},\"dimension\":1,\"grid_line_color\":null,\"ticker\":null},\"id\":\"2017\",\"type\":\"Grid\"},{\"attributes\":{\"active_multi\":null,\"tools\":[{\"id\":\"2000\"},{\"id\":\"2018\"},{\"id\":\"2019\"},{\"id\":\"2020\"},{\"id\":\"2021\"},{\"id\":\"2022\"}]},\"id\":\"2024\",\"type\":\"Toolbar\"},{\"attributes\":{},\"id\":\"2042\",\"type\":\"BasicTickFormatter\"},{\"attributes\":{},\"id\":\"2046\",\"type\":\"AllLabels\"},{\"attributes\":{\"end\":281.50713063235656,\"reset_end\":281.50713063235656,\"reset_start\":-14.089410141211216,\"start\":-14.089410141211216,\"tags\":[[[\"inertia\",\"inertia\",null]]]},\"id\":\"1999\",\"type\":\"Range1d\"},{\"attributes\":{},\"id\":\"2041\",\"type\":\"AllLabels\"},{\"attributes\":{\"bottom_units\":\"screen\",\"fill_alpha\":0.5,\"fill_color\":\"lightgrey\",\"left_units\":\"screen\",\"level\":\"overlay\",\"line_alpha\":1.0,\"line_color\":\"black\",\"line_dash\":[4,4],\"line_width\":2,\"right_units\":\"screen\",\"syncable\":false,\"top_units\":\"screen\"},\"id\":\"2023\",\"type\":\"BoxAnnotation\"},{\"attributes\":{\"line_color\":\"#30a2da\",\"line_width\":2,\"x\":{\"field\":\"k\"},\"y\":{\"field\":\"inertia\"}},\"id\":\"2034\",\"type\":\"Line\"},{\"attributes\":{},\"id\":\"2056\",\"type\":\"UnionRenderers\"},{\"attributes\":{\"line_alpha\":0.2,\"line_color\":\"#30a2da\",\"line_width\":2,\"x\":{\"field\":\"k\"},\"y\":{\"field\":\"inertia\"}},\"id\":\"2036\",\"type\":\"Line\"}],\"root_ids\":[\"1996\"]},\"title\":\"Bokeh Application\",\"version\":\"2.3.2\"}};\n",
       "    var render_items = [{\"docid\":\"a71aed08-1792-4e11-a421-3c261a2e5beb\",\"root_ids\":[\"1996\"],\"roots\":{\"1996\":\"49497e24-f3d9-47dc-8ad4-dd27be168d82\"}}];\n",
       "    root.Bokeh.embed.embed_items_notebook(docs_json, render_items);\n",
       "  }\n",
       "  if (root.Bokeh !== undefined && root.Bokeh.Panel !== undefined) {\n",
       "    embed_document(root);\n",
       "  } else {\n",
       "    var attempts = 0;\n",
       "    var timer = setInterval(function(root) {\n",
       "      if (root.Bokeh !== undefined && root.Bokeh.Panel !== undefined) {\n",
       "        clearInterval(timer);\n",
       "        embed_document(root);\n",
       "      } else if (document.readyState == \"complete\") {\n",
       "        attempts++;\n",
       "        if (attempts > 200) {\n",
       "          clearInterval(timer);\n",
       "          console.log(\"Bokeh: ERROR: Unable to run BokehJS code because BokehJS library is missing\");\n",
       "        }\n",
       "      }\n",
       "    }, 25, root)\n",
       "  }\n",
       "})(window);</script>"
      ],
      "text/plain": [
       ":Curve   [k]   (inertia)"
      ]
     },
     "execution_count": 32,
     "metadata": {
      "application/vnd.holoviews_exec.v0+json": {
       "id": "1996"
      }
     },
     "output_type": "execute_result"
    }
   ],
   "source": [
    "# Plot a line chart with all the inertia values computed with \n",
    "# the different values of k to visually identify the optimal value for k.\n",
    "\n",
    "df_elbow_data.hvplot.line(\n",
    "    title = 'Elbow Data for k Optimization',\n",
    "    x = 'k',\n",
    "    y = 'inertia',\n",
    "    xticks = k,\n",
    "    width = 1000,\n",
    "    height = 450)"
   ]
  },
  {
   "cell_type": "markdown",
   "metadata": {},
   "source": [
    "#### Answer the following questions: What is the best value for k when using the PCA data? Does it differ from the best k value found using the original data?\n",
    "* **Question:** What is the best value for `k` when using the PCA data?\n",
    "\n",
    "  * **Answer:** The best number for k is its value where the curve flattens out like an elbow. In the preceding image, this seems to happen at about **k=4**.\n",
    "\n",
    "\n",
    "* **Question:** Does it differ from the best k value found using the original data?\n",
    "\n",
    "  * **Answer:** No"
   ]
  },
  {
   "cell_type": "markdown",
   "metadata": {},
   "source": [
    "---"
   ]
  },
  {
   "cell_type": "markdown",
   "metadata": {},
   "source": [
    "### Cluster Cryptocurrencies with K-means Using the PCA Data\n",
    "\n",
    "In this section, you will use the PCA data and the K-Means algorithm with the best value for `k` found in the previous section to cluster the cryptocurrencies according to the principal components.\n",
    "\n",
    "1. Initialize the K-Means model with four clusters using the best value for `k`. \n",
    "\n",
    "2. Fit the K-Means model using the PCA data.\n",
    "\n",
    "3. Predict the clusters to group the cryptocurrencies using the PCA data. View the resulting array of cluster values.\n",
    "\n",
    "4. Add a new column to the DataFrame with the PCA data to store the predicted clusters.\n",
    "\n",
    "5. Create a scatter plot using hvPlot by setting `x=\"price_change_percentage_24h\"` and `y=\"price_change_percentage_7d\"`. Color the graph points with the labels found using K-Means and add the crypto name in the `hover_cols` parameter to identify the cryptocurrency represented by each data point."
   ]
  },
  {
   "cell_type": "code",
   "execution_count": 33,
   "metadata": {},
   "outputs": [],
   "source": [
    "# Initialize the K-Means model using the best value for k\n",
    "model = KMeans(n_clusters = 4)"
   ]
  },
  {
   "cell_type": "code",
   "execution_count": 34,
   "metadata": {},
   "outputs": [
    {
     "data": {
      "text/plain": [
       "KMeans(n_clusters=4)"
      ]
     },
     "execution_count": 34,
     "metadata": {},
     "output_type": "execute_result"
    }
   ],
   "source": [
    "# Fit the K-Means model using the PCA data\n",
    "model.fit(df_market_data_scaled_pca)"
   ]
  },
  {
   "cell_type": "code",
   "execution_count": 35,
   "metadata": {},
   "outputs": [
    {
     "data": {
      "text/plain": [
       "array([0, 0, 1, 1, 0, 0, 0, 0, 0, 1, 1, 1, 1, 0, 1, 0, 1, 1, 0, 1, 1, 0,\n",
       "       1, 1, 1, 1, 1, 1, 0, 1, 1, 1, 2, 0, 1, 1, 3, 1, 1, 1, 1])"
      ]
     },
     "execution_count": 35,
     "metadata": {},
     "output_type": "execute_result"
    }
   ],
   "source": [
    "# Predict the clusters to group the cryptocurrencies using the PCA data\n",
    "market_data_clusters_pca = model.predict(df_market_data_scaled_pca)\n",
    "\n",
    "# View the resulting array of cluster values.\n",
    "market_data_clusters_pca"
   ]
  },
  {
   "cell_type": "code",
   "execution_count": 36,
   "metadata": {},
   "outputs": [
    {
     "data": {
      "text/html": [
       "<div>\n",
       "<style scoped>\n",
       "    .dataframe tbody tr th:only-of-type {\n",
       "        vertical-align: middle;\n",
       "    }\n",
       "\n",
       "    .dataframe tbody tr th {\n",
       "        vertical-align: top;\n",
       "    }\n",
       "\n",
       "    .dataframe thead th {\n",
       "        text-align: right;\n",
       "    }\n",
       "</style>\n",
       "<table border=\"1\" class=\"dataframe\">\n",
       "  <thead>\n",
       "    <tr style=\"text-align: right;\">\n",
       "      <th></th>\n",
       "      <th>PC1</th>\n",
       "      <th>PC2</th>\n",
       "      <th>PC3</th>\n",
       "      <th>Market Data Cluster</th>\n",
       "    </tr>\n",
       "    <tr>\n",
       "      <th>coin_id</th>\n",
       "      <th></th>\n",
       "      <th></th>\n",
       "      <th></th>\n",
       "      <th></th>\n",
       "    </tr>\n",
       "  </thead>\n",
       "  <tbody>\n",
       "    <tr>\n",
       "      <th>Bitcoin</th>\n",
       "      <td>-0.60067</td>\n",
       "      <td>0.84276</td>\n",
       "      <td>0.46159</td>\n",
       "      <td>0</td>\n",
       "    </tr>\n",
       "    <tr>\n",
       "      <th>Ethereum</th>\n",
       "      <td>-0.45826</td>\n",
       "      <td>0.45847</td>\n",
       "      <td>0.95288</td>\n",
       "      <td>0</td>\n",
       "    </tr>\n",
       "    <tr>\n",
       "      <th>Tether</th>\n",
       "      <td>-0.43307</td>\n",
       "      <td>-0.16813</td>\n",
       "      <td>-0.64175</td>\n",
       "      <td>1</td>\n",
       "    </tr>\n",
       "    <tr>\n",
       "      <th>Ripple</th>\n",
       "      <td>-0.47183</td>\n",
       "      <td>-0.22266</td>\n",
       "      <td>-0.47905</td>\n",
       "      <td>1</td>\n",
       "    </tr>\n",
       "    <tr>\n",
       "      <th>Bitcoin-cash</th>\n",
       "      <td>-1.15780</td>\n",
       "      <td>2.04121</td>\n",
       "      <td>1.85972</td>\n",
       "      <td>0</td>\n",
       "    </tr>\n",
       "  </tbody>\n",
       "</table>\n",
       "</div>"
      ],
      "text/plain": [
       "                  PC1      PC2      PC3  Market Data Cluster\n",
       "coin_id                                                     \n",
       "Bitcoin      -0.60067  0.84276  0.46159                    0\n",
       "Ethereum     -0.45826  0.45847  0.95288                    0\n",
       "Tether       -0.43307 -0.16813 -0.64175                    1\n",
       "Ripple       -0.47183 -0.22266 -0.47905                    1\n",
       "Bitcoin-cash -1.15780  2.04121  1.85972                    0"
      ]
     },
     "execution_count": 36,
     "metadata": {},
     "output_type": "execute_result"
    }
   ],
   "source": [
    "# Create a copy of the DataFrame with the PCA data\n",
    "df_market_data_clusters_pca = df_market_data_scaled_pca.copy()\n",
    "\n",
    "# Capitalize coin name for more effective visualizations\n",
    "df_market_data_clusters_pca.index = df_market_data_clusters.index.str.capitalize()\n",
    "\n",
    "# Add a new column to the DataFrame with the predicted clusters\n",
    "df_market_data_clusters_pca['Market Data Cluster'] = market_data_clusters_pca\n",
    "\n",
    "# Display sample data\n",
    "df_market_data_clusters_pca.head()"
   ]
  },
  {
   "cell_type": "code",
   "execution_count": 37,
   "metadata": {},
   "outputs": [
    {
     "data": {},
     "metadata": {},
     "output_type": "display_data"
    },
    {
     "data": {
      "application/vnd.holoviews_exec.v0+json": "",
      "text/html": [
       "<div id='2116'>\n",
       "\n",
       "\n",
       "\n",
       "\n",
       "\n",
       "  <div class=\"bk-root\" id=\"9af931e3-3906-4388-a27b-39a06f0a9047\" data-root-id=\"2116\"></div>\n",
       "</div>\n",
       "<script type=\"application/javascript\">(function(root) {\n",
       "  function embed_document(root) {\n",
       "    var docs_json = {\"6c2b25c9-eb05-4f60-b629-dca2b2397bd6\":{\"defs\":[{\"extends\":null,\"module\":null,\"name\":\"ReactiveHTML1\",\"overrides\":[],\"properties\":[]},{\"extends\":null,\"module\":null,\"name\":\"FlexBox1\",\"overrides\":[],\"properties\":[{\"default\":\"flex-start\",\"kind\":null,\"name\":\"align_content\"},{\"default\":\"flex-start\",\"kind\":null,\"name\":\"align_items\"},{\"default\":\"row\",\"kind\":null,\"name\":\"flex_direction\"},{\"default\":\"wrap\",\"kind\":null,\"name\":\"flex_wrap\"},{\"default\":\"flex-start\",\"kind\":null,\"name\":\"justify_content\"}]},{\"extends\":null,\"module\":null,\"name\":\"TemplateActions1\",\"overrides\":[],\"properties\":[{\"default\":0,\"kind\":null,\"name\":\"open_modal\"},{\"default\":0,\"kind\":null,\"name\":\"close_modal\"}]},{\"extends\":null,\"module\":null,\"name\":\"MaterialTemplateActions1\",\"overrides\":[],\"properties\":[{\"default\":0,\"kind\":null,\"name\":\"open_modal\"},{\"default\":0,\"kind\":null,\"name\":\"close_modal\"}]}],\"roots\":{\"references\":[{\"attributes\":{\"axis_label\":\"PC2\",\"axis_label_text_font_size\":\"15pt\",\"formatter\":{\"id\":\"2155\"},\"major_label_policy\":{\"id\":\"2161\"},\"major_label_text_font_size\":\"10pt\",\"ticker\":{\"id\":\"2138\"}},\"id\":\"2137\",\"type\":\"LinearAxis\"},{\"attributes\":{},\"id\":\"2138\",\"type\":\"BasicTicker\"},{\"attributes\":{\"label\":{\"value\":\"1\"},\"renderers\":[{\"id\":\"2193\"}]},\"id\":\"2205\",\"type\":\"LegendItem\"},{\"attributes\":{\"axis\":{\"id\":\"2137\"},\"dimension\":1,\"ticker\":{\"id\":\"2138\"}},\"id\":\"2140\",\"type\":\"Grid\"},{\"attributes\":{\"source\":{\"id\":\"2168\"}},\"id\":\"2175\",\"type\":\"CDSView\"},{\"attributes\":{\"axis_label\":\"PC1\",\"axis_label_text_font_size\":\"15pt\",\"formatter\":{\"id\":\"2154\"},\"major_label_policy\":{\"id\":\"2156\"},\"major_label_text_font_size\":\"10pt\",\"ticker\":{\"id\":\"2134\"}},\"id\":\"2133\",\"type\":\"LinearAxis\"},{\"attributes\":{\"click_policy\":\"mute\",\"items\":[{\"id\":\"2185\"},{\"id\":\"2205\"},{\"id\":\"2227\"},{\"id\":\"2251\"}],\"location\":[0,0],\"title\":\"Market Data Cluster\"},\"id\":\"2184\",\"type\":\"Legend\"},{\"attributes\":{\"angle\":{\"value\":0.0},\"fill_alpha\":{\"value\":1.0},\"fill_color\":{\"value\":\"#6d904f\"},\"hatch_alpha\":{\"value\":1.0},\"hatch_color\":{\"value\":\"black\"},\"hatch_scale\":{\"value\":12.0},\"hatch_weight\":{\"value\":1.0},\"line_alpha\":{\"value\":1.0},\"line_cap\":{\"value\":\"butt\"},\"line_color\":{\"value\":\"#6d904f\"},\"line_dash\":{\"value\":[]},\"line_dash_offset\":{\"value\":0},\"line_join\":{\"value\":\"bevel\"},\"line_width\":{\"value\":1},\"marker\":{\"value\":\"circle\"},\"size\":{\"value\":5.477225575051661},\"x\":{\"field\":\"PC1\"},\"y\":{\"field\":\"PC2\"}},\"id\":\"2252\",\"type\":\"Scatter\"},{\"attributes\":{},\"id\":\"2141\",\"type\":\"SaveTool\"},{\"attributes\":{},\"id\":\"2225\",\"type\":\"UnionRenderers\"},{\"attributes\":{},\"id\":\"2142\",\"type\":\"PanTool\"},{\"attributes\":{},\"id\":\"2145\",\"type\":\"ResetTool\"},{\"attributes\":{\"label\":{\"value\":\"0\"},\"renderers\":[{\"id\":\"2174\"}]},\"id\":\"2185\",\"type\":\"LegendItem\"},{\"attributes\":{},\"id\":\"2143\",\"type\":\"WheelZoomTool\"},{\"attributes\":{\"fill_alpha\":{\"value\":0.1},\"fill_color\":{\"value\":\"#6d904f\"},\"line_alpha\":{\"value\":0.1},\"line_color\":{\"value\":\"#6d904f\"},\"size\":{\"value\":5.477225575051661},\"x\":{\"field\":\"PC1\"},\"y\":{\"field\":\"PC2\"}},\"id\":\"2233\",\"type\":\"Scatter\"},{\"attributes\":{\"overlay\":{\"id\":\"2146\"}},\"id\":\"2144\",\"type\":\"BoxZoomTool\"},{\"attributes\":{\"source\":{\"id\":\"2207\"}},\"id\":\"2214\",\"type\":\"CDSView\"},{\"attributes\":{},\"id\":\"2188\",\"type\":\"Selection\"},{\"attributes\":{},\"id\":\"2203\",\"type\":\"UnionRenderers\"},{\"attributes\":{\"axis\":{\"id\":\"2133\"},\"ticker\":{\"id\":\"2134\"}},\"id\":\"2136\",\"type\":\"Grid\"},{\"attributes\":{\"fill_alpha\":{\"value\":0.1},\"fill_color\":{\"value\":\"#e5ae38\"},\"line_alpha\":{\"value\":0.1},\"line_color\":{\"value\":\"#e5ae38\"},\"size\":{\"value\":5.477225575051661},\"x\":{\"field\":\"PC1\"},\"y\":{\"field\":\"PC2\"}},\"id\":\"2211\",\"type\":\"Scatter\"},{\"attributes\":{},\"id\":\"2169\",\"type\":\"Selection\"},{\"attributes\":{\"data_source\":{\"id\":\"2207\"},\"glyph\":{\"id\":\"2210\"},\"hover_glyph\":null,\"muted_glyph\":{\"id\":\"2212\"},\"nonselection_glyph\":{\"id\":\"2211\"},\"selection_glyph\":{\"id\":\"2228\"},\"view\":{\"id\":\"2214\"}},\"id\":\"2213\",\"type\":\"GlyphRenderer\"},{\"attributes\":{\"end\":8.505125033189879,\"reset_end\":8.505125033189879,\"reset_start\":-1.5739067908649078,\"start\":-1.5739067908649078,\"tags\":[[[\"PC1\",\"PC1\",null]]]},\"id\":\"2118\",\"type\":\"Range1d\"},{\"attributes\":{\"label\":{\"value\":\"3\"},\"renderers\":[{\"id\":\"2235\"}]},\"id\":\"2251\",\"type\":\"LegendItem\"},{\"attributes\":{},\"id\":\"2156\",\"type\":\"AllLabels\"},{\"attributes\":{\"fill_alpha\":{\"value\":0.2},\"fill_color\":{\"value\":\"#30a2da\"},\"line_alpha\":{\"value\":0.2},\"line_color\":{\"value\":\"#30a2da\"},\"size\":{\"value\":5.477225575051661},\"x\":{\"field\":\"PC1\"},\"y\":{\"field\":\"PC2\"}},\"id\":\"2173\",\"type\":\"Scatter\"},{\"attributes\":{\"angle\":{\"value\":0.0},\"fill_alpha\":{\"value\":1.0},\"fill_color\":{\"value\":\"#fc4f30\"},\"hatch_alpha\":{\"value\":1.0},\"hatch_color\":{\"value\":\"black\"},\"hatch_scale\":{\"value\":12.0},\"hatch_weight\":{\"value\":1.0},\"line_alpha\":{\"value\":1.0},\"line_cap\":{\"value\":\"butt\"},\"line_color\":{\"value\":\"#fc4f30\"},\"line_dash\":{\"value\":[]},\"line_dash_offset\":{\"value\":0},\"line_join\":{\"value\":\"bevel\"},\"line_width\":{\"value\":1},\"marker\":{\"value\":\"circle\"},\"size\":{\"value\":5.477225575051661},\"x\":{\"field\":\"PC1\"},\"y\":{\"field\":\"PC2\"}},\"id\":\"2206\",\"type\":\"Scatter\"},{\"attributes\":{\"fill_alpha\":{\"value\":0.2},\"fill_color\":{\"value\":\"#e5ae38\"},\"line_alpha\":{\"value\":0.2},\"line_color\":{\"value\":\"#e5ae38\"},\"size\":{\"value\":5.477225575051661},\"x\":{\"field\":\"PC1\"},\"y\":{\"field\":\"PC2\"}},\"id\":\"2212\",\"type\":\"Scatter\"},{\"attributes\":{\"data\":{\"Market_Data_Cluster\":[3],\"PC1\":{\"__ndarray__\":\"YBQ7s2krE0A=\",\"dtype\":\"float64\",\"order\":\"little\",\"shape\":[1]},\"PC2\":{\"__ndarray__\":\"FlrQWxoSG0A=\",\"dtype\":\"float64\",\"order\":\"little\",\"shape\":[1]},\"PC3\":{\"__ndarray__\":\"N7CPQLHK/78=\",\"dtype\":\"float64\",\"order\":\"little\",\"shape\":[1]},\"coin_id\":[\"Celsius-degree-token\"]},\"selected\":{\"id\":\"2230\"},\"selection_policy\":{\"id\":\"2249\"}},\"id\":\"2229\",\"type\":\"ColumnDataSource\"},{\"attributes\":{\"format\":\"%.0f\"},\"id\":\"2154\",\"type\":\"PrintfTickFormatter\"},{\"attributes\":{\"data_source\":{\"id\":\"2168\"},\"glyph\":{\"id\":\"2171\"},\"hover_glyph\":null,\"muted_glyph\":{\"id\":\"2173\"},\"nonselection_glyph\":{\"id\":\"2172\"},\"selection_glyph\":{\"id\":\"2186\"},\"view\":{\"id\":\"2175\"}},\"id\":\"2174\",\"type\":\"GlyphRenderer\"},{\"attributes\":{\"data\":{\"Market_Data_Cluster\":[0,0,0,0,0,0,0,0,0,0,0,0,0],\"PC1\":{\"__ndarray__\":\"N/XQrqo447+40e2+JFTdvz0Tj0NZhvK/7NIJ1HGH4L/CWkdgdNjcv9b9x3tOHta/h21M83DI5L/guE+KvvmuP6YxxVNFeum/o86LH/eZ07/B3W/HIlbjvzzz5tCaNdu/uEmjFh7m2L8=\",\"dtype\":\"float64\",\"order\":\"little\",\"shape\":[13]},\"PC2\":{\"__ndarray__\":\"ygJY8+P36j9/P81egFfdP6tEN3tlVABAdqRxTss29j+9ZPC8/ZDgP4bE/UiRV+c/ey0795eo2z+U9tOGdUYHQEqknptkpN+/akNue2CC5j9mCxibCnrqP+V0su7rjN8/W0ntLg0gxT8=\",\"dtype\":\"float64\",\"order\":\"little\",\"shape\":[13]},\"PC3\":{\"__ndarray__\":\"r/WC8cOK3T8oXOVz933uPzR7hs1kwf0//WDUvvO66T9UuSi05sQGQOu44svwpfc/ECtJV6414z/2FfrnJfr3PzmzDFoyU/E/DD8btnVt+z+I7vGYwB3cP2KvViHE7fA/2v47Y1BI2D8=\",\"dtype\":\"float64\",\"order\":\"little\",\"shape\":[13]},\"coin_id\":[\"Bitcoin\",\"Ethereum\",\"Bitcoin-cash\",\"Binancecoin\",\"Chainlink\",\"Cardano\",\"Litecoin\",\"Monero\",\"Tezos\",\"Cosmos\",\"Wrapped-bitcoin\",\"Zcash\",\"Maker\"]},\"selected\":{\"id\":\"2169\"},\"selection_policy\":{\"id\":\"2182\"}},\"id\":\"2168\",\"type\":\"ColumnDataSource\"},{\"attributes\":{\"children\":[{\"id\":\"2117\"},{\"id\":\"2124\"},{\"id\":\"2379\"}],\"margin\":[0,0,0,0],\"name\":\"Row04109\",\"tags\":[\"embedded\"]},\"id\":\"2116\",\"type\":\"Row\"},{\"attributes\":{},\"id\":\"2134\",\"type\":\"BasicTicker\"},{\"attributes\":{},\"id\":\"2182\",\"type\":\"UnionRenderers\"},{\"attributes\":{\"bottom_units\":\"screen\",\"fill_alpha\":0.5,\"fill_color\":\"lightgrey\",\"left_units\":\"screen\",\"level\":\"overlay\",\"line_alpha\":1.0,\"line_color\":\"black\",\"line_dash\":[4,4],\"line_width\":2,\"right_units\":\"screen\",\"syncable\":false,\"top_units\":\"screen\"},\"id\":\"2146\",\"type\":\"BoxAnnotation\"},{\"attributes\":{\"text\":\"Cryptocurrency Clusters: Price Change, 24h vs 7d\",\"text_color\":\"black\",\"text_font_size\":\"20pt\"},\"id\":\"2125\",\"type\":\"Title\"},{\"attributes\":{\"active_multi\":null,\"tools\":[{\"id\":\"2120\"},{\"id\":\"2141\"},{\"id\":\"2142\"},{\"id\":\"2143\"},{\"id\":\"2144\"},{\"id\":\"2145\"}]},\"id\":\"2147\",\"type\":\"Toolbar\"},{\"attributes\":{\"format\":\"%.0f\"},\"id\":\"2155\",\"type\":\"PrintfTickFormatter\"},{\"attributes\":{\"callback\":null,\"renderers\":[{\"id\":\"2174\"},{\"id\":\"2193\"},{\"id\":\"2213\"},{\"id\":\"2235\"}],\"tooltips\":[[\"Coin Name:\",\"@coin_id\"],[\"24H Price Change:\",\"@price_change_percentage_24h{0.00}%\"],[\" 7D Price Change:\",\"@price_change_percentage_7d{0.00}%\"]]},\"id\":\"2120\",\"type\":\"HoverTool\"},{\"attributes\":{},\"id\":\"2161\",\"type\":\"AllLabels\"},{\"attributes\":{\"margin\":[5,5,5,5],\"name\":\"HSpacer04113\",\"sizing_mode\":\"stretch_width\"},\"id\":\"2117\",\"type\":\"Spacer\"},{\"attributes\":{},\"id\":\"2230\",\"type\":\"Selection\"},{\"attributes\":{\"margin\":[5,5,5,5],\"name\":\"HSpacer04114\",\"sizing_mode\":\"stretch_width\"},\"id\":\"2379\",\"type\":\"Spacer\"},{\"attributes\":{\"fill_alpha\":{\"value\":0.2},\"fill_color\":{\"value\":\"#fc4f30\"},\"line_alpha\":{\"value\":0.2},\"line_color\":{\"value\":\"#fc4f30\"},\"size\":{\"value\":5.477225575051661},\"x\":{\"field\":\"PC1\"},\"y\":{\"field\":\"PC2\"}},\"id\":\"2192\",\"type\":\"Scatter\"},{\"attributes\":{\"data\":{\"Market_Data_Cluster\":[2],\"PC1\":{\"__ndarray__\":\"RlWiy5MtIEA=\",\"dtype\":\"float64\",\"order\":\"little\",\"shape\":[1]},\"PC2\":{\"__ndarray__\":\"YQ3w8dQsD8A=\",\"dtype\":\"float64\",\"order\":\"little\",\"shape\":[1]},\"PC3\":{\"__ndarray__\":\"WCGRATtpAkA=\",\"dtype\":\"float64\",\"order\":\"little\",\"shape\":[1]},\"coin_id\":[\"Ethlend\"]},\"selected\":{\"id\":\"2208\"},\"selection_policy\":{\"id\":\"2225\"}},\"id\":\"2207\",\"type\":\"ColumnDataSource\"},{\"attributes\":{\"below\":[{\"id\":\"2133\"}],\"center\":[{\"id\":\"2136\"},{\"id\":\"2140\"}],\"height\":450,\"left\":[{\"id\":\"2137\"}],\"margin\":[5,5,5,5],\"min_border_bottom\":10,\"min_border_left\":10,\"min_border_right\":10,\"min_border_top\":10,\"renderers\":[{\"id\":\"2174\"},{\"id\":\"2193\"},{\"id\":\"2213\"},{\"id\":\"2235\"}],\"right\":[{\"id\":\"2184\"}],\"sizing_mode\":\"fixed\",\"title\":{\"id\":\"2125\"},\"toolbar\":{\"id\":\"2147\"},\"width\":1000,\"x_range\":{\"id\":\"2118\"},\"x_scale\":{\"id\":\"2129\"},\"y_range\":{\"id\":\"2119\"},\"y_scale\":{\"id\":\"2131\"}},\"id\":\"2124\",\"subtype\":\"Figure\",\"type\":\"Plot\"},{\"attributes\":{\"angle\":{\"value\":0.0},\"fill_alpha\":{\"value\":1.0},\"fill_color\":{\"value\":\"#e5ae38\"},\"hatch_alpha\":{\"value\":1.0},\"hatch_color\":{\"value\":\"black\"},\"hatch_scale\":{\"value\":12.0},\"hatch_weight\":{\"value\":1.0},\"line_alpha\":{\"value\":1.0},\"line_cap\":{\"value\":\"butt\"},\"line_color\":{\"value\":\"#e5ae38\"},\"line_dash\":{\"value\":[]},\"line_dash_offset\":{\"value\":0},\"line_join\":{\"value\":\"bevel\"},\"line_width\":{\"value\":1},\"marker\":{\"value\":\"circle\"},\"size\":{\"value\":5.477225575051661},\"x\":{\"field\":\"PC1\"},\"y\":{\"field\":\"PC2\"}},\"id\":\"2228\",\"type\":\"Scatter\"},{\"attributes\":{\"fill_color\":{\"value\":\"#e5ae38\"},\"line_color\":{\"value\":\"#e5ae38\"},\"size\":{\"value\":5.477225575051661},\"x\":{\"field\":\"PC1\"},\"y\":{\"field\":\"PC2\"}},\"id\":\"2210\",\"type\":\"Scatter\"},{\"attributes\":{\"angle\":{\"value\":0.0},\"fill_alpha\":{\"value\":1.0},\"fill_color\":{\"value\":\"#30a2da\"},\"hatch_alpha\":{\"value\":1.0},\"hatch_color\":{\"value\":\"black\"},\"hatch_scale\":{\"value\":12.0},\"hatch_weight\":{\"value\":1.0},\"line_alpha\":{\"value\":1.0},\"line_cap\":{\"value\":\"butt\"},\"line_color\":{\"value\":\"#30a2da\"},\"line_dash\":{\"value\":[]},\"line_dash_offset\":{\"value\":0},\"line_join\":{\"value\":\"bevel\"},\"line_width\":{\"value\":1},\"marker\":{\"value\":\"circle\"},\"size\":{\"value\":5.477225575051661},\"x\":{\"field\":\"PC1\"},\"y\":{\"field\":\"PC2\"}},\"id\":\"2186\",\"type\":\"Scatter\"},{\"attributes\":{\"data\":{\"Market_Data_Cluster\":[1,1,1,1,1,1,1,1,1,1,1,1,1,1,1,1,1,1,1,1,1,1,1,1,1,1],\"PC1\":{\"__ndarray__\":\"UpZ8amq3278kYXw2izLev+Lya5vXSei/BPxzoPfEz7+Qh/TX3g7cv5wZGVOKMOa/g0wjp68s2b+6A7sJMGewP9+yldMFTN+/E+kqwdFu4L8ZF4kx+yzXv8YSO2dvc9q/1hEoujMU2r+LZdmqtnzjP/NN1mNC0Ny/mdi9MiN46L8qsu9uVM3hv+VGFZE5agVAqSC8UEGl47/DvuS6vI7ivzEKKydStOs/0pK6/7yWvD+wXMBgQDzkv5UbmkYF++K/Gr1JmQJS3b8X4q/49hDTvw==\",\"dtype\":\"float64\",\"order\":\"little\",\"shape\":[26]},\"PC2\":{\"__ndarray__\":\"Z9F7TyqFxb9wj1UaIIDMv1DhzCbqwMm/xToUYyAF9r+JZsaEbXHGvxbJIJL6Ut6/DSu0IHiyu79wgFApNFH0v/egJl5vcue/k5KaSllHwr+tiEuGzZTvv2D5wy5akuW/it3jHmozy7+eF2SFdAjiPzMuIf2aVMO/H+uFsYSS4L9QbbiA5wL/vwyKJoz3k4y/c48PRXSt3r/z3rYoLM7Wv2z+1spVGALA+SEohoZp2z89qFKDbN0AwCsR7msnAJY/HvWtmbtfwb8FSPDBzXbIvw==\",\"dtype\":\"float64\",\"order\":\"little\",\"shape\":[26]},\"PC3\":{\"__ndarray__\":\"T7t5VzuJ5L+KSTWTzqjev0mUrAIN3Mu/8Kr7EnVk978P/lJRejrlv1hyk/IS4uC/Dxm8Gtwfir91XYUBzpTxv9oUXFTVArC/PyF0WpYC5b8AVI5j8FHnv4H08qLeOfG/mGZz6sF91r/ICOHdPmHyv0R48nyBt+S/2RXQLx89yj+lsLfpOzD0vz93wSB9cf+/REP+ZG+71T9o0VwT12y9v/9gemwmo9E/Y62/YE9J878v0Nf2C9/kvyUZv5hg3so/P4naNT5U5L9xpkIWdRvtvw==\",\"dtype\":\"float64\",\"order\":\"little\",\"shape\":[26]},\"coin_id\":[\"Tether\",\"Ripple\",\"Bitcoin-cash-sv\",\"Crypto-com-chain\",\"Usd-coin\",\"Eos\",\"Tron\",\"Okb\",\"Stellar\",\"Cdai\",\"Neo\",\"Leo-token\",\"Huobi-token\",\"Nem\",\"Binance-usd\",\"Iota\",\"Vechain\",\"Theta-token\",\"Dash\",\"Ethereum-classic\",\"Havven\",\"Omisego\",\"Ontology\",\"Ftx-token\",\"True-usd\",\"Digibyte\"]},\"selected\":{\"id\":\"2188\"},\"selection_policy\":{\"id\":\"2203\"}},\"id\":\"2187\",\"type\":\"ColumnDataSource\"},{\"attributes\":{},\"id\":\"2129\",\"type\":\"LinearScale\"},{\"attributes\":{\"fill_alpha\":{\"value\":0.1},\"fill_color\":{\"value\":\"#30a2da\"},\"line_alpha\":{\"value\":0.1},\"line_color\":{\"value\":\"#30a2da\"},\"size\":{\"value\":5.477225575051661},\"x\":{\"field\":\"PC1\"},\"y\":{\"field\":\"PC2\"}},\"id\":\"2172\",\"type\":\"Scatter\"},{\"attributes\":{},\"id\":\"2249\",\"type\":\"UnionRenderers\"},{\"attributes\":{\"label\":{\"value\":\"2\"},\"renderers\":[{\"id\":\"2213\"}]},\"id\":\"2227\",\"type\":\"LegendItem\"},{\"attributes\":{\"fill_color\":{\"value\":\"#fc4f30\"},\"line_color\":{\"value\":\"#fc4f30\"},\"size\":{\"value\":5.477225575051661},\"x\":{\"field\":\"PC1\"},\"y\":{\"field\":\"PC2\"}},\"id\":\"2190\",\"type\":\"Scatter\"},{\"attributes\":{\"source\":{\"id\":\"2229\"}},\"id\":\"2236\",\"type\":\"CDSView\"},{\"attributes\":{\"source\":{\"id\":\"2187\"}},\"id\":\"2194\",\"type\":\"CDSView\"},{\"attributes\":{\"data_source\":{\"id\":\"2187\"},\"glyph\":{\"id\":\"2190\"},\"hover_glyph\":null,\"muted_glyph\":{\"id\":\"2192\"},\"nonselection_glyph\":{\"id\":\"2191\"},\"selection_glyph\":{\"id\":\"2206\"},\"view\":{\"id\":\"2194\"}},\"id\":\"2193\",\"type\":\"GlyphRenderer\"},{\"attributes\":{\"end\":7.834135596337129,\"reset_end\":7.834135596337129,\"reset_start\":-4.963347456561397,\"start\":-4.963347456561397,\"tags\":[[[\"PC2\",\"PC2\",null]]]},\"id\":\"2119\",\"type\":\"Range1d\"},{\"attributes\":{\"fill_color\":{\"value\":\"#30a2da\"},\"line_color\":{\"value\":\"#30a2da\"},\"size\":{\"value\":5.477225575051661},\"x\":{\"field\":\"PC1\"},\"y\":{\"field\":\"PC2\"}},\"id\":\"2171\",\"type\":\"Scatter\"},{\"attributes\":{\"fill_alpha\":{\"value\":0.1},\"fill_color\":{\"value\":\"#fc4f30\"},\"line_alpha\":{\"value\":0.1},\"line_color\":{\"value\":\"#fc4f30\"},\"size\":{\"value\":5.477225575051661},\"x\":{\"field\":\"PC1\"},\"y\":{\"field\":\"PC2\"}},\"id\":\"2191\",\"type\":\"Scatter\"},{\"attributes\":{},\"id\":\"2208\",\"type\":\"Selection\"},{\"attributes\":{\"data_source\":{\"id\":\"2229\"},\"glyph\":{\"id\":\"2232\"},\"hover_glyph\":null,\"muted_glyph\":{\"id\":\"2234\"},\"nonselection_glyph\":{\"id\":\"2233\"},\"selection_glyph\":{\"id\":\"2252\"},\"view\":{\"id\":\"2236\"}},\"id\":\"2235\",\"type\":\"GlyphRenderer\"},{\"attributes\":{},\"id\":\"2131\",\"type\":\"LinearScale\"},{\"attributes\":{\"fill_color\":{\"value\":\"#6d904f\"},\"line_color\":{\"value\":\"#6d904f\"},\"size\":{\"value\":5.477225575051661},\"x\":{\"field\":\"PC1\"},\"y\":{\"field\":\"PC2\"}},\"id\":\"2232\",\"type\":\"Scatter\"},{\"attributes\":{\"fill_alpha\":{\"value\":0.2},\"fill_color\":{\"value\":\"#6d904f\"},\"line_alpha\":{\"value\":0.2},\"line_color\":{\"value\":\"#6d904f\"},\"size\":{\"value\":5.477225575051661},\"x\":{\"field\":\"PC1\"},\"y\":{\"field\":\"PC2\"}},\"id\":\"2234\",\"type\":\"Scatter\"}],\"root_ids\":[\"2116\"]},\"title\":\"Bokeh Application\",\"version\":\"2.3.2\"}};\n",
       "    var render_items = [{\"docid\":\"6c2b25c9-eb05-4f60-b629-dca2b2397bd6\",\"root_ids\":[\"2116\"],\"roots\":{\"2116\":\"9af931e3-3906-4388-a27b-39a06f0a9047\"}}];\n",
       "    root.Bokeh.embed.embed_items_notebook(docs_json, render_items);\n",
       "  }\n",
       "  if (root.Bokeh !== undefined && root.Bokeh.Panel !== undefined) {\n",
       "    embed_document(root);\n",
       "  } else {\n",
       "    var attempts = 0;\n",
       "    var timer = setInterval(function(root) {\n",
       "      if (root.Bokeh !== undefined && root.Bokeh.Panel !== undefined) {\n",
       "        clearInterval(timer);\n",
       "        embed_document(root);\n",
       "      } else if (document.readyState == \"complete\") {\n",
       "        attempts++;\n",
       "        if (attempts > 200) {\n",
       "          clearInterval(timer);\n",
       "          console.log(\"Bokeh: ERROR: Unable to run BokehJS code because BokehJS library is missing\");\n",
       "        }\n",
       "      }\n",
       "    }, 25, root)\n",
       "  }\n",
       "})(window);</script>"
      ],
      "text/plain": [
       ":NdOverlay   [Market Data Cluster]\n",
       "   :Scatter   [PC1]   (PC2,coin_id,PC3)"
      ]
     },
     "execution_count": 37,
     "metadata": {
      "application/vnd.holoviews_exec.v0+json": {
       "id": "2116"
      }
     },
     "output_type": "execute_result"
    }
   ],
   "source": [
    "# Create a scatter plot using hvPlot by setting \n",
    "# `x=\"price_change_percentage_24h\"` and `y=\"price_change_percentage_7d\"`. \n",
    "# Color the graph points with the labels found using K-Means and \n",
    "# add the crypto name in the `hover_cols` parameter to identify \n",
    "# the cryptocurrency represented by each data point.\n",
    "\n",
    "# Format for the axis ticks. Add to plot 'yformatter' option\n",
    "formatter = NumeralTickFormatter(format=('0.0'))\n",
    "\n",
    "# Format the labels and number format for hovering tooltips. Add to plot 'tools' option\n",
    "hover = HoverTool()\n",
    "hover.tooltips =[\n",
    "    ('Coin Name:','@coin_id'), \n",
    "    ('24H Price Change:', '@price_change_percentage_24h{0.00}%'),\n",
    "    (' 7D Price Change:', '@price_change_percentage_7d{0.00}%')   \n",
    "]\n",
    "\n",
    "df_market_data_clusters_pca.hvplot.scatter(\n",
    "    title =  'Cryptocurrency Clusters: Price Change, 24h vs 7d',\n",
    "    x = 'PC1',\n",
    "    xlabel = 'PC1',\n",
    "    y = 'PC2',\n",
    "    ylabel = 'PC2',\n",
    "    by = 'Market Data Cluster',\n",
    "    hover_cols = ['coin_id', 'PC1', 'PC2', 'PC3'],\n",
    "    tools = [hover],\n",
    "    yformatter = '%.0f',\n",
    "    xformatter = '%.0f',\n",
    "    width = 1000,\n",
    "    height = 450,\n",
    "    fontsize = {'title': '20pt', 'xlabel': '15pt', 'ylabel': '15pt', 'ticks': '10pt'},\n",
    "    grid = True\n",
    ")"
   ]
  },
  {
   "cell_type": "markdown",
   "metadata": {},
   "source": [
    "---"
   ]
  },
  {
   "cell_type": "markdown",
   "metadata": {},
   "source": [
    "### Visualize and Compare the Results\n",
    "\n",
    "In this section, you will visually analyze the cluster analysis results by contrasting the outcome with and without using the optimization techniques.\n",
    "\n",
    "1. Create a composite plot using hvPlot and the plus (`+`) operator to contrast the Elbow Curve that you created to find the best value for `k` with the original and the PCA data.\n",
    "\n",
    "2. Create a composite plot using hvPlot and the plus (`+`) operator to contrast the cryptocurrencies clusters using the original and the PCA data.\n",
    "\n",
    "3. Answer the following question: After visually analyzing the cluster analysis results, what is the impact of using fewer features to cluster the data using K-Means?\n",
    "\n",
    "> **Rewind:** Back in Lesson 3 of Module 6, you learned how to create composite plots. You can look at that lesson to review how to make these plots; also, you can check [the hvPlot documentation](https://holoviz.org/tutorial/Composing_Plots.html)."
   ]
  },
  {
   "cell_type": "code",
   "execution_count": 38,
   "metadata": {},
   "outputs": [],
   "source": [
    "# Composite plot to contrast the Elbow curves\n",
    "# YOUR CODE HERE!"
   ]
  },
  {
   "cell_type": "code",
   "execution_count": 39,
   "metadata": {},
   "outputs": [],
   "source": [
    "# Compoosite plot to contrast the clusters\n",
    "# YOUR CODE HERE!"
   ]
  },
  {
   "cell_type": "markdown",
   "metadata": {},
   "source": [
    "#### Answer the following question: After visually analyzing the cluster analysis results, what is the impact of using fewer features to cluster the data using K-Means?\n",
    "\n",
    "  * **Question:** After visually analyzing the cluster analysis results, what is the impact of using fewer features to cluster the data using K-Means?\n",
    "\n",
    "  * **Answer:** # YOUR ANSWER HERE!"
   ]
  }
 ],
 "metadata": {
  "kernelspec": {
   "display_name": "dev",
   "language": "python",
   "name": "dev"
  },
  "language_info": {
   "codemirror_mode": {
    "name": "ipython",
    "version": 3
   },
   "file_extension": ".py",
   "mimetype": "text/x-python",
   "name": "python",
   "nbconvert_exporter": "python",
   "pygments_lexer": "ipython3",
   "version": "3.7.10"
  }
 },
 "nbformat": 4,
 "nbformat_minor": 4
}
